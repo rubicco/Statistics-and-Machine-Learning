{
 "cells": [
  {
   "cell_type": "markdown",
   "metadata": {},
   "source": [
    "# Lab 2B: Functional programming, and declarative patterns\n"
   ]
  },
  {
   "cell_type": "markdown",
   "metadata": {},
   "source": [
    "---\n",
    "**GroupNo: 4**\n",
    "\n",
    "\n",
    "**Student:** mimte666\n",
    "\n",
    "**Student:** steto820\n",
    "\n",
    "---"
   ]
  },
  {
   "cell_type": "markdown",
   "metadata": {},
   "source": [
    "Disclaimer: Functional programming in Python does not always lead to the fastest possible code, and is often not considered the *pythonic* approach. However, functional programming is the basis for many concurrent systems (the MapReduce programming model which many big data systems, e.g. Hadoop, relies on gets its name from the *map* and *reduce* functions mentioned below). Python is a multi-paradigm language, and functional programming is one of the main paradigms one can use. To understand how and when to do this, it is necessary to do things in a non-*pythonic* way in order to cover the basics."
   ]
  },
  {
   "cell_type": "markdown",
   "metadata": {},
   "source": [
    "## General instructions\n",
    "\n",
    "In this lab there are some general rules you should keep in mind to make sure you are on the correct path in your solutions.\n",
    "\n",
    "#### Rules\n",
    "1. You are not allowed to use `while` or `for` statements unless this is explicitly allowed in the task.\n",
    "2. You are not allowed to use global variables (other than for functions defined in the global environment).\n",
    "3. Code stubs should be viewed as fixed, you are only allowed to add code, the only code you are allowed to change is `pass` statements, which you should remove.\n",
    "4. You should refrain from using the `list` datatype unless otherwise specified and instead use `tuple`. One of the strengths of functional programming is its focus on immutable data types (this is why functional programming and concurrency goes so well together). Incidentally, one might find speedups when using the immutable tuples instead of lists.\n",
    "\n",
    "#### Advice\n",
    "1. Avoid local variables unless you are certain they are necessary, in most cases you won't need to use local variables. (altermatively, use local variables to your hearts content, but when your solution works, try to eliminate them, you should be able to eliminate most of them, over time, you might find that you don't need them.)"
   ]
  },
  {
   "cell_type": "markdown",
   "metadata": {},
   "source": [
    "# 2 Recursion\n",
    "\n",
    "As an introduction to linear recursion, read the introductory note on the course webpage. This might help explain terms that you may not know (even if the concept is previously known)."
   ]
  },
  {
   "cell_type": "markdown",
   "metadata": {},
   "source": [
    "## 2.1 Linear recursion"
   ]
  },
  {
   "cell_type": "markdown",
   "metadata": {},
   "source": [
    "a) Write a recursive function `sum_even(n)` that takes a natural number $n\\geq 0$ and returns the sum of all even numbers $0,...,n$. It should be linear-recursive with delayed computations."
   ]
  },
  {
   "cell_type": "code",
   "execution_count": null,
   "metadata": {},
   "outputs": [],
   "source": [
    "def sum_even(n):\n",
    "    if(n==0):\n",
    "        return(n)\n",
    "    if(n%2==1):\n",
    "        return(n - 1 + sum_even(n-3))\n",
    "    else:\n",
    "        return(n + sum_even(n-2))\n",
    "sum_even(6)"
   ]
  },
  {
   "cell_type": "markdown",
   "metadata": {},
   "source": [
    "b) Write `sum_even_it(n)` according to the same specification. In this case, the solution should be tail recursive."
   ]
  },
  {
   "cell_type": "code",
   "execution_count": null,
   "metadata": {},
   "outputs": [],
   "source": [
    "# Your code here.\n",
    "def sum_even_it(n, a=0):\n",
    "    if(n==0):\n",
    "        return(a)\n",
    "    if(n%2==1):\n",
    "        return(sum_even_it(n-3, a + n - 1))\n",
    "    else:\n",
    "        return(sum_even_it(n-2, a + n))\n",
    "\n",
    "sum_even_it(7)"
   ]
  },
  {
   "cell_type": "markdown",
   "metadata": {},
   "source": [
    "c) We can of course express this in a declarative and Pythonic way, which is non-recursive. Write a function `sum_even_py` which returns the same result as above, but using comprehension or filter/map/reduce construct."
   ]
  },
  {
   "cell_type": "code",
   "execution_count": null,
   "metadata": {},
   "outputs": [],
   "source": [
    "def sum_even_py(n):\n",
    "    return(sum(filter(lambda x: x%2==0, range(n+1))))\n",
    "sum_even_py(7)"
   ]
  },
  {
   "cell_type": "markdown",
   "metadata": {},
   "source": [
    "## 2.2 Double/tree recursion"
   ]
  },
  {
   "cell_type": "markdown",
   "metadata": {},
   "source": [
    "Sometimes we might find ourselves with branching structures, where there are several \"smaller\" cases to recurse over. This might for instance be the case when we have trees, lists-within-lists or the like."
   ]
  },
  {
   "cell_type": "markdown",
   "metadata": {},
   "source": [
    "[Note: In the tasks below, it might be helpful to gain an understanding of `isinstance`. See the documentation!]"
   ]
  },
  {
   "cell_type": "markdown",
   "metadata": {},
   "source": [
    "a) One common use of recursion is to traverse recursive data structures. One exercise might be to _flatten_ nested lists or tuples. This is relatively simple with only one level of nesting, or when the structure follows a strict pattern, but for arbitrary nested sequences, a recursive approach is more natural. Implement a recursive function `myflatten` which can take an arbitrary structure of nested tuples and flattens it (in the sense of returning a new non-nested tuple with the same elements in the same order)."
   ]
  },
  {
   "cell_type": "code",
   "execution_count": null,
   "metadata": {},
   "outputs": [],
   "source": [
    "def myflatten(seq):\n",
    "    if not seq:\n",
    "        return seq\n",
    "    elif isinstance(seq[0], tuple):\n",
    "        return myflatten(seq[0]) + myflatten(seq[1:])\n",
    "    return tuple((seq[0],)) + myflatten(seq[1:])\n",
    "    \n",
    "def test_myflatten():\n",
    "    tests = (\n",
    "     ((), (), \"the empty tuple\"), \n",
    "     ((1,2,3), (1,2,3), \"flat tuples invariant under flattening\"), \n",
    "     ( (1, (2), 3, (4, 5, (6), 7), 8), (1, 2, 3, 4, 5, 6, 7, 8), \"Arbitrarily nested tuples.\")\n",
    "    )\n",
    "    for arg, expected_output, error_msg in tests:\n",
    "        assert myflatten(arg) == expected_output, error_msg\n",
    "    print(\"test_myflatten run successfully!\")\n",
    "\n",
    "test_myflatten()    # Uncomment this line to run tests."
   ]
  },
  {
   "cell_type": "markdown",
   "metadata": {},
   "source": [
    "b) Implement a function `exists_in(e, seq)` which returns `True` if the element `e` exists somewhere in the tuple `seq` (and `False` otherwise). `seq` might be nested and contain tuples-within-tuples."
   ]
  },
  {
   "cell_type": "code",
   "execution_count": null,
   "metadata": {},
   "outputs": [],
   "source": [
    "def exists_in(e, seq):\n",
    "    if not seq:\n",
    "        return False    \n",
    "    elif isinstance(seq[0], tuple):\n",
    "        return True if exists_in(e, seq[0]) else exists_in(e, seq[1:])\n",
    "    else:\n",
    "        return True if seq[0] == e else exists_in(e, seq[1:])\n",
    "    \n",
    "exists_in(1, (2,3,(2,3,(21)),1))\n"
   ]
  },
  {
   "cell_type": "markdown",
   "metadata": {},
   "source": [
    "c) Write a few representative test cases, as in lab 2A."
   ]
  },
  {
   "cell_type": "code",
   "execution_count": null,
   "metadata": {},
   "outputs": [],
   "source": [
    "def test_find_anywhere():\n",
    "    tests = (\n",
    "        ((32442,()),False,'empty tuple'),\n",
    "        ((1,(2,3,(6,(1,4)),5)),True,'expected item could be found in nested tuple'),\n",
    "        ((1,(2,3,4)),False,'expected item could not be found in nested tuple'),\n",
    "    )\n",
    "    \n",
    "    for arg, expected_output, error_msg in tests:\n",
    "        assert exists_in(*arg) == expected_output, error_msg\n",
    "    print(\"test find anywhere function run! successfully\")\n",
    "\n",
    "test_find_anywhere()"
   ]
  },
  {
   "cell_type": "markdown",
   "metadata": {},
   "source": [
    "d) One of the most famous recursive functions is the Quicksort function (https://en.wikipedia.org/wiki/Quicksort). It allows us to sort a sequence, with repeated values, in (amortized) log-linear time and with a logarithmic number of recursive calls. We will start by implementing Quicksort for a tuple of numbers.\n",
    "\n",
    "Note that Wikipedia illustrates a more advanced _in-place_ version of Quicksort, with a more advanced partition function. For the purposes of this assignment, you can simply pass a new tuple or generator to each recursive call to quicksort. You may use eg _filter_ or a comprehension to create the inputs."
   ]
  },
  {
   "cell_type": "code",
   "execution_count": 74,
   "metadata": {},
   "outputs": [
    {
     "name": "stdout",
     "output_type": "stream",
     "text": [
      "True\n"
     ]
    }
   ],
   "source": [
    "from random import sample, choice\n",
    "\n",
    "# with comprehension\n",
    "def quicksort(part):\n",
    "    if not part:\n",
    "        return part\n",
    "    pivot = part[0]\n",
    "    left = [x for x in part[1:] if x<pivot]\n",
    "    right = [x for x in part[1:] if x>=pivot]\n",
    "    return(quicksort(left) + list([pivot]) + quicksort(right))\n",
    "\n",
    "\n",
    "\n",
    "a = tuple(sample(range(1000,2000), 1000))\n",
    "#print(a)\n",
    "b = quicksort(a)\n",
    "print(b==sorted(a))\n"
   ]
  },
  {
   "cell_type": "markdown",
   "metadata": {},
   "source": [
    "## 3 Higher order functions (HOF)\n",
    " \n",
    "A _higher-order function_ is a function which operates on other functions. What this means exactly is disputed, but we will call any function which returns a function or takes a function as an argument a higher-order function. (Conversely, a function neither taking another function as input nor returning a function we will refer to as a _first-order function_)\n",
    "\n",
    "In R you have encountered these when, for instance, using the `apply` family of functions, which are all versions of what is called a `map` function in functional programming (see below).\n",
    "\n",
    "When using higher-order functions, it is often useful to create simple anonymous functions at the place in the code where they are used, rather than defining a new named function in one place only to call it in a single other place. In R, all functions are created in this way with the `function` keyword, but they are usually assigned to global names with standard assignment (`<-`). Python provides similar functionality using the `lambda` keyword (name inspired by Alonzo Church's [$\\lambda$-calculus](https://www.youtube.com/watch?v=eis11j_iGMs) which has inspired much of functional programming) with which we can create anonymous functions. Of course, we can also pass named functions to higher-order functions, which is usually the case when the function is predefined, general enough to be used in more than one place, or complex enough to warrant separate definition and documentation for the sake of clarity."
   ]
  },
  {
   "cell_type": "markdown",
   "metadata": {},
   "source": [
    "## 3.1 The three standard functions `map`, `reduce` and `filter`\n",
    "\n",
    "There are three standard cases which are widely applicable and many other higher-order functions are special cases or combinations of these. They are: `map`, apply a function on each element in a sequence, `filter`, keep (or conversely, remove) elements from a sequence according to some condition, and `reduce`, combine the elements in a sequence. The `map` function takes a sequence and a function (usually of 1 parameter) which is to be applied to each element of the sequence and might return anything, this function is assumed not to have side effects. The `filter` function takes a function (usually of 1 parameter) which returns a boolean value used to indicate which elements are to be kept. The `reduce` function takes a function (usually of 2 parameters) which is used to combine the elements in the sequence.\n",
    "\n",
    "In Python, `map` and `filter` are standard built-in functions. Since Python 3, the `reduce` function needs to be imported from the `functools` module.\n",
    "\n",
    "Many more advanced functions, of any order, can be created by combining these three higher-order functions.\n",
    "\n",
    "A note from last year: usually, the `reduce` function is more difficult to grasp than `map` and `filter` but I found this blog-post by André Burgaud to be a nice introduction to `reduce`. Note that Burgaud talks about the more general _fold_ concept rather than `reduce`, which is a special case of fold often called _left fold_ (this is covered in more detail in the post). https://www.burgaud.com/foldl-foldr-python/"
   ]
  },
  {
   "cell_type": "markdown",
   "metadata": {},
   "source": [
    "a) Implement a function `mysum` which computes the sum of a list or tuple of numbers using the reduce function and a lambda function."
   ]
  },
  {
   "cell_type": "code",
   "execution_count": 2,
   "metadata": {},
   "outputs": [
    {
     "data": {
      "text/plain": [
       "12"
      ]
     },
     "execution_count": 2,
     "metadata": {},
     "output_type": "execute_result"
    }
   ],
   "source": [
    "from functools import reduce\n",
    "\n",
    "def mysum(seq):\n",
    "    return reduce(lambda x,y: x+y, seq)\n",
    "\n",
    "mysum((4, 7, 1))"
   ]
  },
  {
   "cell_type": "markdown",
   "metadata": {},
   "source": [
    "b) Implement a function `mylength` which uses `map` and `reduce` to compute the length of a sequence. The use of the `len` function is not allowed.\n",
    "\n",
    "[Hint: Use `map` to convert the input to something which can easily be `reduce`:d.]"
   ]
  },
  {
   "cell_type": "code",
   "execution_count": 3,
   "metadata": {},
   "outputs": [
    {
     "name": "stdout",
     "output_type": "stream",
     "text": [
      "5\n",
      "4\n"
     ]
    }
   ],
   "source": [
    "def mylength(seq):\n",
    "    return reduce(lambda x,y: x+y, map(lambda x:1, seq))\n",
    "    \n",
    "print(mylength((4, 2, 5, 2, 5)))\n",
    "print(mylength(\"test\"))"
   ]
  },
  {
   "cell_type": "markdown",
   "metadata": {},
   "source": [
    "## 3.2 Building your own higher order functions"
   ]
  },
  {
   "cell_type": "markdown",
   "metadata": {},
   "source": [
    "a) Re-implement the three basic functional helper functions `map`, `filter` and `reduce` **as purely functional recursive functions**. You may not express this as eg comprehensions; the task is to practice figuring out this type of logic.\n",
    "\n",
    "Note that the built-in versions of these functions work on multiple sequences of equal length if supplied, however, you can assume a single sequence as second parameter, i.e. you can also skip the third parameter to reduce."
   ]
  },
  {
   "cell_type": "code",
   "execution_count": null,
   "metadata": {},
   "outputs": [],
   "source": [
    "def mymap(f, seq):\n",
    "    if not seq:\n",
    "        return seq\n",
    "    else:\n",
    "        return tuple((f(seq[0]),)) + mymap(f, seq[1:])\n",
    "\n",
    "mymap(lambda x:x**2, tuple(range(10)))"
   ]
  },
  {
   "cell_type": "code",
   "execution_count": null,
   "metadata": {},
   "outputs": [],
   "source": [
    "def myfilter(f, seq):\n",
    "    if not seq:\n",
    "        return seq\n",
    "    else:\n",
    "        return tuple((seq[0],) if f(seq[0]) else ()) + myfilter(f, seq[1:])\n",
    "\n",
    "myfilter(lambda x:x%2==0, tuple(range(10)))"
   ]
  },
  {
   "cell_type": "markdown",
   "metadata": {},
   "source": [
    "You might note the similarities with how you implemented `sum_even`."
   ]
  },
  {
   "cell_type": "code",
   "execution_count": null,
   "metadata": {},
   "outputs": [],
   "source": [
    "def myreduce(f, seq):\n",
    "    if len(seq)==2:\n",
    "        return f(seq[0], seq[1])\n",
    "    else:\n",
    "        return myreduce(f, tuple((f(seq[0], seq[1]),)) + seq[2:])\n",
    "\n",
    "myreduce(lambda x, y: x*y, tuple(range(1,7)))"
   ]
  },
  {
   "cell_type": "markdown",
   "metadata": {},
   "source": [
    "## 3.3 Returning functions\n",
    "\n",
    "The previous section covered functions which take other functions as input, but what about the opposite, functions returning functions as output?"
   ]
  },
  {
   "cell_type": "markdown",
   "metadata": {},
   "source": [
    "a) Function composition is a common in both maths and programming. Write a function `compose` which takes two functions, $f$ and $g$, and produces the _composite_ function $f \\circ g$, where $(f \\circ g)(x) \\Leftrightarrow f(g(x))$. Example use is given below."
   ]
  },
  {
   "cell_type": "code",
   "execution_count": null,
   "metadata": {
    "scrolled": true
   },
   "outputs": [],
   "source": [
    "from statistics import stdev, mean\n",
    "\n",
    "def compose(f, g):\n",
    "    return lambda x: f(g(x))\n",
    "\n",
    "def myscale(vals):\n",
    "    return [x/stdev(vals) for x in vals]\n",
    "\n",
    "def myshift(vals):\n",
    "    return [x-mean(vals) for x in vals]\n",
    "\n",
    "standardize = compose(myscale, myshift)\n",
    "\n",
    "print(standardize(range(-3, 8)))"
   ]
  },
  {
   "cell_type": "markdown",
   "metadata": {},
   "source": [
    "b) Create a function `composition(*funs)` which takes a non-empty sequence of functions of one argument and returns their sequential composition. That is $composition(f_0,f_1, \\ldots, f_n) = f_0 \\circ f_1 \\circ\\ldots \\circ f_n$. (The question of if $f\\circ g \\circ h$ should be read $f\\circ (g\\circ h)$ or $(f \\circ g) \\circ h$ is perfectly valid, but they turn out to be the same. That is, $\\circ$ is associative.)"
   ]
  },
  {
   "cell_type": "code",
   "execution_count": null,
   "metadata": {},
   "outputs": [],
   "source": [
    "def composition(*funs):\n",
    "    return reduce(compose, funs)\n",
    "\n",
    "standardize = composition(myscale, myshift)\n",
    "print(standardize(range(-3, 8)))"
   ]
  },
  {
   "cell_type": "markdown",
   "metadata": {},
   "source": [
    "Hint: Don't remember what can be found in `*funs`? Print it! Don't know how the values should be combined? Write out some simple example on paper."
   ]
  },
  {
   "cell_type": "markdown",
   "metadata": {},
   "source": [
    "Note: This task demonstrates the generality of our constructs. Previously we worked with sequences of numbers and the like. Now we lift this to the level of working with functions as values, and instead of using combinators which work on numbers, we use function combinators in conjunction with our known patterns."
   ]
  },
  {
   "cell_type": "markdown",
   "metadata": {},
   "source": [
    "### Voluntary task: pipelining\n",
    "\n",
    "When doing data analysis, one very important part is pre-processing. Often, data goes through a number of steps of preprocessing, sometimes called a pipeline. The function composition example above can be seen as a special case of such a pipeline for only two functions. By clever use of higher order functions, we can build a pipeline function which takes a list or tuple of data transforming functions and creates a function which applies these sequentially. Construct such a function called `make_pipeline`. In order to focus on the primary purpose of the `make_pipeline` function, we will perform a very simple set of transformations, increment each value by 1, take the absolute value, and then take the square root. Usage example and code for the `inc` function is supplied below.\n",
    "\n",
    "You may want to use functions you have defined above."
   ]
  },
  {
   "cell_type": "code",
   "execution_count": null,
   "metadata": {
    "scrolled": false
   },
   "outputs": [],
   "source": [
    "from functools import reduce, partial\n",
    "from math import sqrt \n",
    "\n",
    "\n",
    "def make_pipeline(*funs):\n",
    "    return lambda vals: ???\n",
    "\n",
    "# We can even drop the lambda vals : bit, using partial\n",
    "# evaluation (see the help for functools.partial!)\n",
    "\n",
    "def inc(x):\n",
    "    return x+1\n",
    "\n",
    "pipeline = make_pipeline(inc, abs, sqrt)\n",
    "\n",
    "tuple(pipeline(range(-5,5)))"
   ]
  },
  {
   "cell_type": "markdown",
   "metadata": {},
   "source": [
    "## 4. Simple declarative Pythonic patterns (involing HOF)"
   ]
  },
  {
   "cell_type": "markdown",
   "metadata": {},
   "source": [
    "a) As preparation, create a named tuple type \"coord\" which has fields `x` and `y`."
   ]
  },
  {
   "cell_type": "code",
   "execution_count": 3,
   "metadata": {},
   "outputs": [],
   "source": [
    "from collections import namedtuple\n",
    "coord = namedtuple(\"coord\", [\n",
    "    \"x\",\n",
    "    \"y\"\n",
    "])\n",
    "\n",
    "five_three = coord(5,3)\n",
    "assert five_three.x == 5, \"first element is the x coordinate\"\n",
    "assert five_three.y == 3, \"the second element is the y coordinate\""
   ]
  },
  {
   "cell_type": "markdown",
   "metadata": {},
   "source": [
    "b) Generate a $10^7$ random coordinates, with $x$ and $y$ coordinates drawn uniformly from [-1000,1000]. Save the tuple of those with $x + y > 0$ as `rnd_coords`. How many are there?"
   ]
  },
  {
   "cell_type": "code",
   "execution_count": 4,
   "metadata": {},
   "outputs": [
    {
     "data": {
      "text/plain": [
       "1000"
      ]
     },
     "execution_count": 4,
     "metadata": {},
     "output_type": "execute_result"
    }
   ],
   "source": [
    "from random import uniform\n",
    "\n",
    "coord_sample = tuple(map(lambda x: coord(uniform(-1000,1000),uniform(-1000,1000)), range(10**3)))\n",
    "len(coord_sample)"
   ]
  },
  {
   "cell_type": "code",
   "execution_count": 5,
   "metadata": {},
   "outputs": [
    {
     "data": {
      "text/plain": [
       "519"
      ]
     },
     "execution_count": 5,
     "metadata": {},
     "output_type": "execute_result"
    }
   ],
   "source": [
    "rnd_coords = tuple(filter(lambda coord: coord.x + coord.y > 0, coord_sample))\n",
    "len(rnd_coords)"
   ]
  },
  {
   "cell_type": "markdown",
   "metadata": {},
   "source": [
    "[Note: If this takes a while, you might want to consider when the elements are generated and saved.]"
   ]
  },
  {
   "cell_type": "markdown",
   "metadata": {},
   "source": [
    "**Before having solved the tasks below, consider setting `coords` to a smaller set (eg generate $10^3$ elements instead of $10^7$ to start with).**"
   ]
  },
  {
   "cell_type": "markdown",
   "metadata": {},
   "source": [
    "c) Let `sorted_rnd` be the coordinated sorted first by the `x` component and then the `y`. Use a built-in Python sorting function. Do you need any extra parameters? Why? Why not? How would you find out where the order comes from (and might it be consistent but useless, eg sorting the elements by memory location)?"
   ]
  },
  {
   "cell_type": "code",
   "execution_count": 16,
   "metadata": {},
   "outputs": [
    {
     "data": {
      "text/plain": [
       "[coord(x=0, y=1),\n",
       " coord(x=1, y=1),\n",
       " coord(x=1, y=5),\n",
       " coord(x=1, y=9),\n",
       " coord(x=2, y=3)]"
      ]
     },
     "execution_count": 16,
     "metadata": {},
     "output_type": "execute_result"
    }
   ],
   "source": [
    "a = [coord(1,9),coord(1,1), coord(1,5), coord(2,3),coord(0,1)]\n",
    "\n",
    "sorted(a)"
   ]
  },
  {
   "cell_type": "code",
   "execution_count": 6,
   "metadata": {},
   "outputs": [
    {
     "data": {
      "text/plain": [
       "[coord(x=-882.8832259427566, y=959.8436976366106),\n",
       " coord(x=-851.7264608198407, y=876.1981663514696),\n",
       " coord(x=-817.828022227185, y=822.0129524121824),\n",
       " coord(x=-812.7425080236123, y=837.9913153638465),\n",
       " coord(x=-794.0538671270411, y=807.8877568489802),\n",
       " coord(x=-777.50237781489, y=912.224104307076),\n",
       " coord(x=-772.008074032793, y=825.3452519640457),\n",
       " coord(x=-760.5861947983203, y=989.7652218707981),\n",
       " coord(x=-760.0305730426389, y=857.5070316175791),\n",
       " coord(x=-745.3881691077765, y=998.5809639220795),\n",
       " coord(x=-741.8922252037394, y=859.3113328257477),\n",
       " coord(x=-741.1163655800001, y=940.2824413351716),\n",
       " coord(x=-716.1151369957092, y=902.0438652657592),\n",
       " coord(x=-687.1742609125808, y=780.6169963213201),\n",
       " coord(x=-660.2242253974932, y=714.7084743857856),\n",
       " coord(x=-659.5066654743617, y=955.2887466446025),\n",
       " coord(x=-655.1487039891342, y=730.8442072787786),\n",
       " coord(x=-634.4664650647949, y=903.8896852464229),\n",
       " coord(x=-627.4238066859225, y=800.9210899443203),\n",
       " coord(x=-625.6578357391788, y=796.1883089169532),\n",
       " coord(x=-601.7990458262011, y=867.5286509078157),\n",
       " coord(x=-592.0851940227456, y=808.0237301776635),\n",
       " coord(x=-589.0992829728518, y=619.3796769826909),\n",
       " coord(x=-586.6929447046587, y=786.853444865732),\n",
       " coord(x=-584.8221335545068, y=644.5417462014839),\n",
       " coord(x=-579.482202960442, y=610.1346378217866),\n",
       " coord(x=-579.3852507997381, y=621.2224619401284),\n",
       " coord(x=-565.4234168631101, y=939.9867377539351),\n",
       " coord(x=-553.326898381129, y=721.6843241155686),\n",
       " coord(x=-552.1202082164181, y=692.2406883778633),\n",
       " coord(x=-514.1178312563624, y=795.8206222310434),\n",
       " coord(x=-512.3682517482487, y=987.1008508336267),\n",
       " coord(x=-504.72337996030234, y=787.7319783664827),\n",
       " coord(x=-498.0452409218754, y=601.0360051303919),\n",
       " coord(x=-490.8443030245193, y=962.5558829716467),\n",
       " coord(x=-486.8670450354873, y=585.2752307972833),\n",
       " coord(x=-486.36469579614675, y=956.8385555771506),\n",
       " coord(x=-474.6636181221651, y=644.5902290076533),\n",
       " coord(x=-472.3294345220246, y=711.3012800054721),\n",
       " coord(x=-459.63351893868537, y=774.6238315092285),\n",
       " coord(x=-456.84687094661274, y=573.7265780987657),\n",
       " coord(x=-453.8086977597691, y=879.2748418176775),\n",
       " coord(x=-439.3590695451195, y=902.9916009220419),\n",
       " coord(x=-417.4780250037991, y=670.0435338206739),\n",
       " coord(x=-413.6750557127764, y=589.4136083050341),\n",
       " coord(x=-412.8606588771131, y=887.3055121345135),\n",
       " coord(x=-406.02173393159455, y=631.4053920615311),\n",
       " coord(x=-405.4800214174552, y=733.8763874496735),\n",
       " coord(x=-399.0382392310871, y=611.598097029688),\n",
       " coord(x=-395.35402847073726, y=453.7929441110218),\n",
       " coord(x=-391.0601629911861, y=420.23950638896304),\n",
       " coord(x=-385.9150810645035, y=772.8170830729803),\n",
       " coord(x=-382.58714137718846, y=428.92210795849655),\n",
       " coord(x=-380.81549184751134, y=586.2172512852992),\n",
       " coord(x=-374.46717795836526, y=994.8963508609668),\n",
       " coord(x=-370.42089528852, y=687.7598857925586),\n",
       " coord(x=-365.9264166463936, y=934.8286885580869),\n",
       " coord(x=-359.82905474895995, y=525.9951434190493),\n",
       " coord(x=-359.8245538766123, y=815.4894343982007),\n",
       " coord(x=-349.5079828981434, y=702.6118274218647),\n",
       " coord(x=-344.78474342556376, y=718.3197015216588),\n",
       " coord(x=-344.62368737941995, y=820.8428338453048),\n",
       " coord(x=-336.19704183734655, y=654.1935501166297),\n",
       " coord(x=-334.9069438929282, y=621.956181441931),\n",
       " coord(x=-314.43924971783963, y=945.4760311183227),\n",
       " coord(x=-302.03756245044167, y=424.3660744080887),\n",
       " coord(x=-300.6681023893159, y=638.7961278395123),\n",
       " coord(x=-297.8111823588516, y=655.2044330502677),\n",
       " coord(x=-283.80085622278204, y=500.0223303861774),\n",
       " coord(x=-282.6132999661994, y=363.69431334979663),\n",
       " coord(x=-275.85664052941854, y=452.96239866114524),\n",
       " coord(x=-263.46682409450705, y=590.6866109045159),\n",
       " coord(x=-259.451377937379, y=428.98155788541135),\n",
       " coord(x=-255.00530215371725, y=295.1951928348142),\n",
       " coord(x=-250.12058025323518, y=949.0365912153854),\n",
       " coord(x=-244.66477603590306, y=978.4272457231523),\n",
       " coord(x=-242.98173935293255, y=444.88376722379076),\n",
       " coord(x=-242.80787992838816, y=466.4975367771185),\n",
       " coord(x=-237.51139567893563, y=785.1436876922901),\n",
       " coord(x=-234.43081782521926, y=622.1894335851625),\n",
       " coord(x=-221.8780467010506, y=855.2541287849226),\n",
       " coord(x=-220.15063518689408, y=616.5315922474688),\n",
       " coord(x=-207.26805146712502, y=542.6193458384669),\n",
       " coord(x=-202.24441623362407, y=937.3940899236618),\n",
       " coord(x=-202.06895161293107, y=691.6576450800931),\n",
       " coord(x=-184.5587772255932, y=878.1379748866166),\n",
       " coord(x=-182.1804885844482, y=572.7060774720171),\n",
       " coord(x=-170.08633920877367, y=626.360677651661),\n",
       " coord(x=-168.2658290231618, y=435.86724150981854),\n",
       " coord(x=-161.85818999616015, y=799.1549200120114),\n",
       " coord(x=-156.04808252093517, y=898.1969549154974),\n",
       " coord(x=-147.49584820473012, y=721.7177500992427),\n",
       " coord(x=-142.75683628296747, y=535.0933963444886),\n",
       " coord(x=-135.9939657452311, y=612.4241754283855),\n",
       " coord(x=-132.32678506072455, y=794.3462382103239),\n",
       " coord(x=-126.6501539654414, y=647.8717621132898),\n",
       " coord(x=-123.59767603417754, y=961.1192742944982),\n",
       " coord(x=-122.57932098999152, y=357.87336639287423),\n",
       " coord(x=-115.25817920845611, y=612.8170191604818),\n",
       " coord(x=-100.30285762523454, y=788.7924917673836),\n",
       " coord(x=-89.76873512750558, y=997.6698769259756),\n",
       " coord(x=-83.8933591974045, y=498.2092933967722),\n",
       " coord(x=-82.1223387455716, y=444.72174277077306),\n",
       " coord(x=-73.83113176739027, y=242.65372055470402),\n",
       " coord(x=-73.45635940657996, y=114.55734961573648),\n",
       " coord(x=-67.83845064479374, y=217.723773245247),\n",
       " coord(x=-66.56682184498243, y=109.80094420209639),\n",
       " coord(x=-66.48108670640852, y=97.55740501616901),\n",
       " coord(x=-64.14152801519606, y=353.6301699629155),\n",
       " coord(x=-63.52246718217373, y=759.3998181977827),\n",
       " coord(x=-62.734387468256614, y=250.30969707936515),\n",
       " coord(x=-59.18441258891892, y=949.6768751018308),\n",
       " coord(x=-54.786486392567554, y=59.659814417052075),\n",
       " coord(x=-48.765952797865, y=500.5328385174546),\n",
       " coord(x=-46.98059335249184, y=492.2444514927497),\n",
       " coord(x=-45.920895650097805, y=539.8892796088805),\n",
       " coord(x=-45.03388690035388, y=483.8502221348981),\n",
       " coord(x=-44.43074514134855, y=726.6590535538301),\n",
       " coord(x=-43.43081412686627, y=566.456980533035),\n",
       " coord(x=-37.76643302980017, y=253.0565359630932),\n",
       " coord(x=-32.623825480384085, y=574.1586193150915),\n",
       " coord(x=-28.602651170110562, y=191.30714434920878),\n",
       " coord(x=-23.182184178241982, y=363.61231232705245),\n",
       " coord(x=-22.01419591902004, y=278.3730902156576),\n",
       " coord(x=-20.020088000235205, y=812.7177447958304),\n",
       " coord(x=-14.853681778523878, y=771.6496614369753),\n",
       " coord(x=-14.235377317548341, y=32.58425155474174),\n",
       " coord(x=4.8757656903309226, y=244.2852316919823),\n",
       " coord(x=7.948885627659479, y=230.55421112400654),\n",
       " coord(x=11.320302721255644, y=56.02151037265867),\n",
       " coord(x=12.102539001529294, y=301.3685217331474),\n",
       " coord(x=12.39653029094029, y=633.7118072494566),\n",
       " coord(x=13.832609750267693, y=189.34767744120495),\n",
       " coord(x=34.279406270931304, y=592.1777573257077),\n",
       " coord(x=34.397743834261746, y=226.24347272988803),\n",
       " coord(x=39.7850584990249, y=532.5129790072172),\n",
       " coord(x=39.879834514332515, y=391.6769157748463),\n",
       " coord(x=43.14615915382183, y=645.6034726628393),\n",
       " coord(x=45.882593587689826, y=867.5512684923633),\n",
       " coord(x=48.07504512230071, y=348.31493392126504),\n",
       " coord(x=51.10754003271131, y=97.34735108268774),\n",
       " coord(x=55.070130033629766, y=874.8928297736898),\n",
       " coord(x=55.378626006883906, y=97.22003133956264),\n",
       " coord(x=57.23698404293714, y=781.2291157674013),\n",
       " coord(x=57.292351071393796, y=-5.377505196945776),\n",
       " coord(x=61.814642134336054, y=163.39788087914417),\n",
       " coord(x=70.43866718161212, y=-5.035702815881564),\n",
       " coord(x=73.24442463302785, y=433.3098684290817),\n",
       " coord(x=76.1814279012633, y=194.01134398844533),\n",
       " coord(x=76.92800280792017, y=270.29825372974824),\n",
       " coord(x=79.17510144508151, y=988.378685233954),\n",
       " coord(x=83.63814372418233, y=371.631529401061),\n",
       " coord(x=86.66931716163776, y=782.0395038067647),\n",
       " coord(x=93.68794014307491, y=483.52153045548266),\n",
       " coord(x=95.4864066912221, y=-20.709701454385367),\n",
       " coord(x=99.49134929128627, y=165.97027202678123),\n",
       " coord(x=99.8238564787232, y=911.8548458322393),\n",
       " coord(x=100.65346190175842, y=473.55362555622105),\n",
       " coord(x=101.33951871980662, y=595.9874670612446),\n",
       " coord(x=103.0828141459699, y=29.479346394654158),\n",
       " coord(x=103.68847981924682, y=277.8661932276466),\n",
       " coord(x=104.81972479411343, y=477.1184931032526),\n",
       " coord(x=108.7210470197017, y=720.9832149929773),\n",
       " coord(x=112.35368400382254, y=334.39131699968266),\n",
       " coord(x=115.27677264304111, y=95.33809166188394),\n",
       " coord(x=118.60787494890451, y=736.5116945395589),\n",
       " coord(x=119.102237594602, y=569.3958364041589),\n",
       " coord(x=134.29414594641435, y=-101.1734549719256),\n",
       " coord(x=141.09014319082485, y=855.4220650264656),\n",
       " coord(x=146.4301051971056, y=521.9021823837968),\n",
       " coord(x=150.71368186759514, y=-119.17015674014306),\n",
       " coord(x=152.36554900390365, y=931.2247630124791),\n",
       " coord(x=165.0009144764058, y=415.60616049092914),\n",
       " coord(x=165.12698686674594, y=478.07448414767987),\n",
       " coord(x=166.2302316714995, y=293.0664816672179),\n",
       " coord(x=171.4115119427363, y=904.7951537301246),\n",
       " coord(x=173.38507264303848, y=409.04679523124196),\n",
       " coord(x=174.69008037916728, y=976.0584362549575),\n",
       " coord(x=175.0348079306891, y=-1.7005253635178406),\n",
       " coord(x=177.60206307564226, y=306.0298261716632),\n",
       " coord(x=181.5299890600147, y=537.5351551129806),\n",
       " coord(x=189.78444617038872, y=508.19258739957854),\n",
       " coord(x=192.02966869418378, y=459.4176616517268),\n",
       " coord(x=196.04875116103517, y=270.66924938676334),\n",
       " coord(x=201.06410857144783, y=335.0966247935203),\n",
       " coord(x=203.782812924954, y=514.124372668884),\n",
       " coord(x=209.01345185828495, y=111.46722380710435),\n",
       " coord(x=215.62354445180608, y=402.27108735939873),\n",
       " coord(x=217.79273509511677, y=937.2297622976328),\n",
       " coord(x=227.4049303104755, y=923.9355994006344),\n",
       " coord(x=228.10192957837285, y=844.9485789370585),\n",
       " coord(x=228.32154808011273, y=37.08166104154134),\n",
       " coord(x=233.45201523050696, y=223.19340538503957),\n",
       " coord(x=240.76490282564805, y=66.16132760563119),\n",
       " coord(x=244.77288009551012, y=-202.532188930217),\n",
       " coord(x=259.12446683647363, y=308.5855469047858),\n",
       " coord(x=265.77611532501237, y=322.17889962713434),\n",
       " coord(x=267.2250503994983, y=906.7756868850408),\n",
       " coord(x=270.93342953782553, y=702.029213333494),\n",
       " coord(x=275.54095669126195, y=661.2394214742196),\n",
       " coord(x=280.0088236268657, y=-213.01419013200086),\n",
       " coord(x=281.3210587898884, y=40.54291385722263),\n",
       " coord(x=289.8862436298082, y=-38.61508136262273),\n",
       " coord(x=290.6507080994372, y=223.75746174111532),\n",
       " coord(x=290.7943914504913, y=75.45683539082643),\n",
       " coord(x=300.41522240195263, y=274.6015875028345),\n",
       " coord(x=303.90271696132254, y=-203.03379726682522),\n",
       " coord(x=304.5128726104783, y=342.56413172245016),\n",
       " coord(x=309.5263462823284, y=632.2196538370547),\n",
       " coord(x=315.9027798223158, y=580.389685264302),\n",
       " coord(x=316.2315322644715, y=-313.56733210042955),\n",
       " coord(x=316.27074149478653, y=61.75610265269734),\n",
       " coord(x=320.5389565439989, y=661.5868614774924),\n",
       " coord(x=326.5308723484229, y=758.8959541507877),\n",
       " coord(x=326.92792325914047, y=508.27499975461365),\n",
       " coord(x=327.47278865352223, y=895.8460843836951),\n",
       " coord(x=328.01840706647135, y=-303.4345823271665),\n",
       " coord(x=330.52774579795005, y=72.1336101733059),\n",
       " coord(x=331.53131216666065, y=-93.06758099445585),\n",
       " coord(x=332.5086093234395, y=643.2438306341164),\n",
       " coord(x=336.4257752669462, y=-282.2917462048382),\n",
       " coord(x=338.8404446764596, y=649.9849152893241),\n",
       " coord(x=340.06294425475653, y=745.5993804492089),\n",
       " coord(x=340.275566310615, y=-291.4693636042382),\n",
       " coord(x=342.0853397041965, y=889.0207413865783),\n",
       " coord(x=348.4247280392549, y=660.6359416785704),\n",
       " coord(x=352.33301564790963, y=216.27897483968354),\n",
       " coord(x=356.2816464675743, y=536.4678609084515),\n",
       " coord(x=358.5833665051023, y=6.780528662602819),\n",
       " coord(x=360.7841016626139, y=-135.61831443129086),\n",
       " coord(x=362.06447455704233, y=441.8645038291138),\n",
       " coord(x=363.05993757620126, y=415.34903951852266),\n",
       " coord(x=363.50468389238426, y=-170.09434587245426),\n",
       " coord(x=379.1999590584405, y=71.790863325499),\n",
       " coord(x=379.78631608474507, y=233.363669230293),\n",
       " coord(x=379.906251863875, y=-264.12494171156254),\n",
       " coord(x=380.1007754392158, y=502.5824578658037),\n",
       " coord(x=380.45825476877667, y=773.6467374836404),\n",
       " coord(x=381.90394153490433, y=881.4821792241603),\n",
       " coord(x=385.52097525410636, y=395.83139055173365),\n",
       " coord(x=386.874045196882, y=935.8676403152037),\n",
       " coord(x=388.45224153362255, y=69.72552595622255),\n",
       " coord(x=388.6630287992871, y=-64.17841357537532),\n",
       " coord(x=391.1950598924898, y=903.0534110679944),\n",
       " coord(x=396.81500238296826, y=-69.67458519812044),\n",
       " coord(x=397.0381695623123, y=326.8045288970534),\n",
       " coord(x=397.3022496032097, y=521.5812536788426),\n",
       " coord(x=400.02198536249034, y=-45.0429584001522),\n",
       " coord(x=400.0822315646956, y=-109.48674121385716),\n",
       " coord(x=401.27105957265894, y=-351.2883581318729),\n",
       " coord(x=411.598107625219, y=520.2465712484654),\n",
       " coord(x=418.555602219772, y=642.560275586538),\n",
       " coord(x=420.8229789638085, y=717.433721839263),\n",
       " coord(x=421.18189412291076, y=55.12438376626437),\n",
       " coord(x=421.4997626146219, y=-31.64609236966885),\n",
       " coord(x=422.3812292657699, y=287.7683677615223),\n",
       " coord(x=426.1369808828956, y=-220.47319616066545),\n",
       " coord(x=428.79349397380156, y=921.8192236596171),\n",
       " coord(x=438.0695987813506, y=667.7993790996145),\n",
       " coord(x=438.14070645619313, y=-27.514153640829704),\n",
       " coord(x=438.92040906743887, y=-419.26679165356995),\n",
       " coord(x=439.5714023827072, y=636.1815696093179),\n",
       " coord(x=441.36667530821546, y=-297.1379339908693),\n",
       " coord(x=449.2471569899492, y=74.35091983521079),\n",
       " coord(x=450.8369840483431, y=-397.8190939080855),\n",
       " coord(x=459.96476902436507, y=-204.62142257621065),\n",
       " coord(x=462.28433632030715, y=-221.62090936652828),\n",
       " coord(x=464.86609902960754, y=-138.1043251593868),\n",
       " coord(x=468.2384536964578, y=-187.55741953929123),\n",
       " coord(x=468.76964264106664, y=387.5275909267639),\n",
       " coord(x=472.44996530988783, y=-320.5866778549231),\n",
       " coord(x=474.20140223950034, y=820.6742467306606),\n",
       " coord(x=476.9070595553319, y=364.113847361265),\n",
       " coord(x=478.67672475853965, y=371.5227170544272),\n",
       " coord(x=483.74153295885026, y=6.517890919524461),\n",
       " coord(x=486.87462044142967, y=674.0064897667942),\n",
       " coord(x=489.6805544645183, y=145.49168198747793),\n",
       " coord(x=491.6282266267556, y=399.5567850405241),\n",
       " coord(x=497.4764183793752, y=454.82614181944336),\n",
       " coord(x=498.5239999979849, y=788.5377558151818),\n",
       " coord(x=498.83522587815446, y=172.07138938430876),\n",
       " coord(x=504.8475160045257, y=638.3972000475553),\n",
       " coord(x=505.00033040074277, y=378.3040170388217),\n",
       " coord(x=512.6810989671208, y=-282.959878983305),\n",
       " coord(x=515.0054824945153, y=-319.7042708145648),\n",
       " coord(x=516.6253414418122, y=581.069768412093),\n",
       " coord(x=518.5924607966899, y=-512.5067057592591),\n",
       " coord(x=519.1217709076773, y=-45.544473125810555),\n",
       " coord(x=519.9749527106371, y=674.176694988897),\n",
       " coord(x=520.5112017230563, y=987.9838812196886),\n",
       " coord(x=520.8413893208135, y=304.59402962869876),\n",
       " coord(x=522.6869968879735, y=160.00001203039415),\n",
       " coord(x=524.8810208566088, y=512.7815304085791),\n",
       " coord(x=526.4077088646015, y=-15.603301137020026),\n",
       " coord(x=531.6750766011262, y=-224.2550177987415),\n",
       " coord(x=534.9493673731824, y=-373.0686558596359),\n",
       " coord(x=535.899941134089, y=290.74840603372104),\n",
       " coord(x=536.2656048636945, y=846.9511755771402),\n",
       " coord(x=536.9225559894021, y=506.0849980015839),\n",
       " coord(x=540.2206976640853, y=73.7203807812457),\n",
       " coord(x=541.2743764588913, y=26.650291081832165),\n",
       " coord(x=542.8058646049808, y=523.5121603725293),\n",
       " coord(x=543.42199462339, y=822.9761457048057),\n",
       " coord(x=547.5832542831542, y=429.02303172198094),\n",
       " coord(x=550.3595817473174, y=960.1601357190957),\n",
       " coord(x=554.3038032254985, y=214.74388771886038),\n",
       " coord(x=562.75338934213, y=648.9609508713097),\n",
       " coord(x=564.9450105420158, y=-482.83486911557463),\n",
       " coord(x=567.9866804164142, y=96.72256863618554),\n",
       " coord(x=572.1615857957445, y=-22.016075861715876),\n",
       " coord(x=574.1470864555338, y=-189.2071884781666),\n",
       " coord(x=580.0834094136785, y=-252.88280808583102),\n",
       " coord(x=582.0733750662157, y=464.84556301433327),\n",
       " coord(x=585.1322358666994, y=79.67700012655587),\n",
       " coord(x=587.7300610558325, y=-539.4047164388771),\n",
       " coord(x=589.1399059024004, y=934.3926166021135),\n",
       " coord(x=589.8850200828647, y=5.858869583433375),\n",
       " coord(x=592.6986961903749, y=636.0906503741487),\n",
       " coord(x=597.4770783841757, y=778.3437990856173),\n",
       " coord(x=599.976155410701, y=-455.96161193750606),\n",
       " coord(x=602.9159628765108, y=931.2759775483005),\n",
       " coord(x=605.1365800029023, y=-309.69652928646906),\n",
       " coord(x=607.0706248958629, y=487.7741136073487),\n",
       " coord(x=608.1555476685276, y=165.35643437433396),\n",
       " coord(x=616.3421850558741, y=-91.4106340773551),\n",
       " coord(x=616.9148056079471, y=515.4811660557718),\n",
       " coord(x=620.9567182145868, y=624.6757848316204),\n",
       " coord(x=626.0795440697773, y=587.5071670901636),\n",
       " coord(x=626.6096302620736, y=852.5286281656054),\n",
       " coord(x=628.8145079939081, y=963.2679832530246),\n",
       " coord(x=629.2157791615871, y=93.8287498328657),\n",
       " coord(x=638.2240877217007, y=46.637986512976795),\n",
       " coord(x=640.7758151865371, y=64.87712873817327),\n",
       " coord(x=642.867180237922, y=-268.1559090885777),\n",
       " coord(x=647.511711456204, y=898.9516692959069),\n",
       " coord(x=648.6655347533231, y=14.3192987108323),\n",
       " coord(x=651.0692719886385, y=109.53914473854138),\n",
       " coord(x=655.0463596357827, y=963.7905746792437),\n",
       " coord(x=657.3882746183297, y=783.8466066397555),\n",
       " coord(x=657.6878633469705, y=170.4933430311146),\n",
       " coord(x=658.8198778304165, y=-271.22807343382215),\n",
       " coord(x=658.9825839362661, y=401.2576661879266),\n",
       " coord(x=661.9552931687729, y=-494.5489812412096),\n",
       " coord(x=663.1799064681941, y=-556.9772744742955),\n",
       " coord(x=666.5245749180094, y=342.9073818198033),\n",
       " coord(x=673.3568651837536, y=713.1277180528332),\n",
       " coord(x=673.3816364047866, y=-435.82084020686375),\n",
       " coord(x=673.8423852604894, y=528.4742781815373),\n",
       " coord(x=674.5974744616515, y=134.81637479674941),\n",
       " coord(x=676.7927382033163, y=-530.5342171760583),\n",
       " coord(x=677.1342562151547, y=-315.46062957895595),\n",
       " coord(x=677.3969205062599, y=312.72201716362565),\n",
       " coord(x=678.4036648939077, y=147.2415509659727),\n",
       " coord(x=680.7835765492059, y=-292.8895194690406),\n",
       " coord(x=681.4260446392311, y=-660.5608091883679),\n",
       " coord(x=681.4542065306343, y=-30.624173332485043),\n",
       " coord(x=683.6161458674237, y=-7.368150109123121),\n",
       " coord(x=684.3778878564767, y=362.73882884364434),\n",
       " coord(x=685.368339339896, y=173.6387847260255),\n",
       " coord(x=686.320583623552, y=607.4748055272557),\n",
       " coord(x=687.6089073221938, y=-597.1663673515237),\n",
       " coord(x=692.2014188993087, y=-367.5393964512094),\n",
       " coord(x=697.063838198871, y=737.0073099170413),\n",
       " coord(x=700.1731961015912, y=280.8898259090281),\n",
       " coord(x=701.0197139602326, y=-147.28372322809298),\n",
       " coord(x=701.2190956662582, y=789.5566192756162),\n",
       " coord(x=701.3959701513234, y=-406.2053384968302),\n",
       " coord(x=702.6654316185673, y=-640.0370386613803),\n",
       " coord(x=705.4324564576132, y=-68.8414841261997),\n",
       " coord(x=711.5800807792134, y=350.7005937000456),\n",
       " coord(x=712.3359683338488, y=461.93726085386197),\n",
       " coord(x=713.5104314936123, y=3.378792856817654),\n",
       " coord(x=715.1975292459317, y=-275.8084079400469),\n",
       " coord(x=722.2263607825278, y=-706.2783728685649),\n",
       " coord(x=725.7963555543486, y=190.1336934952369),\n",
       " coord(x=728.3900650263165, y=-529.4790073930349),\n",
       " coord(x=729.7964609008843, y=-539.5754772846171),\n",
       " coord(x=729.8099692193146, y=-280.18949467799234),\n",
       " coord(x=730.4201152220139, y=-140.88364665124993),\n",
       " coord(x=731.6327973156272, y=874.541219706229),\n",
       " coord(x=733.8010287975185, y=996.9085147006119),\n",
       " coord(x=733.9436881519323, y=698.9851861618597),\n",
       " coord(x=736.5745109721929, y=870.1688165374608),\n",
       " coord(x=737.6691191498105, y=-315.1084804632744),\n",
       " coord(x=738.021427223644, y=-63.82998138351411),\n",
       " coord(x=738.7658558534595, y=186.3908387804629),\n",
       " coord(x=739.5668007622253, y=994.4560418822371),\n",
       " coord(x=746.6815613505521, y=-168.05419606352916),\n",
       " coord(x=748.1458793737429, y=151.53234288677686),\n",
       " coord(x=749.1007442800098, y=15.35154932588739),\n",
       " coord(x=749.7461274673781, y=-674.552034953322),\n",
       " coord(x=751.0311396998247, y=-672.7342816657333),\n",
       " coord(x=754.567492469954, y=-253.68347364178794),\n",
       " coord(x=754.7764157586892, y=-752.008840258785),\n",
       " coord(x=755.4432359826792, y=809.2098999591146),\n",
       " coord(x=759.0514697368433, y=766.3238505313027),\n",
       " coord(x=767.0269438954929, y=991.4969150724007),\n",
       " coord(x=770.7658825084741, y=594.5757994317273),\n",
       " coord(x=772.5573674847274, y=705.551261797623),\n",
       " coord(x=774.660090478126, y=-51.36703736166464),\n",
       " coord(x=777.4937893277497, y=-570.1752372118467),\n",
       " coord(x=779.1260338786947, y=571.6595018012413),\n",
       " coord(x=779.5225589719571, y=468.2664732001715),\n",
       " coord(x=779.9477563596656, y=-555.2565513967693),\n",
       " coord(x=784.7757566617752, y=-175.18924438265947),\n",
       " coord(x=788.4975283749579, y=-83.35750909934086),\n",
       " coord(x=796.131176268329, y=-146.6399784254353),\n",
       " coord(x=802.662801813309, y=-308.3062786671387),\n",
       " coord(x=804.3967052817727, y=886.5030820615812),\n",
       " coord(x=804.8662053220994, y=424.2262375963778),\n",
       " coord(x=811.7850321176109, y=-168.1491202281826),\n",
       " coord(x=814.3721535216155, y=525.2892621283495),\n",
       " coord(x=815.2819577923754, y=324.95478211904333),\n",
       " coord(x=815.709883620221, y=880.9303988102822),\n",
       " coord(x=817.7453388667914, y=584.3493822278115),\n",
       " coord(x=819.1883583291838, y=4.413386212493265),\n",
       " coord(x=821.7045203320615, y=-562.6205315584832),\n",
       " coord(x=821.7336197227637, y=-95.7370123685024),\n",
       " coord(x=822.6375752125298, y=315.7669071808193),\n",
       " coord(x=823.8696649046251, y=262.6999512174914),\n",
       " coord(x=824.0942210908756, y=411.55202070761675),\n",
       " coord(x=826.8656684178545, y=222.92827601844033),\n",
       " coord(x=827.1654312027331, y=898.8510645918589),\n",
       " coord(x=828.284118445526, y=955.5432128593413),\n",
       " coord(x=828.71335761266, y=-382.65425168356853),\n",
       " coord(x=831.5288937275702, y=88.30849981567349),\n",
       " coord(x=833.7137667826353, y=657.2712925568474),\n",
       " coord(x=840.9482839872442, y=-715.4315498769031),\n",
       " coord(x=842.713001936253, y=-687.6422928485301),\n",
       " coord(x=844.2744098707481, y=244.87481771401985),\n",
       " coord(x=844.45646827108, y=-776.6142689250357),\n",
       " coord(x=844.4919518061884, y=282.6916238536314),\n",
       " coord(x=846.69560942575, y=-368.81386616916893),\n",
       " coord(x=847.1597264670313, y=695.9508591404613),\n",
       " coord(x=847.5986910930794, y=529.8550814307696),\n",
       " coord(x=849.0108976285903, y=630.2572661407189),\n",
       " coord(x=857.3524585154521, y=-831.6502367993083),\n",
       " coord(x=857.5761570684926, y=710.707579101125),\n",
       " coord(x=858.2842179644861, y=814.543780146475),\n",
       " coord(x=858.2946509743192, y=479.76380661360395),\n",
       " coord(x=859.0650016927605, y=63.43923468829962),\n",
       " coord(x=859.5556602769489, y=-591.9305925932931),\n",
       " coord(x=864.5430068698163, y=174.79018265269337),\n",
       " coord(x=865.6241881718422, y=-755.2458884230813),\n",
       " coord(x=867.1693211186034, y=47.4265262824606),\n",
       " coord(x=867.8069342390909, y=-301.4158483668798),\n",
       " coord(x=868.7903491002826, y=-463.0700384454085),\n",
       " coord(x=871.1798581226285, y=271.8146243990402),\n",
       " coord(x=872.4517068500666, y=-796.5072211360975),\n",
       " coord(x=873.3403331887866, y=-362.17989133312426),\n",
       " coord(x=873.9204684841714, y=-609.7927070497997),\n",
       " coord(x=876.4395335026052, y=-778.8972832658152),\n",
       " coord(x=877.4535117074611, y=-181.524092226339),\n",
       " coord(x=877.7513707039009, y=285.1497122070041),\n",
       " coord(x=881.3897574856892, y=657.8931737329626),\n",
       " coord(x=885.9228790757265, y=-576.219812616763),\n",
       " coord(x=886.6778987826401, y=981.6276082095105),\n",
       " coord(x=888.4622779314598, y=-637.7527671981082),\n",
       " coord(x=894.7920542749403, y=822.2899796549216),\n",
       " coord(x=895.4116238284278, y=894.9358619070697),\n",
       " coord(x=895.6815632539833, y=659.3718534330717),\n",
       " coord(x=896.7215448033228, y=-846.2788071616171),\n",
       " coord(x=896.8470473642012, y=-193.01650886919128),\n",
       " coord(x=898.025814057781, y=-430.070701010163),\n",
       " coord(x=899.3315495306911, y=630.1182299953225),\n",
       " coord(x=900.5266433030718, y=920.5034041535812),\n",
       " coord(x=901.5302998802058, y=-769.267459605492),\n",
       " coord(x=903.0128823966681, y=670.4470947234433),\n",
       " coord(x=903.574630219882, y=183.59086906535595),\n",
       " coord(x=905.1954934973244, y=595.0081941958372),\n",
       " coord(x=906.7037369283264, y=-328.5112609417165),\n",
       " coord(x=907.2938423107635, y=863.1647829430101),\n",
       " coord(x=908.1096964412741, y=2.7442142596067924),\n",
       " coord(x=910.5258647290811, y=-380.6695079587621),\n",
       " coord(x=911.0634507963471, y=-440.5296215090442),\n",
       " coord(x=911.581219904235, y=656.18354029077),\n",
       " coord(x=911.8937105045509, y=325.7489912627036),\n",
       " coord(x=912.3215231480335, y=353.02940187869535),\n",
       " coord(x=913.5809010385142, y=484.27922039734335),\n",
       " coord(x=916.2260666690706, y=525.1880259882832),\n",
       " coord(x=916.3199040107845, y=-378.8919291873019),\n",
       " coord(x=918.2326887434715, y=718.3385770420848),\n",
       " coord(x=922.0707336643877, y=354.67726276032226),\n",
       " coord(x=929.8655177814626, y=581.1581925891887),\n",
       " coord(x=929.9569277878238, y=-517.055159025275),\n",
       " coord(x=930.7617582870557, y=-364.56324802929237),\n",
       " coord(x=932.0280942387815, y=-63.52601800382354),\n",
       " coord(x=932.4353131834553, y=408.8985670356001),\n",
       " coord(x=935.964885838476, y=-923.9190567874475),\n",
       " coord(x=936.0869633276318, y=-603.618576548598),\n",
       " coord(x=939.5099231628401, y=-468.051387879926),\n",
       " coord(x=941.7539627719841, y=-416.8900359685082),\n",
       " coord(x=942.9880149323806, y=385.5199180962725),\n",
       " coord(x=943.0052933347515, y=-197.06056968754422),\n",
       " coord(x=946.8468312494094, y=667.6071695582732),\n",
       " coord(x=949.2924050787119, y=543.375858362944),\n",
       " coord(x=950.2851576974274, y=-351.44989839629795),\n",
       " coord(x=950.4808835634412, y=697.5466369036396),\n",
       " coord(x=950.7370347543128, y=-505.04900142802245),\n",
       " coord(x=953.9086720514981, y=-562.1039421616425),\n",
       " coord(x=956.1450746760108, y=931.4582499384646),\n",
       " coord(x=957.1251542248435, y=338.3850588880796),\n",
       " coord(x=958.0531913836408, y=674.1995012032246),\n",
       " coord(x=961.8947929009171, y=291.97180121831116),\n",
       " coord(x=969.4115219452583, y=-514.4242066057263),\n",
       " coord(x=971.3767231152049, y=195.74682343074687),\n",
       " coord(x=972.1432349691347, y=955.6292648705996),\n",
       " coord(x=973.8877382362462, y=-573.2318149681187),\n",
       " coord(x=974.7420856887748, y=396.44897329589185),\n",
       " coord(x=975.7002541824334, y=936.4709164691403),\n",
       " coord(x=976.9803189701706, y=-933.5229267085355),\n",
       " coord(x=977.8198459888631, y=318.06037397706586),\n",
       " coord(x=980.1802755887275, y=-624.059177392219),\n",
       " coord(x=985.878821514294, y=-165.09604901125272),\n",
       " coord(x=990.8006423776035, y=-506.4588559128074),\n",
       " coord(x=992.9923378238971, y=-81.3363730306047),\n",
       " coord(x=995.4460633088067, y=-772.6121876825848),\n",
       " coord(x=995.5653522663117, y=946.1363702727831),\n",
       " coord(x=996.3569096522206, y=-462.7852803662422)]"
      ]
     },
     "execution_count": 6,
     "metadata": {},
     "output_type": "execute_result"
    }
   ],
   "source": [
    "#sorted_rnd = sorted(rnd_coords)\n",
    "#sorted_rnd\n",
    "## We can see we do not need any parameter to sort this data. It sorted it directly\n",
    "## by the x with a increasing order and if we have some same x values, it will sort \n",
    "## hem by y with increasing order. \n",
    "## If we want to change this we should use the line below:\n",
    "## sorted_rnd = sorted(rnd_coords, key=lambda p:-p.x, p.y)"
   ]
  },
  {
   "cell_type": "markdown",
   "metadata": {},
   "source": [
    "[General words of advice:\n",
    "\n",
    "* During testing, you might want to use a smaller data set (and then try it out at a larger set).\n",
    "* You might not want to display the entire list to see if you're right all the time. Slicing out the first and last elements, say the first or last 10, might provide some hints.\n",
    "* You could naturally define a function which checks that the list is in order (or performs some probabilistic sampling test), to test this.]"
   ]
  },
  {
   "cell_type": "markdown",
   "metadata": {},
   "source": [
    "d) Sort the values (in the sense of returning a new sorted tuple) by their Euclidean distance to the point (5,3). Continue using a built-in Python sorting function."
   ]
  },
  {
   "cell_type": "code",
   "execution_count": null,
   "metadata": {},
   "outputs": [],
   "source": [
    "pts_near_53 = sorted(rnd_coords, key=lambda p: ((p.x-5)**2+(p.y-3)**2)**0.5)\n",
    "pts_near_53"
   ]
  },
  {
   "cell_type": "markdown",
   "metadata": {},
   "source": [
    "Note: here we customise the behaviour of a built-in function by passing it information about our intended ordering."
   ]
  },
  {
   "cell_type": "markdown",
   "metadata": {},
   "source": [
    "d) Define the function `sorted_by_distance(origo)` which takes a coordinate `origo` and returns a function which sorts the sequence by the euclidean distance to `origo`. (Ie those closest to origo come first in the list.)"
   ]
  },
  {
   "cell_type": "code",
   "execution_count": null,
   "metadata": {},
   "outputs": [],
   "source": [
    "def sorted_by_distance(origo):\n",
    "    def f(points):\n",
    "        return(sorted(rnd_coords, key=lambda p: ((p.x-origo.x)**2+(p.y-origo.y)**2)**0.5))\n",
    "    return f\n",
    "\n",
    "ordered_by_closeness_to_53 = sorted_by_distance(coord(5,3))   # Return the function.\n",
    "pts_near_53_2 = ordered_by_closeness_to_53(rnd_coords)     # Applying the function \n",
    "\n",
    "assert pts_near_53 == pts_near_53_2"
   ]
  },
  {
   "cell_type": "markdown",
   "metadata": {},
   "source": [
    "[Note: Here we extend the work above to a higher-order function, which uses the local value of `origo`. In essence, this task summarises higher order functionality - we create a closure, return a function and use a custom ordering ]"
   ]
  },
  {
   "cell_type": "markdown",
   "metadata": {},
   "source": [
    "e) So far in the course, we have seen, and possibly used `enumerate`, `range`, `zip`, `map` and `filter` as declarative constructs (along with the general comprehension syntax). Now we introduce a further useful iterator construct. Construct something called `reverse_squared` which when prompted would give us the squares of elements 0,...,N _but in reverse_ (that is $N^2, (N-1)^2, ..., 2^2, 1^2, 0^2$)."
   ]
  },
  {
   "cell_type": "code",
   "execution_count": null,
   "metadata": {},
   "outputs": [],
   "source": [
    "# The time it takes to run this shouldn't really depend on if you use SMALL_N or BIG_N.\n",
    "\n",
    "BIG_N = 99999999\n",
    "SMALL_N = 999\n",
    "\n",
    "N = SMALL_N    # change this to test later on\n",
    "\n",
    "reverse_squares = tuple(map(lambda x:x*x, list(range(N))[::-1]))\n",
    "reverse_squares"
   ]
  },
  {
   "cell_type": "code",
   "execution_count": null,
   "metadata": {
    "scrolled": true
   },
   "outputs": [],
   "source": [
    "# Experimentation: copy and paste your code from above into this cell.\n",
    "# This is rather crude, but we want you to to be able to trust that any\n",
    "# slowness in the cell above can be found by reference to that code, not the\n",
    "# profiling code below.\n",
    "\n",
    "# Copy-pasting as it might be useful to have fresh maps.\n",
    "\n",
    "\n",
    "import profile\n",
    "\n",
    "# We cut and paste this code \n",
    "BIG_N = 99999999\n",
    "SMALL_N = 999\n",
    "\n",
    "N = SMALL_N    \n",
    "# Look at the run time. Switching from BIG_N to SMALL_N shouldn't really matter.\n",
    "# This suggests that we have quick access to elements at the end of our (squared) range.\n",
    "\n",
    "reverse_squares = None # <<----------- Your code from the cell above goes here.\n",
    "\n",
    "\n",
    "profile.run(\"print('Did we find it? ', {} in reverse_squares)\".format( N**2 ))"
   ]
  },
  {
   "cell_type": "markdown",
   "metadata": {},
   "source": [
    "Note: once you know of the construct, this task is extremely simple. It mostly serves as a demonstration of the availability of these constructs, and how they can be combined. Also, it points to efficiency considerations when using declarative iterator constructs as opposed to fixed computed structures.\n",
    "\n",
    "As the profiling code above suggests, where we redefine the object in every run, we do not have a purely functional construct. In that case, we wouldn't be able to exhaust the values."
   ]
  },
  {
   "cell_type": "markdown",
   "metadata": {},
   "source": [
    "[Additional reading: some additional tools are available in the `itertools` module.]"
   ]
  },
  {
   "cell_type": "markdown",
   "metadata": {},
   "source": [
    "## 5 Mutating function state\n",
    "\n",
    "A function always has access to the environment in which it was created. Usually, this means that the function can access global variables. It also means that it can access and modify local bindings from where it was created.\n",
    "\n",
    "A closure is a function which has access to an environment which is not accessible from outside the function (but which is not destroyed when the function returns). I.e. it is a way to introduce a small measure of statefulness into functional programming. In Python, iterators and generators work much like this. However, we can use the general concept in many cases."
   ]
  },
  {
   "cell_type": "markdown",
   "metadata": {},
   "source": [
    "a) Implement a function `make_counter` which has a single parameter `n` which acts as the initial value for a counter. The function should return a function with no parameters which, when called, increments the value of `n` by 1 and returns the new value."
   ]
  },
  {
   "cell_type": "code",
   "execution_count": 7,
   "metadata": {},
   "outputs": [
    {
     "name": "stdout",
     "output_type": "stream",
     "text": [
      "To show that the functions do not affect each others' states, consider the printout:\n",
      "counter_A returns: 1\n",
      "counter_A returns: 2\n",
      "counter_B returns: 16\n",
      "counter_A returns: 3 (was it affected by the call to counter_B?)\n"
     ]
    }
   ],
   "source": [
    "def make_counter(n):\n",
    "    def increment():\n",
    "        nonlocal n\n",
    "        n += 1\n",
    "        return(n)\n",
    "    return increment\n",
    "\n",
    "counter_A = make_counter(0)\n",
    "counter_B = make_counter(15)\n",
    "print(\"To show that the functions do not affect each others' states, consider the printout:\")\n",
    "print(\"counter_A returns: {}\".format(counter_A()))\n",
    "print(\"counter_A returns: {}\".format(counter_A()))\n",
    "print(\"counter_B returns: {}\".format(counter_B()))\n",
    "print(\"counter_A returns: {} (was it affected by the call to counter_B?)\".format(counter_A()))"
   ]
  },
  {
   "cell_type": "markdown",
   "metadata": {},
   "source": [
    "## 6. Use case: parametrisation\n",
    "\n",
    "Above, we see how `sorted` can be parametrised with information about the intended order. We want to extend our `quicksort` to work the same way. We should be able to provide the way for it to tell if object A in the tuple should come before object B, or after. This is done by mapping the objects onto something where we do have an order."
   ]
  },
  {
   "cell_type": "markdown",
   "metadata": {},
   "source": [
    "a) Copy your code from the `quicksort` task above, and extend it. Call the function `quicksort_param` for parametrised, and allow a key parameter to be passed in (like in `sorted`). Note that the key function should be optional. We thus want default arguments."
   ]
  },
  {
   "cell_type": "code",
   "execution_count": 55,
   "metadata": {},
   "outputs": [
    {
     "name": "stdout",
     "output_type": "stream",
     "text": [
      "[(0.30432974396793855, 0.0541047245967371, 0.6701947492431644), (0.647083701525629, 0.08990857327841417, 0.406886053716197), (0.4626361265691079, 0.6341755289738568, 0.12044502647374189), (0.2356740488604877, 0.9987040747902876, 0.07420645834658157), (0.5029778022754718, 0.25703305289960643, 0.6625508786931115), (0.40912816493299287, 0.35137097479513946, 0.8270069161628679), (0.6069717191556525, 0.7547002793560629, 0.2998501123155709), (0.4324036244587285, 0.6897443875211782, 0.8344422512736559), (0.999520013673843, 0.5565490071453735, 0.7646201608719135), (0.8874888669452529, 0.5505412948607102, 0.9205909112158601)]\n",
      "[2, 5, 9, 200]\n"
     ]
    }
   ],
   "source": [
    "from random import random\n",
    "\n",
    "# Write quicksort_param here:\n",
    "def quicksort_param(part, fun=None):\n",
    "    if not part:\n",
    "        return part\n",
    "    \n",
    "    # add different functionalities to sort function\n",
    "    myfun = lambda x:x\n",
    "    if(fun!=None):\n",
    "        myfun = lambda x:fun(x)\n",
    "\n",
    "    pivot = part[0]\n",
    "    left = [x for x in part[1:] if myfun(x)<myfun(pivot)]\n",
    "    right = [x for x in part[1:] if myfun(x)>=myfun(pivot)]\n",
    "    return(quicksort_param(left, fun) + [pivot] + quicksort_param(right, fun))\n",
    "\n",
    "\n",
    "a = tuple(tuple(random() for i in range(3)) for j in range(10))\n",
    "#print(a)\n",
    "b = quicksort_param(a, sum)   # Elements are three-tuples. Those with smallest sums of values should come first.\n",
    "print(b)\n",
    "print(quicksort_param([5,2,9,200]))   # No key function provided."
   ]
  },
  {
   "cell_type": "markdown",
   "metadata": {},
   "source": [
    "## Attribution\n",
    "\n",
    "Lab by Johan Falkenjack (2018), extended and rewritten by Anders Märak Leffler (2019).\n",
    "\n",
    "License [CC-BY-SA 4.0](https://creativecommons.org/licenses/by-sa/4.0/)"
   ]
  }
 ],
 "metadata": {
  "kernelspec": {
   "display_name": "Python 3",
   "language": "python",
   "name": "python3"
  },
  "language_info": {
   "codemirror_mode": {
    "name": "ipython",
    "version": 3
   },
   "file_extension": ".py",
   "mimetype": "text/x-python",
   "name": "python",
   "nbconvert_exporter": "python",
   "pygments_lexer": "ipython3",
   "version": "3.6.5"
  }
 },
 "nbformat": 4,
 "nbformat_minor": 2
}
