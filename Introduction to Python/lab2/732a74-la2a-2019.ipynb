{
 "cells": [
  {
   "cell_type": "markdown",
   "metadata": {},
   "source": [
    "# Laboration 2A"
   ]
  },
  {
   "cell_type": "markdown",
   "metadata": {},
   "source": [
    "---\n",
    "**GroupNo: 4**\n",
    "\n",
    "\n",
    "**Student:** mimte666\n",
    "\n",
    "**Student:** steto820\n",
    "\n",
    "---"
   ]
  },
  {
   "cell_type": "markdown",
   "metadata": {},
   "source": [
    "# Introduction \n",
    "In this first part of the lab, we will be exploring \n",
    "* Functions\n",
    "    * How functions are called.\n",
    "    * Argument passing\n",
    "    * Return values.\n",
    "* Function usage\n",
    "    * Construction of simple multi-function programs.\n",
    "    * Functions that work on several kinds of inputs (ie simple polymorphism via duck typing).\n",
    "\n",
    "Additionally we will touch upon\n",
    "* Exceptions and \n",
    "* simple assertion testing and debugging."
   ]
  },
  {
   "cell_type": "markdown",
   "metadata": {},
   "source": [
    "This lab might require you to search for information on your own to a larger extent than in lab 1. As in the last lab, Lutz' Learning Python and the [official documentation](https://docs.python.org) might be helpful. Also make sure to make use of the available lab assistance!"
   ]
  },
  {
   "cell_type": "markdown",
   "metadata": {},
   "source": [
    "# Handin instruction"
   ]
  },
  {
   "cell_type": "markdown",
   "metadata": {},
   "source": [
    "This lab consists of two parts, 2A and 2B (on functional and declarative patterns). After you've finished lab 2A, hand it in straight away (using the name 2a as the lab name). You do not need to wait until you've finished lab 2B."
   ]
  },
  {
   "cell_type": "markdown",
   "metadata": {},
   "source": [
    "## Functions in Python"
   ]
  },
  {
   "cell_type": "markdown",
   "metadata": {},
   "source": [
    "a) Write a function that takes a radius and returns area of a circle with that radius. What would be a good name for the function and the argument? Python has a value for $\\pi$ in a certain standard library module. Which might that be? Don't type in the constant yourself."
   ]
  },
  {
   "cell_type": "code",
   "execution_count": 1,
   "metadata": {},
   "outputs": [],
   "source": [
    "from math import pi\n",
    "def circle_area(radius):\n",
    "    return pi*radius**2"
   ]
  },
  {
   "cell_type": "markdown",
   "metadata": {},
   "source": [
    "[Hint: Google. Or consider modules we have `import`ed previously.]"
   ]
  },
  {
   "cell_type": "markdown",
   "metadata": {},
   "source": [
    "b) How would you call the function, if you wanted to calculate the area of a circle with radius 10cm?"
   ]
  },
  {
   "cell_type": "code",
   "execution_count": 2,
   "metadata": {},
   "outputs": [
    {
     "data": {
      "text/plain": [
       "314.1592653589793"
      ]
     },
     "execution_count": 2,
     "metadata": {},
     "output_type": "execute_result"
    }
   ],
   "source": [
    "circle_area(10)"
   ]
  },
  {
   "cell_type": "markdown",
   "metadata": {},
   "source": [
    "c) How would you call the function using named arguments/keyword arguments?"
   ]
  },
  {
   "cell_type": "code",
   "execution_count": 3,
   "metadata": {},
   "outputs": [
    {
     "data": {
      "text/plain": [
       "314.1592653589793"
      ]
     },
     "execution_count": 3,
     "metadata": {},
     "output_type": "execute_result"
    }
   ],
   "source": [
    "circle_area(radius=10)"
   ]
  },
  {
   "cell_type": "markdown",
   "metadata": {},
   "source": [
    "[Note: In this case, the calling of the function is somewhat artificial. When writing scripts or working with programs that take several parameters, this style can be quite useful. This sidesteps questions of if this particular library takes the input or the output as the first argument, or the like. The code of course becomes more verbose.]"
   ]
  },
  {
   "cell_type": "code",
   "execution_count": 4,
   "metadata": {},
   "outputs": [],
   "source": [
    "def circle_area_safe(radius):\n",
    "    if(radius<0):\n",
    "        print(\"The radius must be positive\")\n",
    "        return None\n",
    "    else:\n",
    "        return circle_area(radius)"
   ]
  },
  {
   "cell_type": "markdown",
   "metadata": {},
   "source": [
    "d) Write a function `circle_area_safe(radius)` which uses an if statement to check that the radius is positive and prints `The radius must be positive` to the screen if it is not, and otherwise calls the `circle_area` function. Also, if the radius is not positive the `circle_area_safe` function should signal to the code calling it that it has failed by returning `None`."
   ]
  },
  {
   "cell_type": "code",
   "execution_count": 5,
   "metadata": {},
   "outputs": [
    {
     "data": {
      "text/plain": [
       "314.1592653589793"
      ]
     },
     "execution_count": 5,
     "metadata": {},
     "output_type": "execute_result"
    }
   ],
   "source": [
    "circle_area_safe(10)"
   ]
  },
  {
   "cell_type": "markdown",
   "metadata": {},
   "source": [
    "e) Recreate the `circle_area_safe` function (call this version `circle_area_safer`) but instead of printing a message to the screen and returning `None` if the radius is negative, _raise_ a ValueError exception with suitable error message as argument."
   ]
  },
  {
   "cell_type": "code",
   "execution_count": 6,
   "metadata": {},
   "outputs": [
    {
     "ename": "ValueError",
     "evalue": "The radius must be positive",
     "output_type": "error",
     "traceback": [
      "\u001b[0;31m---------------------------------------------------------------------------\u001b[0m",
      "\u001b[0;31mValueError\u001b[0m                                Traceback (most recent call last)",
      "\u001b[0;32m<ipython-input-6-f0cfba6abe59>\u001b[0m in \u001b[0;36m<module>\u001b[0;34m()\u001b[0m\n\u001b[1;32m      5\u001b[0m         \u001b[0mcircle_area\u001b[0m\u001b[0;34m(\u001b[0m\u001b[0mradius\u001b[0m\u001b[0;34m)\u001b[0m\u001b[0;34m\u001b[0m\u001b[0m\n\u001b[1;32m      6\u001b[0m \u001b[0;34m\u001b[0m\u001b[0m\n\u001b[0;32m----> 7\u001b[0;31m \u001b[0mcircle_area_safer\u001b[0m\u001b[0;34m(\u001b[0m\u001b[0;34m-\u001b[0m\u001b[0;36m10\u001b[0m\u001b[0;34m)\u001b[0m\u001b[0;34m\u001b[0m\u001b[0m\n\u001b[0m",
      "\u001b[0;32m<ipython-input-6-f0cfba6abe59>\u001b[0m in \u001b[0;36mcircle_area_safer\u001b[0;34m(radius)\u001b[0m\n\u001b[1;32m      1\u001b[0m \u001b[0;32mdef\u001b[0m \u001b[0mcircle_area_safer\u001b[0m\u001b[0;34m(\u001b[0m\u001b[0mradius\u001b[0m\u001b[0;34m)\u001b[0m\u001b[0;34m:\u001b[0m\u001b[0;34m\u001b[0m\u001b[0m\n\u001b[1;32m      2\u001b[0m     \u001b[0;32mif\u001b[0m\u001b[0;34m(\u001b[0m\u001b[0mradius\u001b[0m\u001b[0;34m<\u001b[0m\u001b[0;36m0\u001b[0m\u001b[0;34m)\u001b[0m\u001b[0;34m:\u001b[0m\u001b[0;34m\u001b[0m\u001b[0m\n\u001b[0;32m----> 3\u001b[0;31m         \u001b[0;32mraise\u001b[0m \u001b[0mValueError\u001b[0m\u001b[0;34m(\u001b[0m\u001b[0;34m\"The radius must be positive\"\u001b[0m\u001b[0;34m)\u001b[0m\u001b[0;34m\u001b[0m\u001b[0m\n\u001b[0m\u001b[1;32m      4\u001b[0m     \u001b[0;32melse\u001b[0m\u001b[0;34m:\u001b[0m\u001b[0;34m\u001b[0m\u001b[0m\n\u001b[1;32m      5\u001b[0m         \u001b[0mcircle_area\u001b[0m\u001b[0;34m(\u001b[0m\u001b[0mradius\u001b[0m\u001b[0;34m)\u001b[0m\u001b[0;34m\u001b[0m\u001b[0m\n",
      "\u001b[0;31mValueError\u001b[0m: The radius must be positive"
     ]
    }
   ],
   "source": [
    "def circle_area_safer(radius):\n",
    "    if(radius<0):\n",
    "        raise ValueError(\"The radius must be positive\")\n",
    "    else:\n",
    "        circle_area(radius)\n",
    "        \n",
    "circle_area_safer(-10)"
   ]
  },
  {
   "cell_type": "markdown",
   "metadata": {},
   "source": [
    "f) To test out how functions are called in Python, create a function `print_num_args` that prints the number of arguments it has been called with. The count should not include keyword arguments."
   ]
  },
  {
   "cell_type": "code",
   "execution_count": 7,
   "metadata": {
    "scrolled": true
   },
   "outputs": [
    {
     "name": "stdout",
     "output_type": "stream",
     "text": [
      "3\n"
     ]
    }
   ],
   "source": [
    "# Your definition goes here.\n",
    "def print_num_args(*args):\n",
    "    print(len(args))\n",
    "    \n",
    "print_num_args(1,2,3)  # Should print the number 3."
   ]
  },
  {
   "cell_type": "markdown",
   "metadata": {},
   "source": [
    "g) Write a function `print_kwargs` that prints all the keyword arguments."
   ]
  },
  {
   "cell_type": "code",
   "execution_count": 8,
   "metadata": {
    "scrolled": true
   },
   "outputs": [
    {
     "name": "stdout",
     "output_type": "stream",
     "text": [
      "The 2 regular arguments are:\n",
      "0: alonzo\n",
      "1: zeno\n",
      "And the keyword arguments are (the ordering here is arbitrary):\n",
      "foo is set to 2\n",
      "bar is set to 99\n"
     ]
    },
    {
     "data": {
      "text/plain": [
       "'Should print:\\n\\nThe 2 regular arguments are:\\n0: alonzo\\n1: zeno\\n\\nAnd the keyword arguments are (the ordering here is arbitrary):\\nfoo is set to 2\\nbar is set to 99\\n'"
      ]
     },
     "execution_count": 8,
     "metadata": {},
     "output_type": "execute_result"
    }
   ],
   "source": [
    "def print_kwargs(*args, **kwargs):\n",
    "    print(\"The\", len(args), \"regular arguments are:\")\n",
    "    for i in range(len(args)):\n",
    "        print(\"%s: %s\" % (i, args[i]))\n",
    "    print(\"And the keyword arguments are (the ordering here is arbitrary):\")\n",
    "    for k,v in kwargs.items():\n",
    "        print(\"%s is set to %s\" % (k, v))\n",
    "        \n",
    "\n",
    "print_kwargs(\"alonzo\", \"zeno\", foo=1+1,bar = 99)\n",
    "\n",
    "\"\"\"Should print:\n",
    "\n",
    "The 2 regular arguments are:\n",
    "0: alonzo\n",
    "1: zeno\n",
    "\n",
    "And the keyword arguments are (the ordering here is arbitrary):\n",
    "foo is set to 2\n",
    "bar is set to 99\n",
    "\"\"\""
   ]
  },
  {
   "cell_type": "markdown",
   "metadata": {},
   "source": [
    "h) Below we have a very simple program. Run the first cell. It will succeed. What happens when you run the second cell, and why? In particular, consider the error produced. What does it mean. What value has been returned from the function, and how would you modify the function in order for it to work?"
   ]
  },
  {
   "cell_type": "code",
   "execution_count": 9,
   "metadata": {},
   "outputs": [
    {
     "name": "stdout",
     "output_type": "stream",
     "text": [
      "10255\n"
     ]
    }
   ],
   "source": [
    "def my_polynomial(x):\n",
    "    print(x**2 + 30 + 225)\n",
    "\n",
    "polyval = my_polynomial(100)"
   ]
  },
  {
   "cell_type": "code",
   "execution_count": 10,
   "metadata": {},
   "outputs": [
    {
     "name": "stdout",
     "output_type": "stream",
     "text": [
      "10255\n"
     ]
    },
    {
     "ename": "TypeError",
     "evalue": "unsupported operand type(s) for *: 'int' and 'NoneType'",
     "output_type": "error",
     "traceback": [
      "\u001b[0;31m---------------------------------------------------------------------------\u001b[0m",
      "\u001b[0;31mTypeError\u001b[0m                                 Traceback (most recent call last)",
      "\u001b[0;32m<ipython-input-10-b3cd279745e9>\u001b[0m in \u001b[0;36m<module>\u001b[0;34m()\u001b[0m\n\u001b[0;32m----> 1\u001b[0;31m \u001b[0mdouble_the_polyval\u001b[0m \u001b[0;34m=\u001b[0m \u001b[0;36m2\u001b[0m\u001b[0;34m*\u001b[0m\u001b[0mmy_polynomial\u001b[0m\u001b[0;34m(\u001b[0m\u001b[0;36m100\u001b[0m\u001b[0;34m)\u001b[0m\u001b[0;34m\u001b[0m\u001b[0m\n\u001b[0m",
      "\u001b[0;31mTypeError\u001b[0m: unsupported operand type(s) for *: 'int' and 'NoneType'"
     ]
    }
   ],
   "source": [
    "double_the_polyval = 2*my_polynomial(100)"
   ]
  },
  {
   "cell_type": "code",
   "execution_count": 11,
   "metadata": {},
   "outputs": [
    {
     "data": {
      "text/plain": [
       "20510"
      ]
     },
     "execution_count": 11,
     "metadata": {},
     "output_type": "execute_result"
    }
   ],
   "source": [
    "# Write your answer as a code comment here. \n",
    "## Because my_polynomial function does not have any return value. It only prints the result of operation.\n",
    "## If we want to run 2nd cell successfully, we should put a return value for the function.\n",
    "## Modified version can be found below:\n",
    "\n",
    "def my_polynomial(x):\n",
    "    return(x**2 + 30 + 225)\n",
    "\n",
    "double_the_polyval = 2*my_polynomial(100)\n",
    "double_the_polyval"
   ]
  },
  {
   "cell_type": "markdown",
   "metadata": {},
   "source": [
    "## Script/program construction (a tiny example)"
   ]
  },
  {
   "cell_type": "markdown",
   "metadata": {},
   "source": [
    "Regardless of which programming language we use, we will likely construct programs or scripts that consist of several functions that work in concert. Below we will create a very simple Monte Carlo simulation as a basis for breaking down a larger (though small) problem into sensible, (re)usable discrete pieces. The resulting program will likely utilise control structures that you have read about before."
   ]
  },
  {
   "cell_type": "markdown",
   "metadata": {},
   "source": [
    "a) The following is a well-known procedure for approximating $\\pi$: pick $n$ uniformly randomly selected coordinates in an $2R\\times 2R$ square. Count the number of the points that fall within the circle of radius $R$ with its center at $(R,R)$. The fraction of these points to the total number of points is used to approximate $\\pi$ (exactly how is for you to figure out). (Note that this is not to be confused with MCMC.)\n",
    "\n",
    "Write a program consisting of several (aptly selected and named) functions, that present the user with the following simple text user interface. The <span style=\"background: yellow;\">yellow</span> text is an example of user input (the user is prompted, and enters the value). It then prints the results of the simulations:"
   ]
  },
  {
   "cell_type": "markdown",
   "metadata": {},
   "source": [
    "`pi_simulation()`\n",
    "\n",
    "<p style=\"font-family: console, monospace\">Welcome to the Monty Carlo PI program!</p>\n",
    "\n",
    "<p style=\"font-family: console, monospace\">\n",
    "Please enter a number of points (or the letter \"q\" to quit): <span style=\"background: yellow;\">100</span><br/>\n",
    "Using 100 points we (this time) got the following value for pi: 3.08<br/>\n",
    "This would mean that tau (2xPI) would be: 6.16\n",
    "</p>\n",
    "\n",
    "<p style=\"font-family: console, monospace\">\n",
    "Please enter a number of points (or the letter \"q\" to quit): <span style=\"background: yellow;\">100</span><br/>\n",
    "Using 100 points we (this time) got the following value for pi: 3.12<br/>\n",
    "This would mean that tau (2xPI) would be: 6.24\n",
    "</p>\n",
    "\n",
    "<p style=\"font-family: console, monospace\">\n",
    "Please enter a number of points (or the letter \"q\" to quit): <span style=\"background: yellow;\">q</span>\n",
    "</p>\n",
    "\n",
    "<p style=\"font-family: console, monospace\">\n",
    "Thank you for choosing Monty Carlo.\n",
    "</p>"
   ]
  },
  {
   "cell_type": "markdown",
   "metadata": {},
   "source": [
    "[**Note**: This is a task largely about program structure. Unless there are substantial performance drawbacks, prefer readability over optimisation.]"
   ]
  },
  {
   "cell_type": "markdown",
   "metadata": {},
   "source": [
    "---\n",
    "** REMEMBER: YOU DO NOT WRITE CODE FOR THE INTERPRETER. YOU WRITE IT FOR OTHER HUMAN READERS. **\n",
    "\n",
    "---\n",
    "\n",
    "An important part of programming is to allow a reader who is perhaps unfamiliar with the code to be able to understand it, and convince themselves that it is correct with respect to specification. There should also be as few surprises as possible."
   ]
  },
  {
   "cell_type": "code",
   "execution_count": 12,
   "metadata": {},
   "outputs": [
    {
     "name": "stdout",
     "output_type": "stream",
     "text": [
      "Welcome to the Monty Carlo PI program!\n",
      "\n",
      "Please enter a number of points (or the letter \"q\" to quit): 100\n",
      "Using 100 points we (this time) got the following value for pi: 3.16\n",
      "This would mean that tau (2xPI) would be: 6.32\n",
      "\n",
      "Please enter a number of points (or the letter \"q\" to quit): 100\n",
      "Using 100 points we (this time) got the following value for pi: 3.0\n",
      "This would mean that tau (2xPI) would be: 6.0\n",
      "\n",
      "Please enter a number of points (or the letter \"q\" to quit): q\n",
      "Thank you for choosing Monty Carlo.\n"
     ]
    }
   ],
   "source": [
    "def pi_MonteCarlo(B, radius):\n",
    "    \n",
    "    import random as r\n",
    "    lots_of_points_x = []\n",
    "    lots_of_points_y = []\n",
    "    \n",
    "    for i in range(0,B):\n",
    "        lots_of_points_x.append(r.uniform(-radius, radius))\n",
    "        lots_of_points_y.append(r.uniform(-radius, radius))\n",
    "    \n",
    "    return([lots_of_points_x, lots_of_points_y])\n",
    "    \n",
    "    \n",
    "def pi_estimation(points, radius):\n",
    "    \n",
    "    n = len(points[0])\n",
    "    distance_origin = [(points[0][i]**2 + points[1][i]**2)**0.5 for i in range(n)]\n",
    "    inside_circle = [True if x<=radius else False for x in distance_origin]\n",
    "    proportion = sum(inside_circle)/n\n",
    "    estimated_pi = proportion*4\n",
    "    \n",
    "    return( estimated_pi )\n",
    "    \n",
    "    \n",
    "def pi_simulation(radius = 1):\n",
    "    \n",
    "    print(\"Welcome to the Monty Carlo PI program!\\n\")\n",
    "    exit = False\n",
    "    \n",
    "    while not(exit):\n",
    "        B = input('Please enter a number of points (or the letter \"q\" to quit): ')\n",
    "        \n",
    "        if B==\"q\":\n",
    "            exit = True\n",
    "            print(\"Thank you for choosing Monty Carlo.\")\n",
    "        \n",
    "        else:\n",
    "            try:\n",
    "                B = int(B)\n",
    "            except ValueError:\n",
    "                print(\"The input is not an integer value!\")\n",
    "            MC_points = pi_MonteCarlo(B, radius)\n",
    "            estimated_pi = pi_estimation(MC_points, radius)\n",
    "            print(\"Using 100 points we (this time) got the following value for pi: {}\".format(estimated_pi))\n",
    "            print(\"This would mean that tau (2xPI) would be: {}\\n\".format(2*estimated_pi))\n",
    "            \n",
    "pi_simulation()\n",
    "    "
   ]
  },
  {
   "cell_type": "markdown",
   "metadata": {},
   "source": [
    "[Hint: You might want to consider the function `input`. Try it out and see what type of value it returns.]"
   ]
  },
  {
   "cell_type": "markdown",
   "metadata": {},
   "source": [
    "b) One feature of Python's simplicity is the possibility to (comparatively) quickly produce code to try out our intuitions. Let's say we want to compare how well our approximation performs, as compared to some gold standard for pi (here: the version in the standard library). Run 100 simulations. How large is the maximum relative error (using the definition above) in this particular run of simulations, if each simulation has $n=10^4$ points? Is it larger or smaller than 5%? Write code that returns this maximum relative error."
   ]
  },
  {
   "cell_type": "code",
   "execution_count": 13,
   "metadata": {
    "scrolled": true
   },
   "outputs": [
    {
     "data": {
      "text/plain": [
       "0.014512592374984016"
      ]
     },
     "execution_count": 13,
     "metadata": {},
     "output_type": "execute_result"
    }
   ],
   "source": [
    "def pi_MC_estimation(B, radius=1):\n",
    "    \n",
    "    lots_of_numbers = pi_MonteCarlo(B, radius)\n",
    "    results = pi_estimation(lots_of_numbers, radius)\n",
    "    return( results )\n",
    "    \n",
    "from math import pi\n",
    "simulations = 100\n",
    "simulation_size = 10**4\n",
    "pi_estimations = [pi_MC_estimation(simulation_size) for x in range(simulations)]\n",
    "relative_errors = [abs(x-pi)/pi for x in pi_estimations]\n",
    "\n",
    "max(relative_errors)\n",
    "# It's lower than 5%"
   ]
  },
  {
   "cell_type": "markdown",
   "metadata": {},
   "source": [
    "[Note: This is only to show a quick way of testing out your code in a readable fashion. You might want to try to write it in a pythonic way. But in terms of performance, it is very likely that the true bottleneck will still be the approximation function itself.]"
   ]
  },
  {
   "cell_type": "markdown",
   "metadata": {},
   "source": [
    "## Fault/bugspotting and tests in a very simple setting"
   ]
  },
  {
   "cell_type": "markdown",
   "metadata": {},
   "source": [
    "It is inevitable that we will make mistakes when programming. An important skill is not only to be able to write code in the first place, but also to be able to figure where one would start looking for faults. This also involves being able to make the expectations we have on the program more explicit, and at the very least construct some sets of automatic \"sanity checks\" for the program. The latter will likely not be something done for every piece of code you write, but it is highly useful for code that might be reused or is hard to understand (due either to programming reasons, or because the underlying mathemetics is dense). When rewriting or optimising code, having such tests are also highly useful to provide hints that the changes haven't broken the code."
   ]
  },
  {
   "cell_type": "markdown",
   "metadata": {},
   "source": [
    "**Task**: The following program is supposed to return the sum of the squares of numbers $0,...,n$."
   ]
  },
  {
   "cell_type": "code",
   "execution_count": 14,
   "metadata": {},
   "outputs": [],
   "source": [
    "# Do not modify this code! You'll fix it later.\n",
    "\n",
    "def update_result(result, i):\n",
    "    result = result + i*i\n",
    "    return result\n",
    "\n",
    "def sum_squares(n):\n",
    "    result = 0\n",
    "    for i in range(n):\n",
    "        result = update_result(n, result)\n"
   ]
  },
  {
   "cell_type": "markdown",
   "metadata": {},
   "source": [
    "a) What mistakes have the programmer made when trying to solve the problem? Name the mistakes in coding or thinking about the issue that you notice (regardless of if they affect the end result). In particular, write down what is wrong (not just \"line X should read ...\"; fixing the code comes later). Feel free to make a copy of the code (pressing `b` in a notebook creates a new cell below) and try it out, add relevant print statements, assertions or anything else that might help. Note down how you spotted the faults."
   ]
  },
  {
   "cell_type": "code",
   "execution_count": 15,
   "metadata": {},
   "outputs": [
    {
     "data": {
      "text/plain": [
       "14"
      ]
     },
     "execution_count": 15,
     "metadata": {},
     "output_type": "execute_result"
    }
   ],
   "source": [
    "# correct one.\n",
    "def update_result(result, i):\n",
    "    result = result + i*i\n",
    "    #print(\"The current result:\",result)\n",
    "    return result\n",
    "\n",
    "def sum_squares(n):\n",
    "    result = 0\n",
    "    for i in range(n+1):\n",
    "        result = update_result(result, i)\n",
    "    return result\n",
    "\n",
    "sum_squares(3)"
   ]
  },
  {
   "cell_type": "code",
   "execution_count": 16,
   "metadata": {},
   "outputs": [],
   "source": [
    "# sum_squares does not have return value\n",
    "\n",
    "# arguments of update_result function used in wrong order when it is called\n",
    "\n",
    "# in the update_result call we used n in the beginning. It should be i. Because we should create and iterate an array\n",
    "## which has numbers 0...n\n",
    "\n",
    "# First we run the function of sum_square and we can see there is no value or error after running it.\n",
    "# We checked the return value of the function and we saw that there is no return value.\n",
    "# Next step we got result but it was strange we realized there is something wrong with calculation and started to check\n",
    "# with for loop. We realized the parameter order of update_result is wrong, we fixed it. After that for input 3 we got\n",
    "# really high value. After realizing this we find another mistake in the range(n) function. When we use range(n) it\n",
    "# only creates the array as 0, 1, ..., n-1. But we need also n. So we should use range(n+1)"
   ]
  },
  {
   "cell_type": "markdown",
   "metadata": {},
   "source": [
    "b) Write a few simple assertions that should pass if the code was correct. Don't forget to include the *why* of the test, preferably in the error message provided in the `AssertionError` if the test fails."
   ]
  },
  {
   "cell_type": "code",
   "execution_count": 17,
   "metadata": {
    "scrolled": false
   },
   "outputs": [
    {
     "ename": "AssertionError",
     "evalue": "The input should not be negative!",
     "output_type": "error",
     "traceback": [
      "\u001b[0;31m---------------------------------------------------------------------------\u001b[0m",
      "\u001b[0;31mAssertionError\u001b[0m                            Traceback (most recent call last)",
      "\u001b[0;32m<ipython-input-17-2f4d18c2dc0b>\u001b[0m in \u001b[0;36m<module>\u001b[0;34m()\u001b[0m\n\u001b[1;32m     17\u001b[0m     \u001b[0mprint\u001b[0m\u001b[0;34m(\u001b[0m\u001b[0;34m\"--- test_sum_squares finished successfully\"\u001b[0m\u001b[0;34m)\u001b[0m\u001b[0;34m\u001b[0m\u001b[0m\n\u001b[1;32m     18\u001b[0m \u001b[0;34m\u001b[0m\u001b[0m\n\u001b[0;32m---> 19\u001b[0;31m \u001b[0mtest_sum_squares\u001b[0m\u001b[0;34m(\u001b[0m\u001b[0;34m)\u001b[0m\u001b[0;34m\u001b[0m\u001b[0m\n\u001b[0m",
      "\u001b[0;32m<ipython-input-17-2f4d18c2dc0b>\u001b[0m in \u001b[0;36mtest_sum_squares\u001b[0;34m()\u001b[0m\n\u001b[1;32m     13\u001b[0m \u001b[0;34m\u001b[0m\u001b[0m\n\u001b[1;32m     14\u001b[0m     \u001b[0;32mfor\u001b[0m \u001b[0marg\u001b[0m\u001b[0;34m,\u001b[0m \u001b[0moutput\u001b[0m\u001b[0;34m,\u001b[0m \u001b[0merror_msg\u001b[0m \u001b[0;32min\u001b[0m \u001b[0mtests\u001b[0m\u001b[0;34m:\u001b[0m\u001b[0;34m\u001b[0m\u001b[0m\n\u001b[0;32m---> 15\u001b[0;31m         \u001b[0;32massert\u001b[0m \u001b[0msum_squares\u001b[0m\u001b[0;34m(\u001b[0m\u001b[0marg\u001b[0m\u001b[0;34m)\u001b[0m \u001b[0;34m==\u001b[0m \u001b[0moutput\u001b[0m\u001b[0;34m,\u001b[0m \u001b[0merror_msg\u001b[0m\u001b[0;34m\u001b[0m\u001b[0m\n\u001b[0m\u001b[1;32m     16\u001b[0m \u001b[0;34m\u001b[0m\u001b[0m\n\u001b[1;32m     17\u001b[0m     \u001b[0mprint\u001b[0m\u001b[0;34m(\u001b[0m\u001b[0;34m\"--- test_sum_squares finished successfully\"\u001b[0m\u001b[0;34m)\u001b[0m\u001b[0;34m\u001b[0m\u001b[0m\n",
      "\u001b[0;31mAssertionError\u001b[0m: The input should not be negative!"
     ]
    }
   ],
   "source": [
    "def test_sum_squares():\n",
    "    \n",
    "    # Format: ( input, expected output, error message )\n",
    "    # You may replace these with namedtuples if you want to.\n",
    "    \n",
    "    tests = (\n",
    "        # ( input, expected_output , error_message ), \n",
    "        (3, 14, \"The output is wrong!\"),\n",
    "        (-3, None, \"The input should not be negative!\"),     # in this how can we expect error instead of this\n",
    "        (1.2, None, \"The input should be integer!\")\n",
    "        # Add more test cases here.\n",
    "    )\n",
    "    \n",
    "    for arg, output, error_msg in tests:\n",
    "        assert sum_squares(arg) == output, error_msg\n",
    "    \n",
    "    print(\"--- test_sum_squares finished successfully\")\n",
    "        \n",
    "test_sum_squares()"
   ]
  },
  {
   "cell_type": "markdown",
   "metadata": {},
   "source": [
    "sum_squares(2)\n"
   ]
  },
  {
   "cell_type": "markdown",
   "metadata": {},
   "source": [
    "[Note: Might there be any corner/edge cases here?]"
   ]
  },
  {
   "cell_type": "markdown",
   "metadata": {},
   "source": [
    "c) Write a correct version of the code, which conforms to the specification."
   ]
  },
  {
   "cell_type": "code",
   "execution_count": 18,
   "metadata": {},
   "outputs": [
    {
     "name": "stdout",
     "output_type": "stream",
     "text": [
      "--- test_sum_squares finished successfully\n"
     ]
    }
   ],
   "source": [
    "def sum_squares(n):\n",
    "    if(n<0 or not isinstance(n,int)):\n",
    "        return None\n",
    "    result = 0\n",
    "    for i in range(n+1):\n",
    "        result = update_result(result, i)\n",
    "    return result\n",
    "\n",
    "test_sum_squares()   # It should pass all the tests!"
   ]
  },
  {
   "cell_type": "markdown",
   "metadata": {},
   "source": [
    "[Note: This is also a rather primitive testing strategy, but it is sometimes enough. If we wanted to provide more advanced testing facilities, we might eg use a proper unit test framework, or use tools to do property based testing. This, as well as formal verification, is outside the scope of this course.\n",
    "\n",
    "Those interested in testing might want to consult the web page for the IDA course [TDDD04 Software testing](https://www.ida.liu.se/~TDDD04/) or the somewhat abbreviation-heavy book by [Ammann & Offutt](https://cs.gmu.edu/~offutt/softwaretest/), which apparently also features video lectures.]"
   ]
  },
  {
   "cell_type": "markdown",
   "metadata": {},
   "source": [
    "## Polymorphic behaviour (via duck typing)"
   ]
  },
  {
   "cell_type": "markdown",
   "metadata": {},
   "source": [
    "In Python we often write functions that can handle several different types of data. A common pattern is writing code which is expected to work with several types of collections of data, for instance. This expectation is however in the mind of the programmer (at least without type annotations), and not something that the interpreter will enforce until runtime. This provides a lot of flexibility, but also requires us to understand what our code means for the different kinds of input. Below we try this out, and in particular return to previously known control structures."
   ]
  },
  {
   "cell_type": "markdown",
   "metadata": {},
   "source": [
    "a) Write a function `last_idx` that takes two arguments `seq` and `elem` and returns the index of the last occurrence of the element `elem` in the iterable `seq`. If the sequence doesn't contain the element, return -1. (You may not use built-ins like .find() here.)"
   ]
  },
  {
   "cell_type": "code",
   "execution_count": 19,
   "metadata": {},
   "outputs": [
    {
     "data": {
      "text/plain": [
       "8"
      ]
     },
     "execution_count": 19,
     "metadata": {},
     "output_type": "execute_result"
    }
   ],
   "source": [
    "def last_idx(seq, elem):\n",
    "    keys =  list(seq.keys()) if type(seq)==dict else list(range(len(seq)))\n",
    "    for i in keys[::-1]:\n",
    "        if(seq[i]==elem):\n",
    "            return i\n",
    "    return -1\n",
    "\n",
    "seq = [1,2,35,3,-1,4,35,1,3,4,9]\n",
    "last_idx(seq, 3)"
   ]
  },
  {
   "cell_type": "markdown",
   "metadata": {},
   "source": [
    "b) What does your function require of the input? In particular, your answer should include if it would work with a string, a list or a dictionary. In the latter case, what would `elem` be matched against?"
   ]
  },
  {
   "cell_type": "code",
   "execution_count": 20,
   "metadata": {},
   "outputs": [],
   "source": [
    "# This function can work with directly iteratable with index. Strings and lists are directly iterable with index\n",
    "# which means that we can iterate like str[1] or list[3]... \n",
    "# It cannot work with dictionary because dictionaries are like hash maps they are not iteratable with index.\n",
    "# For dictionary we should iterate all items in the dictionary with their keys instead of indexes.\n",
    "\n",
    "# The function above is updated in order to work with also dictionaries."
   ]
  },
  {
   "cell_type": "markdown",
   "metadata": {},
   "source": [
    "c) Add some `assert`-style tests that your code should satisfy. For each test, provide a description of what it tests, and why. That can be made as part of the assert statement itself."
   ]
  },
  {
   "cell_type": "code",
   "execution_count": 21,
   "metadata": {},
   "outputs": [
    {
     "name": "stdout",
     "output_type": "stream",
     "text": [
      "--- test_last_idx finished successfully\n"
     ]
    }
   ],
   "source": [
    "def test_last_idx():\n",
    "    \n",
    "    # Format: ( (seq, elem), expected output, error message )\n",
    "    # You may replace these with namedtuples if you want to.\n",
    "    \n",
    "    tests = ( \n",
    "        # test case for vector\n",
    "        ( ([1,2,3,2], 2), 3, \"last_idx should return last index, for sequences with several occurrences. [vector]\"), \n",
    "        # test case for character in string\n",
    "        ( (\"bohemian rhapsody\",\"o\"), 14, \"last_idx should return last index, for sequences with several occurrences. [string]\"),\n",
    "        # test case for dictionary\n",
    "        ( ({'a':3, 'b':5, 'e':1, 'c':12, 'f':1}, 1), 'f', \"last_idx should return last index, for sequences with several occurrences. [dictionary]\")\n",
    "        # Add more test cases here.\n",
    "    )\n",
    "    \n",
    "    for args, output, error_msg in tests:\n",
    "        assert last_idx(*args) == output, error_msg     # last_idx takes two arguments. We unpack the tuple.\n",
    "    \n",
    "    print(\"--- test_last_idx finished successfully\")\n",
    "        \n",
    "test_last_idx()"
   ]
  },
  {
   "cell_type": "markdown",
   "metadata": {},
   "source": [
    "The fact that a program doesn't crash when given a certain input doesn't necessarily ensure that the results are what  we expect. Thus we need to get a feel for how eg iteration over different types of data behaves, in order to understand how our function behaves."
   ]
  },
  {
   "cell_type": "markdown",
   "metadata": {},
   "source": [
    "d) Can we use `last_idx` with a text file? What would the program try to match `elem` against? What would the return value signify (eg number of words from the start of the file, lines from the start of the file, bytes read...)?"
   ]
  },
  {
   "cell_type": "code",
   "execution_count": 22,
   "metadata": {},
   "outputs": [
    {
     "name": "stdout",
     "output_type": "stream",
     "text": [
      "7\n",
      "1\n"
     ]
    }
   ],
   "source": [
    "# We cannot use last_idx function directly with a file. Because it is not optimized for using file.\n",
    "# We can create a quick script to see which rows has that character (elem) at which index.\n",
    "with open(\"test.txt\", \"r\") as file:\n",
    "    # this line will check each row and it will return the index of character if\n",
    "    # the line has the char otherwise return -1. \n",
    "    result = [last_idx(line, \"n\") for line in file]\n",
    "    \n",
    "# Now we will check if the result of line positive and print the line no.\n",
    "for i in list(range(len(result)))[::-1]:\n",
    "    if(result[i]>0):\n",
    "        print(i+1) # we add 1 to see which row it is\n"
   ]
  },
  {
   "cell_type": "markdown",
   "metadata": {},
   "source": [
    "[Hint: Try it out! Open a file like in lab 1, using a `with` statement, and pass the file handle to the function. What is the easiest way for you to check what the function is comparing?]"
   ]
  },
  {
   "cell_type": "markdown",
   "metadata": {},
   "source": [
    "### Attribution\n",
    "\n",
    "Lab created by Anders Märak Leffler (2019), using some material by Johan Falkenjack. Feel free to reuse the material, but do so with attribution. License [CC-BY-SA 4.0](https://creativecommons.org/licenses/by-sa/4.0/)."
   ]
  }
 ],
 "metadata": {
  "kernelspec": {
   "display_name": "Python 3",
   "language": "python",
   "name": "python3"
  },
  "language_info": {
   "codemirror_mode": {
    "name": "ipython",
    "version": 3
   },
   "file_extension": ".py",
   "mimetype": "text/x-python",
   "name": "python",
   "nbconvert_exporter": "python",
   "pygments_lexer": "ipython3",
   "version": "3.6.5"
  }
 },
 "nbformat": 4,
 "nbformat_minor": 2
}
