{
 "cells": [
  {
   "cell_type": "markdown",
   "metadata": {
    "colab_type": "text",
    "id": "xzG4K-EMQVu9"
   },
   "source": [
    "# L2: Text classification"
   ]
  },
  {
   "cell_type": "markdown",
   "metadata": {
    "colab_type": "text",
    "id": "QGtyWJF4QVvC"
   },
   "source": [
    "Text classification is the task of sorting text documents into predefined classes. The concrete problem you will be working on in this lab is the classification of texts with respect to their political affiliation. The specific texts you are going to classify are speeches held in the [Riksdag](https://www.riksdagen.se/en/), the Swedish national legislature."
   ]
  },
  {
   "cell_type": "markdown",
   "metadata": {
    "colab_type": "text",
    "id": "uYbzoYdkQVvF"
   },
   "source": [
    "## Data set"
   ]
  },
  {
   "cell_type": "markdown",
   "metadata": {
    "colab_type": "text",
    "id": "u7v2pqW7QVvH"
   },
   "source": [
    "The raw data for this lab comes from [The Riksdag’s Open Data](https://data.riksdagen.se/in-english/). We have tokenized the speeches and put them into two compressed [JSON](https://en.wikipedia.org/wiki/JSON) files:\n",
    "\n",
    "* `speeches-201718.json.bz2` (speeches from the 2017/2018 parliamentary session)\n",
    "* `speeches-201819.json.bz2` (ditto, from the 2018/2019 session)\n",
    "\n",
    "We start by loading these files into two separate data frames."
   ]
  },
  {
   "cell_type": "code",
   "execution_count": null,
   "metadata": {
    "colab": {},
    "colab_type": "code",
    "id": "Y6Eeo302QVvK"
   },
   "outputs": [],
   "source": [
    "import pandas as pd\n",
    "import bz2\n",
    "\n",
    "with bz2.open(\"speeches-201718.json.bz2\") as source:\n",
    "    speeches_201718 = pd.read_json(source)\n",
    "\n",
    "with bz2.open(\"speeches-201819.json.bz2\") as source:\n",
    "    speeches_201819 = pd.read_json(source)"
   ]
  },
  {
   "cell_type": "markdown",
   "metadata": {
    "colab_type": "text",
    "id": "PL9eUtkZQVvR"
   },
   "source": [
    "When you inspect the two data frames, you can see that there are three labelled columns: `id` (the official speech ID), `words` (the space-separated words of the speech), and `party` (the party of the speaker, represented by its customary abbreviation)."
   ]
  },
  {
   "cell_type": "code",
   "execution_count": 4,
   "metadata": {
    "colab": {
     "base_uri": "https://localhost:8080/",
     "height": 206
    },
    "colab_type": "code",
    "id": "umQBxE1gQVvT",
    "outputId": "0a31b884-c255-4f01-9e0c-98c7a530235d"
   },
   "outputs": [
    {
     "data": {
      "text/html": [
       "<div>\n",
       "<style scoped>\n",
       "    .dataframe tbody tr th:only-of-type {\n",
       "        vertical-align: middle;\n",
       "    }\n",
       "\n",
       "    .dataframe tbody tr th {\n",
       "        vertical-align: top;\n",
       "    }\n",
       "\n",
       "    .dataframe thead th {\n",
       "        text-align: right;\n",
       "    }\n",
       "</style>\n",
       "<table border=\"1\" class=\"dataframe\">\n",
       "  <thead>\n",
       "    <tr style=\"text-align: right;\">\n",
       "      <th></th>\n",
       "      <th>id</th>\n",
       "      <th>words</th>\n",
       "      <th>party</th>\n",
       "    </tr>\n",
       "  </thead>\n",
       "  <tbody>\n",
       "    <tr>\n",
       "      <th>0</th>\n",
       "      <td>H5-002-004</td>\n",
       "      <td>eders majestäter eders kungliga högheter herr ...</td>\n",
       "      <td>S</td>\n",
       "    </tr>\n",
       "    <tr>\n",
       "      <th>1</th>\n",
       "      <td>H5-003-001</td>\n",
       "      <td>aktuell debatt om situationen för ensamkommand...</td>\n",
       "      <td>V</td>\n",
       "    </tr>\n",
       "    <tr>\n",
       "      <th>2</th>\n",
       "      <td>H5-003-002</td>\n",
       "      <td>herr talman och ledamöter jag vill börja med a...</td>\n",
       "      <td>S</td>\n",
       "    </tr>\n",
       "    <tr>\n",
       "      <th>3</th>\n",
       "      <td>H5-003-003</td>\n",
       "      <td>herr talman åhörare den här debatten handlar a...</td>\n",
       "      <td>M</td>\n",
       "    </tr>\n",
       "    <tr>\n",
       "      <th>4</th>\n",
       "      <td>H5-003-004</td>\n",
       "      <td>herr talman ansvar och rättssäkerhet är två or...</td>\n",
       "      <td>SD</td>\n",
       "    </tr>\n",
       "  </tbody>\n",
       "</table>\n",
       "</div>"
      ],
      "text/plain": [
       "           id                                              words party\n",
       "0  H5-002-004  eders majestäter eders kungliga högheter herr ...     S\n",
       "1  H5-003-001  aktuell debatt om situationen för ensamkommand...     V\n",
       "2  H5-003-002  herr talman och ledamöter jag vill börja med a...     S\n",
       "3  H5-003-003  herr talman åhörare den här debatten handlar a...     M\n",
       "4  H5-003-004  herr talman ansvar och rättssäkerhet är två or...    SD"
      ]
     },
     "execution_count": 4,
     "metadata": {
      "tags": []
     },
     "output_type": "execute_result"
    }
   ],
   "source": [
    "speeches_201718.head()"
   ]
  },
  {
   "cell_type": "markdown",
   "metadata": {
    "colab_type": "text",
    "id": "ZvuMsDRCQVvb"
   },
   "source": [
    "Throughout the lab, we will be using the speeches from 2017/2018 as our training data, and the speeches from 2018/2019 as our test data."
   ]
  },
  {
   "cell_type": "code",
   "execution_count": null,
   "metadata": {
    "colab": {},
    "colab_type": "code",
    "id": "BV51-KYGQVvc"
   },
   "outputs": [],
   "source": [
    "training_data, test_data = speeches_201718, speeches_201819"
   ]
  },
  {
   "cell_type": "markdown",
   "metadata": {
    "colab_type": "text",
    "id": "Ww1MDbV-QVvi"
   },
   "source": [
    "For later reference, we store the sorted list of party abbreviations."
   ]
  },
  {
   "cell_type": "code",
   "execution_count": 6,
   "metadata": {
    "colab": {
     "base_uri": "https://localhost:8080/",
     "height": 34
    },
    "colab_type": "code",
    "id": "3Ze7Qz7NQVvk",
    "outputId": "dab01f84-da1f-49da-ca14-7ca3c3bbd074"
   },
   "outputs": [
    {
     "name": "stdout",
     "output_type": "stream",
     "text": [
      "['C', 'KD', 'L', 'M', 'MP', 'S', 'SD', 'V']\n"
     ]
    }
   ],
   "source": [
    "parties = sorted(training_data[\"party\"].unique())\n",
    "print(parties)"
   ]
  },
  {
   "cell_type": "markdown",
   "metadata": {
    "colab_type": "text",
    "id": "pZBQ5eHyQVvp",
    "toc-hr-collapsed": false
   },
   "source": [
    "## Problem 1: Visualization"
   ]
  },
  {
   "cell_type": "markdown",
   "metadata": {
    "colab_type": "text",
    "id": "vSdE62MBQVvq"
   },
   "source": [
    "Your first task is to get to know the data better by plotting a simple visualization.\n",
    "\n",
    "If you are not familiar with the Swedish political system and the parties represented in the Riksdag in particular, then we suggest that you have a look at the Wikipedia article about the [2018 Swedish general election](https://en.wikipedia.org/wiki/2018_Swedish_general_election).\n",
    "\n",
    "For the lab, we ask you to compare the two data frames with respect to the distribution of the speeches over the different parties. Write code to generate two bar plots that visualize this information, one for the 2017/2018 speeches and one for the 2018/2019 speeches. Inspect the two plots, and compare them\n",
    "\n",
    "* to each other\n",
    "* to the results of the 2014 and the 2018 general elections\n",
    "\n",
    "Summarize your observations in a short text in the cell below.\n",
    "\n",
    "**Tip:** If you need help with creating bar plots, [Bar Plot using Pandas](https://dfrieds.com/data-visualizations/bar-plot-python-pandas) provides a useful tutorial."
   ]
  },
  {
   "cell_type": "code",
   "execution_count": null,
   "metadata": {
    "colab": {},
    "colab_type": "code",
    "id": "3HpkK_b-QVvr"
   },
   "outputs": [],
   "source": [
    "import matplotlib.pyplot as plt\n",
    "import pandas as pd\n",
    "import numpy as np\n",
    "import seaborn as sns\n",
    "%matplotlib inline"
   ]
  },
  {
   "cell_type": "code",
   "execution_count": 8,
   "metadata": {
    "colab": {
     "base_uri": "https://localhost:8080/",
     "height": 300
    },
    "colab_type": "code",
    "id": "B0LbbsDoQVvw",
    "outputId": "c9222004-7a90-42a9-b981-91dc2e2520b8"
   },
   "outputs": [
    {
     "data": {
      "image/png": "[encoded data removed]",
      "text/plain": [
       "<Figure size 432x288 with 1 Axes>"
      ]
     },
     "metadata": {
      "tags": []
     },
     "output_type": "display_data"
    }
   ],
   "source": [
    "#plot the distribution of the classes\n",
    "import matplotlib.pyplot as plt\n",
    "x1 = training_data[\"party\"].unique()\n",
    "y1 = training_data[\"party\"].value_counts()\n",
    "x2 = test_data[\"party\"].unique()\n",
    "y2 = test_data[\"party\"].value_counts()\n",
    "r1 = np.arange(len(y1))\n",
    "r2 = [x + 0.25 for x in r1]\n",
    "\n",
    "plt.bar(r1, y1, color='blue', edgecolor='white',width = 0.5,\n",
    " label='2017-2018')\n",
    "plt.bar(r2, y2, color='yellow', edgecolor='black', width = 0.5,\n",
    "label='2018-2019')\n",
    "plt.xlabel('Parties', fontweight='bold')\n",
    "plt.xticks([r + 0.25 for r in range(len(y1))], x1)\n",
    "\n",
    "plt.title(\"Speeches VS Parties\", y=1.02)\n",
    "plt.legend()\n",
    "plt.show()"
   ]
  },
  {
   "cell_type": "markdown",
   "metadata": {
    "colab_type": "text",
    "id": "Jf8xjRAqQVv2"
   },
   "source": [
    "### Analysis\n",
    "\n",
    "We can see from the comparison on [Wikipedia](https://en.wikipedia.org/wiki/2018_Swedish_general_election) the changes between won seats as following:  \n",
    "\n",
    "**Increases:**  \n",
    "- SD: (13 seats)  \n",
    "- C: (9 seats)  \n",
    "- V: (7 seats)  \n",
    "- KD: (6 seats)  \n",
    "- L: (1 seats)\n",
    "\n",
    "**Decreases:**  \n",
    "- S: (13 seats)  \n",
    "- M: (14 seats)  \n",
    "- MP: (9 seats)\n",
    "\n",
    "We can see the MP lost 9 seats and in the plot above they also decreased their speeches in 2018 almost half, so it may be the reason the lost seats. Also, it is very clear to see that all parties in the **Increased** category keep their speech count nearly same like in 2017 with so small differences. On the other hand, S, M and MP decreased their speech activity very significantly. We can conclude this as speech counts effected very much to the results of election in 2018."
   ]
  },
  {
   "cell_type": "markdown",
   "metadata": {
    "colab_type": "text",
    "id": "jl6Pnry-QVv4",
    "toc-hr-collapsed": false
   },
   "source": [
    "## Problem 2: Naive Bayes classifier"
   ]
  },
  {
   "cell_type": "markdown",
   "metadata": {
    "colab_type": "text",
    "id": "BlqDpwahQVv4"
   },
   "source": [
    "You are now ready to train and evaluate a classifier. More specifically, we ask you to train a [Multinomial Naive Bayes](https://scikit-learn.org/stable/modules/naive_bayes.html#multinomial-naive-bayes) classifier. You will have to\n",
    "\n",
    "1. vectorize the speeches in the training data\n",
    "2. instantiate and fit the Naive Bayes model\n",
    "3. evaluate the model on the test data\n",
    "\n",
    "The scikit-learn library provides a convenience class [Pipeline](https://scikit-learn.org/stable/modules/generated/sklearn.pipeline.Pipeline.html) that allows you to solve the first two tasks with very compact code. For the evaluation you can use the function [`classification_report`](https://scikit-learn.org/stable/modules/generated/sklearn.metrics.classification_report.html), which will report per-class precision, recall and F1, as well as overall accuracy."
   ]
  },
  {
   "cell_type": "markdown",
   "metadata": {
    "colab_type": "text",
    "id": "iZCk6ELgQVv6"
   },
   "source": [
    "### Implementation with Pipeline (sklearn)"
   ]
  },
  {
   "cell_type": "code",
   "execution_count": null,
   "metadata": {
    "colab": {},
    "colab_type": "code",
    "id": "jF8TU3ksQVv7"
   },
   "outputs": [],
   "source": [
    "# TODO: Write code here to train and evaluate a Multinomial Naive Bayes classifier\n",
    "import numpy as np\n",
    "from sklearn.feature_extraction.text import TfidfVectorizer, CountVectorizer\n",
    "from sklearn.naive_bayes import MultinomialNB\n",
    "from sklearn.pipeline import Pipeline\n",
    "\n",
    "# define the steps for our pipeline\n",
    "steps = [(\"tfidfVectorizer\", CountVectorizer()), (\"multiNB\", MultinomialNB())]\n",
    "# define pipeline object\n",
    "pipeline = Pipeline(steps)"
   ]
  },
  {
   "cell_type": "code",
   "execution_count": null,
   "metadata": {
    "colab": {},
    "colab_type": "code",
    "id": "SU-r749cQVwA"
   },
   "outputs": [],
   "source": [
    "# To implement a pipeline with sklearn we should \n",
    "# split the label from our data\n",
    "trainX, trainY = training_data.drop([\"party\"], axis=1), training_data[\"party\"]\n",
    "testX, testY = test_data.drop([\"party\"], axis=1), test_data[\"party\"]"
   ]
  },
  {
   "cell_type": "code",
   "execution_count": 11,
   "metadata": {
    "colab": {
     "base_uri": "https://localhost:8080/",
     "height": 260
    },
    "colab_type": "code",
    "id": "dn0bUMnZQVwE",
    "outputId": "2847d16b-a399-4217-f7ab-a8132f53ebfd"
   },
   "outputs": [
    {
     "data": {
      "text/plain": [
       "Pipeline(memory=None,\n",
       "         steps=[('tfidfVectorizer',\n",
       "                 CountVectorizer(analyzer='word', binary=False,\n",
       "                                 decode_error='strict',\n",
       "                                 dtype=<class 'numpy.int64'>, encoding='utf-8',\n",
       "                                 input='content', lowercase=True, max_df=1.0,\n",
       "                                 max_features=None, min_df=1,\n",
       "                                 ngram_range=(1, 1), preprocessor=None,\n",
       "                                 stop_words=None, strip_accents=None,\n",
       "                                 token_pattern='(?u)\\\\b\\\\w\\\\w+\\\\b',\n",
       "                                 tokenizer=None, vocabulary=None)),\n",
       "                ('multiNB',\n",
       "                 MultinomialNB(alpha=1.0, class_prior=None, fit_prior=True))],\n",
       "         verbose=False)"
      ]
     },
     "execution_count": 11,
     "metadata": {
      "tags": []
     },
     "output_type": "execute_result"
    }
   ],
   "source": [
    "# define the parameters of pipeline steps\n",
    "params = {\n",
    "    \"multiNB__alpha\":1.0    \n",
    "}\n",
    "# fit the classifier by using the pipeline\n",
    "pipeline.fit(trainX[\"words\"], trainY)"
   ]
  },
  {
   "cell_type": "code",
   "execution_count": null,
   "metadata": {
    "colab": {},
    "colab_type": "code",
    "id": "eB6FENV0QVwI"
   },
   "outputs": [],
   "source": [
    "# prediction\n",
    "preds = pipeline.predict(testX[\"words\"])"
   ]
  },
  {
   "cell_type": "code",
   "execution_count": 13,
   "metadata": {
    "colab": {
     "base_uri": "https://localhost:8080/",
     "height": 34
    },
    "colab_type": "code",
    "id": "-9lxPZOxQVwL",
    "outputId": "940c3010-37d4-4610-b19c-3deae1004415"
   },
   "outputs": [
    {
     "data": {
      "text/plain": [
       "0.7600259256258608"
      ]
     },
     "execution_count": 13,
     "metadata": {
      "tags": []
     },
     "output_type": "execute_result"
    }
   ],
   "source": [
    "#Evaluation on train data\n",
    "pipeline.score(trainX[\"words\"], trainY)"
   ]
  },
  {
   "cell_type": "code",
   "execution_count": 14,
   "metadata": {
    "colab": {
     "base_uri": "https://localhost:8080/",
     "height": 34
    },
    "colab_type": "code",
    "id": "wgoaJyxeQVwQ",
    "outputId": "c897dcc9-a19c-407d-cd24-ac7ace799676"
   },
   "outputs": [
    {
     "data": {
      "text/plain": [
       "0.4280792420327304"
      ]
     },
     "execution_count": 14,
     "metadata": {
      "tags": []
     },
     "output_type": "execute_result"
    }
   ],
   "source": [
    "#Evaluation on test data\n",
    "pipeline.score(testX[\"words\"], testY)"
   ]
  },
  {
   "cell_type": "code",
   "execution_count": 15,
   "metadata": {
    "colab": {
     "base_uri": "https://localhost:8080/",
     "height": 278
    },
    "colab_type": "code",
    "id": "koK6ZjbrQVwT",
    "outputId": "8741fcfa-5a6b-4d6b-c3b2-278bb5f0efe0"
   },
   "outputs": [
    {
     "name": "stdout",
     "output_type": "stream",
     "text": [
      "              precision    recall  f1-score   support\n",
      "\n",
      "           C       0.63      0.04      0.07       671\n",
      "          KD       0.70      0.02      0.03       821\n",
      "           L       0.92      0.02      0.04       560\n",
      "           M       0.36      0.68      0.47      1644\n",
      "          MP       0.36      0.25      0.29       809\n",
      "           S       0.46      0.84      0.59      2773\n",
      "          SD       0.57      0.12      0.20      1060\n",
      "           V       0.59      0.15      0.24       950\n",
      "\n",
      "    accuracy                           0.43      9288\n",
      "   macro avg       0.57      0.26      0.24      9288\n",
      "weighted avg       0.52      0.43      0.34      9288\n",
      "\n"
     ]
    }
   ],
   "source": [
    "from sklearn.metrics import classification_report\n",
    "print(classification_report(testY, preds, target_names=parties))"
   ]
  },
  {
   "cell_type": "markdown",
   "metadata": {
    "colab_type": "text",
    "id": "fi8WhaoMQVwY"
   },
   "source": [
    "### Standard Implementation"
   ]
  },
  {
   "cell_type": "code",
   "execution_count": null,
   "metadata": {
    "colab": {},
    "colab_type": "code",
    "collapsed": true,
    "id": "5qm2SW0EQVwZ",
    "jupyter": {
     "outputs_hidden": true
    }
   },
   "outputs": [],
   "source": [
    "# define and fit vectorizer\n",
    "vectorizer = CountVectorizer()\n",
    "vectorizer.fit(training_data[\"words\"])\n",
    "# data\n",
    "X_train = vectorizer.transform(training_data[\"words\"])\n",
    "y_train = training_data[\"party\"]\n",
    "\n",
    "X_test = vectorizer.transform(test_data[\"words\"])\n",
    "y_test = test_data[\"party\"] "
   ]
  },
  {
   "cell_type": "code",
   "execution_count": 17,
   "metadata": {
    "colab": {
     "base_uri": "https://localhost:8080/",
     "height": 34
    },
    "colab_type": "code",
    "id": "3TutArqSQVwd",
    "outputId": "4c27f917-0e25-461d-8a47-0544f0463444"
   },
   "outputs": [
    {
     "data": {
      "text/plain": [
       "MultinomialNB(alpha=1.0, class_prior=None, fit_prior=True)"
      ]
     },
     "execution_count": 17,
     "metadata": {
      "tags": []
     },
     "output_type": "execute_result"
    }
   ],
   "source": [
    "nbClassifier = MultinomialNB()\n",
    "nbClassifier.fit(X_train, y_train)"
   ]
  },
  {
   "cell_type": "code",
   "execution_count": null,
   "metadata": {
    "colab": {},
    "colab_type": "code",
    "id": "PKshvtRYQVwh"
   },
   "outputs": [],
   "source": [
    "stdPreds = nbClassifier.predict(X_test)"
   ]
  },
  {
   "cell_type": "code",
   "execution_count": 19,
   "metadata": {
    "colab": {
     "base_uri": "https://localhost:8080/",
     "height": 34
    },
    "colab_type": "code",
    "id": "qpVl-UZxQVwj",
    "outputId": "6810983f-ec3f-4743-ba21-8e5ed0443e96"
   },
   "outputs": [
    {
     "data": {
      "text/plain": [
       "0.4280792420327304"
      ]
     },
     "execution_count": 19,
     "metadata": {
      "tags": []
     },
     "output_type": "execute_result"
    }
   ],
   "source": [
    "np.sum(stdPreds == y_test) / len(y_test)"
   ]
  },
  {
   "cell_type": "markdown",
   "metadata": {
    "colab_type": "text",
    "id": "YeRpnXbFQVwn"
   },
   "source": [
    "Would you have expected the results that you got?"
   ]
  },
  {
   "cell_type": "markdown",
   "metadata": {
    "colab_type": "text",
    "id": "4l7ZJFysQVwo"
   },
   "source": [
    "### Analysis\n",
    "In this task we implement a Multinomial Bayes classifier with default choice of parameters.\n",
    "\n",
    "We can now evaluate the classifier using the above results. The accuracy is approximately 43% which is quite low. One can say that we could expected that because of the unbalanced data. Accuracy is just a number though. In order to have a more clear picture, we should compare the accuracies of different models. "
   ]
  },
  {
   "cell_type": "markdown",
   "metadata": {
    "colab_type": "text",
    "id": "5R45PgWdQVwq"
   },
   "source": [
    "## Problem 3: Baseline"
   ]
  },
  {
   "cell_type": "markdown",
   "metadata": {
    "colab_type": "text",
    "id": "KRVkp-loQVws"
   },
   "source": [
    "Evaluation metrics such as accuracy should not be understood as absolute measures of performance, but should be used only to compare different classifiers. When other classifiers are not available, a simple baseline for text classification is **Most Frequent Class (MFC)**. One way to think of this baseline is as a classifier that, for every document, predicts that class which appears most often in the training data.\n",
    "\n",
    "Determine the most frequent class in the 2017/2018 data. What is the accuracy of the MFC baseline on the test data? Given this baseline accuracy, how do you assess the results of the Naive Bayes classifier from Problem&nbsp;2? Answer with a short text."
   ]
  },
  {
   "cell_type": "code",
   "execution_count": 20,
   "metadata": {
    "colab": {
     "base_uri": "https://localhost:8080/",
     "height": 52
    },
    "colab_type": "code",
    "id": "xgN8i15CQVwt",
    "outputId": "b95faaeb-0c3d-4b13-8895-596121c6e7d5"
   },
   "outputs": [
    {
     "name": "stdout",
     "output_type": "stream",
     "text": [
      "Most Frequent Class (MFC): S \n",
      "MFC Accuracy: 0.298557278208441\n"
     ]
    }
   ],
   "source": [
    "freqClass = speeches_201718[\"party\"].value_counts().idxmax()\n",
    "MFC_accuracy = test_data[\"party\"].value_counts()[freqClass]/test_data.shape[0]\n",
    "\n",
    "print(\"Most Frequent Class (MFC): \" + freqClass, \"\\nMFC Accuracy: \" + str(MFC_accuracy))"
   ]
  },
  {
   "cell_type": "markdown",
   "metadata": {
    "colab_type": "text",
    "id": "SzRy1VPBQVwx"
   },
   "source": [
    "### Analysis\n",
    "\n",
    "It is obvious that a baseline classifier will give most of the times poor performance. In that case the accuracy of the MFC baseline is approximately 0.3 which is lower by 13% from the Bayes classifier. Therefore, it seems that the structure of the data causes problem in order to predict the classes correct. We can also comment that for the given problem, the accuracy of the Bayes classifier is quite good, even if the 43% seems low."
   ]
  },
  {
   "cell_type": "markdown",
   "metadata": {
    "colab_type": "text",
    "id": "A8zYXpu4QVwy"
   },
   "source": [
    "## Problem 4: Creating a balanced data set"
   ]
  },
  {
   "cell_type": "markdown",
   "metadata": {
    "colab_type": "text",
    "id": "qwRQ6clTQVw0"
   },
   "source": [
    "As you saw in Problem&nbsp;1, the distribution of the speeches over the eight different parties (classes) is imbalanced. One technique used to alleviate this is **undersampling**, in which one randomly removes samples from over-represented classes until all classes are represented with the same number of samples.\n",
    "\n",
    "Implement undersampling to create a balanced subset of the training data. Rerun the evaluation from Problem&nbsp;2 on the balanced data and compare the results. Discuss your findings in a short text. Would you argue that undersampling make sense for the task of predicting the party of a speaker?\n",
    "\n",
    "**Hint:** Your balanced subset should consist of 5,752 speeches."
   ]
  },
  {
   "cell_type": "code",
   "execution_count": null,
   "metadata": {
    "colab": {},
    "colab_type": "code",
    "id": "3rYgveHcQVw1"
   },
   "outputs": [],
   "source": [
    "lowestCount = training_data[\"party\"].value_counts()[-1]\n",
    "labels = training_data[\"party\"].unique()\n",
    "newTrain = pd.DataFrame()\n",
    "for l in labels:\n",
    "    newTrain = newTrain.append(training_data[training_data[\"party\"]==l].sample(lowestCount, replace=False, random_state=12345))"
   ]
  },
  {
   "cell_type": "code",
   "execution_count": 22,
   "metadata": {
    "colab": {
     "base_uri": "https://localhost:8080/",
     "height": 34
    },
    "colab_type": "code",
    "id": "fse1CrujQVw5",
    "outputId": "05c524c7-50e5-4d3a-99e4-f5c18763af77"
   },
   "outputs": [
    {
     "data": {
      "text/plain": [
       "(5752, 3)"
      ]
     },
     "execution_count": 22,
     "metadata": {
      "tags": []
     },
     "output_type": "execute_result"
    }
   ],
   "source": [
    "newTrain.shape"
   ]
  },
  {
   "cell_type": "code",
   "execution_count": 23,
   "metadata": {
    "colab": {
     "base_uri": "https://localhost:8080/",
     "height": 34
    },
    "colab_type": "code",
    "id": "0RytxsyCQVw8",
    "outputId": "89a7bb8f-832e-4962-d70b-5443c0d80f71"
   },
   "outputs": [
    {
     "data": {
      "text/plain": [
       "0.40654608096468564"
      ]
     },
     "execution_count": 23,
     "metadata": {
      "tags": []
     },
     "output_type": "execute_result"
    }
   ],
   "source": [
    "# Evaluation of balanced newTrain data with test data\n",
    "pipeline.fit(newTrain[\"words\"], newTrain[\"party\"])\n",
    "preds = pipeline.predict(testX[\"words\"])\n",
    "pipeline.score(testX[\"words\"], testY)"
   ]
  },
  {
   "cell_type": "code",
   "execution_count": 24,
   "metadata": {
    "colab": {
     "base_uri": "https://localhost:8080/",
     "height": 278
    },
    "colab_type": "code",
    "id": "yMVrpkftQVxB",
    "outputId": "b8ea2bce-c72b-4f5f-e819-c7d7074dcc79"
   },
   "outputs": [
    {
     "name": "stdout",
     "output_type": "stream",
     "text": [
      "              precision    recall  f1-score   support\n",
      "\n",
      "           C       0.28      0.43      0.34       671\n",
      "          KD       0.32      0.39      0.35       821\n",
      "           L       0.28      0.43      0.34       560\n",
      "           M       0.40      0.51      0.45      1644\n",
      "          MP       0.35      0.39      0.37       809\n",
      "           S       0.80      0.28      0.42      2773\n",
      "          SD       0.43      0.42      0.43      1060\n",
      "           V       0.39      0.57      0.46       950\n",
      "\n",
      "    accuracy                           0.41      9288\n",
      "   macro avg       0.41      0.43      0.39      9288\n",
      "weighted avg       0.49      0.41      0.41      9288\n",
      "\n"
     ]
    }
   ],
   "source": [
    "print(classification_report(testY, preds, target_names=parties))"
   ]
  },
  {
   "cell_type": "markdown",
   "metadata": {
    "colab_type": "text",
    "id": "_5SOLfv7QVxE"
   },
   "source": [
    "### Analysis\n",
    "\n",
    "Undersampling provides us better recall scores, and better balance between precision and recall. We can see this effect from f1-scores. Although we have lower accuracy, we have higher f1-scores which makes our classifier more balanced.\n",
    "\n",
    "Undersampling is a really simple techinque but it can work efficient enough in many causes. In that case thought, it seems that that method can not help. A reason could be that we train our classifier in less data than before(5752 instead of 12343). Moreover, using the count Vectorization technique, the number of features we have is really high(75125)."
   ]
  },
  {
   "cell_type": "markdown",
   "metadata": {
    "colab_type": "text",
    "id": "f2zku-b0QVxF"
   },
   "source": [
    "## Problem 5: Confusion matrix"
   ]
  },
  {
   "cell_type": "markdown",
   "metadata": {
    "colab_type": "text",
    "id": "ARQjUqaxQVxG"
   },
   "source": [
    "A **confusion matrix** is a specific table layout that is useful when analysing the performance of a classifier. In this matrix, both the rows and the columns correspond to classes, and each cell $(i, j)$ states how many times a sample with gold-standard class $i$ was predicted as belonging to class $j$.\n",
    "\n",
    "In scitkit-learn, the confusion matrix of a classifier is computed by the function [`confusion_matrix`](https://scikit-learn.org/stable/modules/generated/sklearn.metrics.confusion_matrix.html).\n",
    "\n",
    "Your task is to use the confusion matrix to find, for each given party $p$ in the Riksdag, that other party $p'$ which the classifier that you trained in Problem&nbsp;4 most often confuses $p$ with when it predicts the party of a speaker."
   ]
  },
  {
   "cell_type": "code",
   "execution_count": null,
   "metadata": {
    "colab": {},
    "colab_type": "code",
    "id": "3-WwCRqHQVxG"
   },
   "outputs": [],
   "source": [
    "from sklearn.metrics import confusion_matrix\n",
    "conf_matrix = confusion_matrix(testY, preds)"
   ]
  },
  {
   "cell_type": "code",
   "execution_count": 26,
   "metadata": {
    "colab": {
     "base_uri": "https://localhost:8080/",
     "height": 300
    },
    "colab_type": "code",
    "id": "fRvfTE9GQVxJ",
    "outputId": "d00a30b3-57e9-4f73-f30a-9a05104b9920"
   },
   "outputs": [
    {
     "data": {
      "text/html": [
       "<div>\n",
       "<style scoped>\n",
       "    .dataframe tbody tr th:only-of-type {\n",
       "        vertical-align: middle;\n",
       "    }\n",
       "\n",
       "    .dataframe tbody tr th {\n",
       "        vertical-align: top;\n",
       "    }\n",
       "\n",
       "    .dataframe thead th {\n",
       "        text-align: right;\n",
       "    }\n",
       "</style>\n",
       "<table border=\"1\" class=\"dataframe\">\n",
       "  <thead>\n",
       "    <tr style=\"text-align: right;\">\n",
       "      <th></th>\n",
       "      <th>C</th>\n",
       "      <th>KD</th>\n",
       "      <th>L</th>\n",
       "      <th>M</th>\n",
       "      <th>MP</th>\n",
       "      <th>S</th>\n",
       "      <th>SD</th>\n",
       "      <th>V</th>\n",
       "    </tr>\n",
       "  </thead>\n",
       "  <tbody>\n",
       "    <tr>\n",
       "      <th>C</th>\n",
       "      <td>288</td>\n",
       "      <td>57</td>\n",
       "      <td>47</td>\n",
       "      <td>105</td>\n",
       "      <td>47</td>\n",
       "      <td>18</td>\n",
       "      <td>55</td>\n",
       "      <td>54</td>\n",
       "    </tr>\n",
       "    <tr>\n",
       "      <th>KD</th>\n",
       "      <td>87</td>\n",
       "      <td>324</td>\n",
       "      <td>55</td>\n",
       "      <td>158</td>\n",
       "      <td>33</td>\n",
       "      <td>24</td>\n",
       "      <td>66</td>\n",
       "      <td>74</td>\n",
       "    </tr>\n",
       "    <tr>\n",
       "      <th>L</th>\n",
       "      <td>52</td>\n",
       "      <td>47</td>\n",
       "      <td>241</td>\n",
       "      <td>63</td>\n",
       "      <td>32</td>\n",
       "      <td>10</td>\n",
       "      <td>45</td>\n",
       "      <td>70</td>\n",
       "    </tr>\n",
       "    <tr>\n",
       "      <th>M</th>\n",
       "      <td>192</td>\n",
       "      <td>163</td>\n",
       "      <td>130</td>\n",
       "      <td>831</td>\n",
       "      <td>84</td>\n",
       "      <td>40</td>\n",
       "      <td>110</td>\n",
       "      <td>94</td>\n",
       "    </tr>\n",
       "    <tr>\n",
       "      <th>MP</th>\n",
       "      <td>60</td>\n",
       "      <td>56</td>\n",
       "      <td>57</td>\n",
       "      <td>104</td>\n",
       "      <td>316</td>\n",
       "      <td>72</td>\n",
       "      <td>47</td>\n",
       "      <td>97</td>\n",
       "    </tr>\n",
       "    <tr>\n",
       "      <th>S</th>\n",
       "      <td>202</td>\n",
       "      <td>221</td>\n",
       "      <td>184</td>\n",
       "      <td>491</td>\n",
       "      <td>321</td>\n",
       "      <td>789</td>\n",
       "      <td>205</td>\n",
       "      <td>360</td>\n",
       "    </tr>\n",
       "    <tr>\n",
       "      <th>SD</th>\n",
       "      <td>90</td>\n",
       "      <td>86</td>\n",
       "      <td>98</td>\n",
       "      <td>188</td>\n",
       "      <td>39</td>\n",
       "      <td>16</td>\n",
       "      <td>449</td>\n",
       "      <td>94</td>\n",
       "    </tr>\n",
       "    <tr>\n",
       "      <th>V</th>\n",
       "      <td>53</td>\n",
       "      <td>65</td>\n",
       "      <td>59</td>\n",
       "      <td>113</td>\n",
       "      <td>35</td>\n",
       "      <td>16</td>\n",
       "      <td>71</td>\n",
       "      <td>538</td>\n",
       "    </tr>\n",
       "  </tbody>\n",
       "</table>\n",
       "</div>"
      ],
      "text/plain": [
       "      C   KD    L    M   MP    S   SD    V\n",
       "C   288   57   47  105   47   18   55   54\n",
       "KD   87  324   55  158   33   24   66   74\n",
       "L    52   47  241   63   32   10   45   70\n",
       "M   192  163  130  831   84   40  110   94\n",
       "MP   60   56   57  104  316   72   47   97\n",
       "S   202  221  184  491  321  789  205  360\n",
       "SD   90   86   98  188   39   16  449   94\n",
       "V    53   65   59  113   35   16   71  538"
      ]
     },
     "execution_count": 26,
     "metadata": {
      "tags": []
     },
     "output_type": "execute_result"
    }
   ],
   "source": [
    "dfConfMatrix = pd.DataFrame(conf_matrix, index=parties, columns=parties)\n",
    "dfConfMatrix"
   ]
  },
  {
   "cell_type": "code",
   "execution_count": 27,
   "metadata": {
    "colab": {
     "base_uri": "https://localhost:8080/",
     "height": 156
    },
    "colab_type": "code",
    "id": "LUuhy8MJQVxM",
    "outputId": "a561b387-e772-4a40-8284-46801b378b55"
   },
   "outputs": [
    {
     "data": {
      "text/plain": [
       "[('C', 'M'),\n",
       " ('KD', 'M'),\n",
       " ('L', 'V'),\n",
       " ('M', 'C'),\n",
       " ('MP', 'M'),\n",
       " ('S', 'M'),\n",
       " ('SD', 'M'),\n",
       " ('V', 'M')]"
      ]
     },
     "execution_count": 27,
     "metadata": {
      "tags": []
     },
     "output_type": "execute_result"
    }
   ],
   "source": [
    "mostConfusingParties = [(k, v[v!=v[k]].idxmax()) for (k,v) in dfConfMatrix.iterrows()]\n",
    "mostConfusingParties"
   ]
  },
  {
   "cell_type": "markdown",
   "metadata": {
    "colab_type": "text",
    "id": "3MWf9AxjQVxO"
   },
   "source": [
    "The diagonal of the confusion matrix gives us the proportion of each class which classified correctly. In that task, we went through each row in order to find the most common class for each missclassified class. \n",
    "\n",
    "In the list above, the first element in the tuple is the true label, and the second is the most common label when the class is misclassified. As we cna see in almost all the classes, the \"misleading\" class is \"M\"."
   ]
  },
  {
   "cell_type": "markdown",
   "metadata": {
    "colab_type": "text",
    "id": "ELJbLVqBQVxP"
   },
   "source": [
    "## Problem 6: Grid search"
   ]
  },
  {
   "cell_type": "markdown",
   "metadata": {
    "colab_type": "text",
    "id": "PIBo4rUTQVxQ"
   },
   "source": [
    "Until now, you have been using the vectorizer and the Naive Bayes classifier with their default hyperparameters. When working with real-world applications, you would want to find settings for the hyperparameters that maximize the performance for the task at hand.\n",
    "\n",
    "Manually tweaking the hyperparameters of the various components of a vectorizer–classifier pipeline can be cumbersome. However, scikit-learn makes it possible to run an exhaustive search for the best hyperparameters over a grid of possible values. This method is known as **grid search**.\n",
    "\n",
    "The hyperparameters of a pipeline should never be tuned on the final test set. (Why would that be a bad idea?) Instead, one should either use a separate validation set, or run cross-validation over different folds. Here we will use cross-validation.\n",
    "\n",
    "Implement a grid search with 5-fold cross-validation to find the optimal parameters in a grid defined by the following choices for the hyperparameters:\n",
    "\n",
    "* In the vectorizer, try a set-of-words model instead of the default bag-of-words model (two possible parameter values).\n",
    "* Also in the vectorizer, try extracting $n$-grams up to $n = 2$ (two possible parameter values).\n",
    "* In the Naive Bayes classifier, try using additive smoothing with $\\alpha \\in \\{1, 0{.}1\\}$ (two possible parameter values).\n",
    "\n",
    "Use the class [GridSearchCV](https://scikit-learn.org/stable/modules/generated/sklearn.model_selection.GridSearchCV.html) from the scikit-learn library. Print the results of your best model, along with the parameter values that yielded these results."
   ]
  },
  {
   "cell_type": "code",
   "execution_count": null,
   "metadata": {
    "colab": {},
    "colab_type": "code",
    "id": "gNvFhwKvQVxR"
   },
   "outputs": [],
   "source": [
    "parameters = {\n",
    "    \"tfidfVectorizer__ngram_range\": [(1,1), (1,2)],\n",
    "    \"tfidfVectorizer__binary\": [True, False],\n",
    "    \"multiNB__alpha\": [1,0.1]\n",
    "}"
   ]
  },
  {
   "cell_type": "code",
   "execution_count": 29,
   "metadata": {
    "colab": {
     "base_uri": "https://localhost:8080/",
     "height": 607
    },
    "colab_type": "code",
    "id": "WOvCwb5pQVxT",
    "outputId": "62549ca5-72fb-4ebc-b479-2672cbd1a45b"
   },
   "outputs": [
    {
     "name": "stdout",
     "output_type": "stream",
     "text": [
      "Fitting 5 folds for each of 8 candidates, totalling 40 fits\n"
     ]
    },
    {
     "name": "stderr",
     "output_type": "stream",
     "text": [
      "[Parallel(n_jobs=1)]: Using backend SequentialBackend with 1 concurrent workers.\n",
      "[Parallel(n_jobs=1)]: Done  40 out of  40 | elapsed:  4.3min finished\n"
     ]
    },
    {
     "data": {
      "text/plain": [
       "GridSearchCV(cv=5, error_score='raise-deprecating',\n",
       "             estimator=Pipeline(memory=None,\n",
       "                                steps=[('tfidfVectorizer',\n",
       "                                        CountVectorizer(analyzer='word',\n",
       "                                                        binary=False,\n",
       "                                                        decode_error='strict',\n",
       "                                                        dtype=<class 'numpy.int64'>,\n",
       "                                                        encoding='utf-8',\n",
       "                                                        input='content',\n",
       "                                                        lowercase=True,\n",
       "                                                        max_df=1.0,\n",
       "                                                        max_features=None,\n",
       "                                                        min_df=1,\n",
       "                                                        ngram_range=(1, 1),\n",
       "                                                        preprocessor=None,\n",
       "                                                        stop_words=None,\n",
       "                                                        strip_accen...\n",
       "                                                        token_pattern='(?u)\\\\b\\\\w\\\\w+\\\\b',\n",
       "                                                        tokenizer=None,\n",
       "                                                        vocabulary=None)),\n",
       "                                       ('multiNB',\n",
       "                                        MultinomialNB(alpha=1.0,\n",
       "                                                      class_prior=None,\n",
       "                                                      fit_prior=True))],\n",
       "                                verbose=False),\n",
       "             iid='warn', n_jobs=None,\n",
       "             param_grid={'multiNB__alpha': [1, 0.1],\n",
       "                         'tfidfVectorizer__binary': [True, False],\n",
       "                         'tfidfVectorizer__ngram_range': [(1, 1), (1, 2)]},\n",
       "             pre_dispatch='2*n_jobs', refit=True, return_train_score=False,\n",
       "             scoring=None, verbose=1)"
      ]
     },
     "execution_count": 29,
     "metadata": {
      "tags": []
     },
     "output_type": "execute_result"
    }
   ],
   "source": [
    "from sklearn.model_selection import GridSearchCV\n",
    "grid = GridSearchCV(pipeline, param_grid=parameters, cv=5, verbose=1)\n",
    "grid.fit(training_data[\"words\"], training_data[\"party\"])"
   ]
  },
  {
   "cell_type": "code",
   "execution_count": 30,
   "metadata": {
    "colab": {
     "base_uri": "https://localhost:8080/",
     "height": 459
    },
    "colab_type": "code",
    "id": "nr2E02nqQVxV",
    "outputId": "cca4e293-8b65-4e30-c3cc-a2a45a147849"
   },
   "outputs": [
    {
     "data": {
      "text/html": [
       "<div>\n",
       "<style scoped>\n",
       "    .dataframe tbody tr th:only-of-type {\n",
       "        vertical-align: middle;\n",
       "    }\n",
       "\n",
       "    .dataframe tbody tr th {\n",
       "        vertical-align: top;\n",
       "    }\n",
       "\n",
       "    .dataframe thead th {\n",
       "        text-align: right;\n",
       "    }\n",
       "</style>\n",
       "<table border=\"1\" class=\"dataframe\">\n",
       "  <thead>\n",
       "    <tr style=\"text-align: right;\">\n",
       "      <th></th>\n",
       "      <th>mean_fit_time</th>\n",
       "      <th>std_fit_time</th>\n",
       "      <th>mean_score_time</th>\n",
       "      <th>std_score_time</th>\n",
       "      <th>param_multiNB__alpha</th>\n",
       "      <th>param_tfidfVectorizer__binary</th>\n",
       "      <th>param_tfidfVectorizer__ngram_range</th>\n",
       "      <th>params</th>\n",
       "      <th>split0_test_score</th>\n",
       "      <th>split1_test_score</th>\n",
       "      <th>split2_test_score</th>\n",
       "      <th>split3_test_score</th>\n",
       "      <th>split4_test_score</th>\n",
       "      <th>mean_test_score</th>\n",
       "      <th>std_test_score</th>\n",
       "      <th>rank_test_score</th>\n",
       "    </tr>\n",
       "  </thead>\n",
       "  <tbody>\n",
       "    <tr>\n",
       "      <th>0</th>\n",
       "      <td>2.238394</td>\n",
       "      <td>0.052837</td>\n",
       "      <td>0.550300</td>\n",
       "      <td>0.022317</td>\n",
       "      <td>1</td>\n",
       "      <td>True</td>\n",
       "      <td>(1, 1)</td>\n",
       "      <td>{'multiNB__alpha': 1, 'tfidfVectorizer__binary...</td>\n",
       "      <td>0.474302</td>\n",
       "      <td>0.468206</td>\n",
       "      <td>0.471851</td>\n",
       "      <td>0.474878</td>\n",
       "      <td>0.455393</td>\n",
       "      <td>0.468930</td>\n",
       "      <td>0.007161</td>\n",
       "      <td>6</td>\n",
       "    </tr>\n",
       "    <tr>\n",
       "      <th>1</th>\n",
       "      <td>8.697752</td>\n",
       "      <td>0.160871</td>\n",
       "      <td>1.345931</td>\n",
       "      <td>0.031226</td>\n",
       "      <td>1</td>\n",
       "      <td>True</td>\n",
       "      <td>(1, 2)</td>\n",
       "      <td>{'multiNB__alpha': 1, 'tfidfVectorizer__binary...</td>\n",
       "      <td>0.397005</td>\n",
       "      <td>0.388821</td>\n",
       "      <td>0.397327</td>\n",
       "      <td>0.410454</td>\n",
       "      <td>0.390511</td>\n",
       "      <td>0.396824</td>\n",
       "      <td>0.007614</td>\n",
       "      <td>8</td>\n",
       "    </tr>\n",
       "    <tr>\n",
       "      <th>2</th>\n",
       "      <td>2.203430</td>\n",
       "      <td>0.024813</td>\n",
       "      <td>0.548748</td>\n",
       "      <td>0.022635</td>\n",
       "      <td>1</td>\n",
       "      <td>False</td>\n",
       "      <td>(1, 1)</td>\n",
       "      <td>{'multiNB__alpha': 1, 'tfidfVectorizer__binary...</td>\n",
       "      <td>0.514771</td>\n",
       "      <td>0.509923</td>\n",
       "      <td>0.521669</td>\n",
       "      <td>0.500000</td>\n",
       "      <td>0.486212</td>\n",
       "      <td>0.506522</td>\n",
       "      <td>0.012359</td>\n",
       "      <td>5</td>\n",
       "    </tr>\n",
       "    <tr>\n",
       "      <th>3</th>\n",
       "      <td>8.553581</td>\n",
       "      <td>0.119712</td>\n",
       "      <td>1.341935</td>\n",
       "      <td>0.043862</td>\n",
       "      <td>1</td>\n",
       "      <td>False</td>\n",
       "      <td>(1, 2)</td>\n",
       "      <td>{'multiNB__alpha': 1, 'tfidfVectorizer__binary...</td>\n",
       "      <td>0.420478</td>\n",
       "      <td>0.404617</td>\n",
       "      <td>0.409072</td>\n",
       "      <td>0.419773</td>\n",
       "      <td>0.403082</td>\n",
       "      <td>0.411407</td>\n",
       "      <td>0.007391</td>\n",
       "      <td>7</td>\n",
       "    </tr>\n",
       "    <tr>\n",
       "      <th>4</th>\n",
       "      <td>2.215343</td>\n",
       "      <td>0.019373</td>\n",
       "      <td>0.547394</td>\n",
       "      <td>0.026578</td>\n",
       "      <td>0.1</td>\n",
       "      <td>True</td>\n",
       "      <td>(1, 1)</td>\n",
       "      <td>{'multiNB__alpha': 0.1, 'tfidfVectorizer__bina...</td>\n",
       "      <td>0.591259</td>\n",
       "      <td>0.622924</td>\n",
       "      <td>0.597408</td>\n",
       "      <td>0.563614</td>\n",
       "      <td>0.547445</td>\n",
       "      <td>0.584542</td>\n",
       "      <td>0.026445</td>\n",
       "      <td>2</td>\n",
       "    </tr>\n",
       "    <tr>\n",
       "      <th>5</th>\n",
       "      <td>8.619079</td>\n",
       "      <td>0.167821</td>\n",
       "      <td>1.353370</td>\n",
       "      <td>0.028299</td>\n",
       "      <td>0.1</td>\n",
       "      <td>True</td>\n",
       "      <td>(1, 2)</td>\n",
       "      <td>{'multiNB__alpha': 0.1, 'tfidfVectorizer__bina...</td>\n",
       "      <td>0.575071</td>\n",
       "      <td>0.575537</td>\n",
       "      <td>0.586067</td>\n",
       "      <td>0.553485</td>\n",
       "      <td>0.545418</td>\n",
       "      <td>0.567123</td>\n",
       "      <td>0.015163</td>\n",
       "      <td>4</td>\n",
       "    </tr>\n",
       "    <tr>\n",
       "      <th>6</th>\n",
       "      <td>2.209323</td>\n",
       "      <td>0.026077</td>\n",
       "      <td>0.556095</td>\n",
       "      <td>0.023086</td>\n",
       "      <td>0.1</td>\n",
       "      <td>False</td>\n",
       "      <td>(1, 1)</td>\n",
       "      <td>{'multiNB__alpha': 0.1, 'tfidfVectorizer__bina...</td>\n",
       "      <td>0.603804</td>\n",
       "      <td>0.625759</td>\n",
       "      <td>0.592548</td>\n",
       "      <td>0.562804</td>\n",
       "      <td>0.545823</td>\n",
       "      <td>0.586162</td>\n",
       "      <td>0.028606</td>\n",
       "      <td>1</td>\n",
       "    </tr>\n",
       "    <tr>\n",
       "      <th>7</th>\n",
       "      <td>8.570942</td>\n",
       "      <td>0.180662</td>\n",
       "      <td>1.354736</td>\n",
       "      <td>0.032085</td>\n",
       "      <td>0.1</td>\n",
       "      <td>False</td>\n",
       "      <td>(1, 2)</td>\n",
       "      <td>{'multiNB__alpha': 0.1, 'tfidfVectorizer__bina...</td>\n",
       "      <td>0.582760</td>\n",
       "      <td>0.602673</td>\n",
       "      <td>0.596193</td>\n",
       "      <td>0.559157</td>\n",
       "      <td>0.567721</td>\n",
       "      <td>0.581706</td>\n",
       "      <td>0.016458</td>\n",
       "      <td>3</td>\n",
       "    </tr>\n",
       "  </tbody>\n",
       "</table>\n",
       "</div>"
      ],
      "text/plain": [
       "   mean_fit_time  std_fit_time  ...  std_test_score  rank_test_score\n",
       "0       2.238394      0.052837  ...        0.007161                6\n",
       "1       8.697752      0.160871  ...        0.007614                8\n",
       "2       2.203430      0.024813  ...        0.012359                5\n",
       "3       8.553581      0.119712  ...        0.007391                7\n",
       "4       2.215343      0.019373  ...        0.026445                2\n",
       "5       8.619079      0.167821  ...        0.015163                4\n",
       "6       2.209323      0.026077  ...        0.028606                1\n",
       "7       8.570942      0.180662  ...        0.016458                3\n",
       "\n",
       "[8 rows x 16 columns]"
      ]
     },
     "execution_count": 30,
     "metadata": {
      "tags": []
     },
     "output_type": "execute_result"
    }
   ],
   "source": [
    "pd.DataFrame(grid.cv_results_)"
   ]
  },
  {
   "cell_type": "code",
   "execution_count": 31,
   "metadata": {
    "colab": {
     "base_uri": "https://localhost:8080/",
     "height": 278
    },
    "colab_type": "code",
    "id": "V1wxQgDCQVxY",
    "outputId": "b952dac1-85c9-4162-e696-798311c06e78"
   },
   "outputs": [
    {
     "name": "stdout",
     "output_type": "stream",
     "text": [
      "              precision    recall  f1-score   support\n",
      "\n",
      "           C       0.39      0.27      0.32       671\n",
      "          KD       0.45      0.24      0.31       821\n",
      "           L       0.37      0.26      0.30       560\n",
      "           M       0.44      0.58      0.50      1644\n",
      "          MP       0.32      0.46      0.38       809\n",
      "           S       0.61      0.65      0.63      2773\n",
      "          SD       0.49      0.43      0.45      1060\n",
      "           V       0.50      0.42      0.46       950\n",
      "\n",
      "    accuracy                           0.48      9288\n",
      "   macro avg       0.45      0.41      0.42      9288\n",
      "weighted avg       0.48      0.48      0.48      9288\n",
      "\n"
     ]
    }
   ],
   "source": [
    "preds = grid.best_estimator_.predict(testX[\"words\"])\n",
    "print(classification_report(testY, preds))"
   ]
  },
  {
   "cell_type": "code",
   "execution_count": 32,
   "metadata": {
    "colab": {
     "base_uri": "https://localhost:8080/",
     "height": 69
    },
    "colab_type": "code",
    "id": "M3oA5BK2QVxa",
    "outputId": "6e1a11ab-a5b6-405a-b4db-dad81b6e9f5e"
   },
   "outputs": [
    {
     "data": {
      "text/plain": [
       "{'multiNB__alpha': 0.1,\n",
       " 'tfidfVectorizer__binary': False,\n",
       " 'tfidfVectorizer__ngram_range': (1, 1)}"
      ]
     },
     "execution_count": 32,
     "metadata": {
      "tags": []
     },
     "output_type": "execute_result"
    }
   ],
   "source": [
    "grid.best_params_"
   ]
  },
  {
   "cell_type": "markdown",
   "metadata": {
    "colab_type": "text",
    "id": "Tt6wlbl6QVxb"
   },
   "source": [
    "## problem 6: Try to improve your results"
   ]
  },
  {
   "cell_type": "markdown",
   "metadata": {
    "colab_type": "text",
    "id": "htwCyvIkQVxc"
   },
   "source": [
    "Scikit-learn makes it easy to test different vectorizer–classifier pipelines – among other things, it includes different types of logistic regression classifiers, support vector machines, and decision trees. Browse the library to see which methods are supported.\n",
    "\n",
    "Build a pipeline that you find interesting, and use grid search to find optimal settings for the hyperparameters. Print the results of your best model. Did you manage to get better results than the ones that you obtained in Problem&nbsp;5? Answer with a short text."
   ]
  },
  {
   "cell_type": "markdown",
   "metadata": {
    "colab_type": "text",
    "id": "6gvz2jHsQVxc"
   },
   "source": [
    "### Preprocess Function"
   ]
  },
  {
   "cell_type": "code",
   "execution_count": 33,
   "metadata": {
    "colab": {
     "base_uri": "https://localhost:8080/",
     "height": 86
    },
    "colab_type": "code",
    "id": "iNdawi5VQVxe",
    "outputId": "567115e7-43d6-4625-f9a4-ec361fcbfd8f"
   },
   "outputs": [
    {
     "name": "stdout",
     "output_type": "stream",
     "text": [
      "[nltk_data] Downloading package stopwords to /root/nltk_data...\n",
      "[nltk_data]   Package stopwords is already up-to-date!\n",
      "[nltk_data] Downloading package punkt to /root/nltk_data...\n",
      "[nltk_data]   Package punkt is already up-to-date!\n"
     ]
    }
   ],
   "source": [
    "import nltk\n",
    "nltk.download('stopwords')\n",
    "nltk.download('punkt')\n",
    "from nltk.corpus import stopwords \n",
    "from nltk.stem import SnowballStemmer\n",
    "from nltk.tokenize import word_tokenize\n",
    "import string\n",
    "# define stemmer will be used in preprocessing\n",
    "stemmer = SnowballStemmer(\"swedish\")\n",
    "# define punctuation table\n",
    "table = str.maketrans('', '', string.punctuation)\n",
    "# define stopwords\n",
    "stopwords_sw = set(stopwords.words(\"swedish\"))\n",
    "\n",
    "def preprocess(text):\n",
    "    words = []\n",
    "    for t in word_tokenize(text):\n",
    "        t_ = t.lower().translate(table)\n",
    "        if(not t_ in stopwords_sw and t_.isalpha()):\n",
    "            words.append(stemmer.stem(t_))\n",
    "    return(words)"
   ]
  },
  {
   "cell_type": "markdown",
   "metadata": {
    "colab_type": "text",
    "id": "Bs65wC4xQVxf"
   },
   "source": [
    "### Model Selection"
   ]
  },
  {
   "cell_type": "code",
   "execution_count": null,
   "metadata": {
    "colab": {},
    "colab_type": "code",
    "id": "yhIkKrmdQVxh"
   },
   "outputs": [],
   "source": [
    "from sklearn.linear_model import LogisticRegression\n",
    "from sklearn.ensemble import RandomForestClassifier\n",
    "from sklearn.svm import LinearSVC\n",
    "from sklearn.model_selection import cross_val_score"
   ]
  },
  {
   "cell_type": "code",
   "execution_count": 35,
   "metadata": {
    "colab": {
     "base_uri": "https://localhost:8080/",
     "height": 225
    },
    "colab_type": "code",
    "id": "Ol9olF1mQVxj",
    "outputId": "8441260e-097d-4a58-d5b7-e44ec9a65d61"
   },
   "outputs": [
    {
     "name": "stdout",
     "output_type": "stream",
     "text": [
      "randomForest\n"
     ]
    },
    {
     "name": "stderr",
     "output_type": "stream",
     "text": [
      "[Parallel(n_jobs=1)]: Using backend SequentialBackend with 1 concurrent workers.\n",
      "[Parallel(n_jobs=1)]: Done   5 out of   5 | elapsed:  3.0min finished\n",
      "[Parallel(n_jobs=1)]: Using backend SequentialBackend with 1 concurrent workers.\n"
     ]
    },
    {
     "name": "stdout",
     "output_type": "stream",
     "text": [
      "linearSVC\n"
     ]
    },
    {
     "name": "stderr",
     "output_type": "stream",
     "text": [
      "[Parallel(n_jobs=1)]: Done   5 out of   5 | elapsed:  3.1min finished\n",
      "[Parallel(n_jobs=1)]: Using backend SequentialBackend with 1 concurrent workers.\n"
     ]
    },
    {
     "name": "stdout",
     "output_type": "stream",
     "text": [
      "multinomialNB\n"
     ]
    },
    {
     "name": "stderr",
     "output_type": "stream",
     "text": [
      "[Parallel(n_jobs=1)]: Done   5 out of   5 | elapsed:  2.9min finished\n",
      "[Parallel(n_jobs=1)]: Using backend SequentialBackend with 1 concurrent workers.\n"
     ]
    },
    {
     "name": "stdout",
     "output_type": "stream",
     "text": [
      "logisticRegression\n"
     ]
    },
    {
     "name": "stderr",
     "output_type": "stream",
     "text": [
      "[Parallel(n_jobs=1)]: Done   5 out of   5 | elapsed:  6.5min finished\n"
     ]
    }
   ],
   "source": [
    "countVectorizer = CountVectorizer(tokenizer=preprocess)\n",
    "pipelines = [\n",
    "    (\"randomForest\", \n",
    "     Pipeline([(\"countVectorizer\", countVectorizer), \n",
    "               (\"classifier\", RandomForestClassifier(n_estimators=200, \n",
    "                                                     max_depth=3, \n",
    "                                                     random_state=0))])),\n",
    "    (\"linearSVC\", \n",
    "     Pipeline([(\"countVectorizer\", countVectorizer), \n",
    "               (\"classifier\", LinearSVC(max_iter=10000))])),\n",
    "    (\"multinomialNB\", \n",
    "     Pipeline([(\"countVectorizer\", countVectorizer), \n",
    "               (\"classifier\", MultinomialNB())])),\n",
    "    (\"logisticRegression\", \n",
    "     Pipeline([(\"countVectorizer\", countVectorizer), \n",
    "               (\"classifier\", LogisticRegression(random_state=0, \n",
    "                                                 multi_class=\"multinomial\", \n",
    "                                                 solver=\"lbfgs\", \n",
    "                                                 max_iter=350))]))    \n",
    "]\n",
    "\n",
    "CV = 5\n",
    "cv_df = pd.DataFrame(index=range(CV * len(pipelines)))\n",
    "entries = []\n",
    "\n",
    "for (model_name, pipeline) in pipelines:\n",
    "    print(model_name)\n",
    "    accuracies = cross_val_score(pipeline, \n",
    "                                 training_data[\"words\"], \n",
    "                                 training_data[\"party\"], \n",
    "                                 scoring=\"accuracy\", cv=CV, \n",
    "                                 verbose=1)\n",
    "    for fold_idx, accuracy in enumerate(accuracies):\n",
    "        entries.append((model_name, fold_idx, accuracy))\n",
    "    cv_df = pd.DataFrame(entries, columns=[\"model_name\", \"fold_idx\", \"accuracy\"])"
   ]
  },
  {
   "cell_type": "code",
   "execution_count": 36,
   "metadata": {
    "colab": {
     "base_uri": "https://localhost:8080/",
     "height": 280
    },
    "colab_type": "code",
    "id": "-_UcCUNGQVxl",
    "outputId": "7c0bf540-7e32-47cc-dfc5-82b6b02b0177"
   },
   "outputs": [
    {
     "data": {
      "image/png": "[encoded data removed]",
      "text/plain": [
       "<Figure size 432x288 with 1 Axes>"
      ]
     },
     "metadata": {
      "tags": []
     },
     "output_type": "display_data"
    }
   ],
   "source": [
    "import seaborn as sns\n",
    "sns.boxplot(x='model_name', y='accuracy', data=cv_df)\n",
    "sns.stripplot(x='model_name', y='accuracy', data=cv_df, \n",
    "              size=8, jitter=True, edgecolor=\"gray\", linewidth=2)\n",
    "plt.show()"
   ]
  },
  {
   "cell_type": "markdown",
   "metadata": {
    "colab_type": "text",
    "id": "ryiuqGaaQVxo"
   },
   "source": [
    "#### Analysis\n",
    "\n",
    "First we did preprocessing in the data and we got better results for Naive Bayes classifier which is implemented in previous task. We can see that in the plot, avarage accuracy of cross-validation is better.  \n",
    "In model selection, we got better results for logistic regression and in the next topic we are going to use this classifier to fit its hyperparameters and we will test the best model with best hyperparameters."
   ]
  },
  {
   "cell_type": "markdown",
   "metadata": {
    "colab_type": "text",
    "id": "9Z2GBhM-QVxq"
   },
   "source": [
    "### Best Model (Logistic Regression) Grid Search"
   ]
  },
  {
   "cell_type": "code",
   "execution_count": 40,
   "metadata": {
    "colab": {
     "base_uri": "https://localhost:8080/",
     "height": 799
    },
    "colab_type": "code",
    "id": "AkFqdIhqQVxr",
    "outputId": "e69132ee-a2c3-48df-efbc-4808bbdf2471"
   },
   "outputs": [
    {
     "name": "stdout",
     "output_type": "stream",
     "text": [
      "Fitting 5 folds for each of 12 candidates, totalling 60 fits\n"
     ]
    },
    {
     "name": "stderr",
     "output_type": "stream",
     "text": [
      "[Parallel(n_jobs=1)]: Using backend SequentialBackend with 1 concurrent workers.\n",
      "/usr/local/lib/python3.6/dist-packages/sklearn/linear_model/logistic.py:947: ConvergenceWarning: lbfgs failed to converge. Increase the number of iterations.\n",
      "  \"of iterations.\", ConvergenceWarning)\n",
      "/usr/local/lib/python3.6/dist-packages/sklearn/linear_model/logistic.py:947: ConvergenceWarning: lbfgs failed to converge. Increase the number of iterations.\n",
      "  \"of iterations.\", ConvergenceWarning)\n",
      "/usr/local/lib/python3.6/dist-packages/sklearn/linear_model/logistic.py:947: ConvergenceWarning: lbfgs failed to converge. Increase the number of iterations.\n",
      "  \"of iterations.\", ConvergenceWarning)\n",
      "/usr/local/lib/python3.6/dist-packages/sklearn/linear_model/logistic.py:947: ConvergenceWarning: lbfgs failed to converge. Increase the number of iterations.\n",
      "  \"of iterations.\", ConvergenceWarning)\n",
      "/usr/local/lib/python3.6/dist-packages/sklearn/linear_model/logistic.py:947: ConvergenceWarning: lbfgs failed to converge. Increase the number of iterations.\n",
      "  \"of iterations.\", ConvergenceWarning)\n",
      "[Parallel(n_jobs=1)]: Done  60 out of  60 | elapsed: 194.2min finished\n"
     ]
    },
    {
     "data": {
      "text/plain": [
       "GridSearchCV(cv=5, error_score='raise-deprecating',\n",
       "             estimator=Pipeline(memory=None,\n",
       "                                steps=[('countVectorizer',\n",
       "                                        CountVectorizer(analyzer='word',\n",
       "                                                        binary=False,\n",
       "                                                        decode_error='strict',\n",
       "                                                        dtype=<class 'numpy.int64'>,\n",
       "                                                        encoding='utf-8',\n",
       "                                                        input='content',\n",
       "                                                        lowercase=True,\n",
       "                                                        max_df=1.0,\n",
       "                                                        max_features=None,\n",
       "                                                        min_df=1,\n",
       "                                                        ngram_range=(1, 1),\n",
       "                                                        preprocessor=None,\n",
       "                                                        stop_words=None,\n",
       "                                                        strip_accen...\n",
       "                                                           multi_class='multinomial',\n",
       "                                                           n_jobs=None,\n",
       "                                                           penalty='l2',\n",
       "                                                           random_state=0,\n",
       "                                                           solver='lbfgs',\n",
       "                                                           tol=0.0001,\n",
       "                                                           verbose=0,\n",
       "                                                           warm_start=False))],\n",
       "                                verbose=False),\n",
       "             iid='warn', n_jobs=None,\n",
       "             param_grid={'classifier__C': [0.1, 1, 10],\n",
       "                         'countVectorizer__binary': [True, False],\n",
       "                         'countVectorizer__ngram_range': [(1, 1), (1, 2)]},\n",
       "             pre_dispatch='2*n_jobs', refit=True, return_train_score=False,\n",
       "             scoring=None, verbose=1)"
      ]
     },
     "execution_count": 40,
     "metadata": {
      "tags": []
     },
     "output_type": "execute_result"
    }
   ],
   "source": [
    "pipelineLogistic = pipelines[3][1]\n",
    "\n",
    "parameters = {\n",
    "    \"countVectorizer__ngram_range\": [(1,1), (1,2)],\n",
    "    \"countVectorizer__binary\": [True, False],\n",
    "    \"classifier__C\": [0.1, 1, 10]\n",
    "}\n",
    "\n",
    "from sklearn.model_selection import GridSearchCV\n",
    "gridBest = GridSearchCV(pipelineLogistic, param_grid=parameters, cv=5, verbose=1)\n",
    "gridBest.fit(training_data[\"words\"], training_data[\"party\"])"
   ]
  },
  {
   "cell_type": "code",
   "execution_count": 41,
   "metadata": {
    "colab": {
     "base_uri": "https://localhost:8080/",
     "height": 654
    },
    "colab_type": "code",
    "id": "-cPEfqWCQVxv",
    "outputId": "63abd264-a650-4e6b-c1a0-d37beaccd79b"
   },
   "outputs": [
    {
     "data": {
      "text/html": [
       "<div>\n",
       "<style scoped>\n",
       "    .dataframe tbody tr th:only-of-type {\n",
       "        vertical-align: middle;\n",
       "    }\n",
       "\n",
       "    .dataframe tbody tr th {\n",
       "        vertical-align: top;\n",
       "    }\n",
       "\n",
       "    .dataframe thead th {\n",
       "        text-align: right;\n",
       "    }\n",
       "</style>\n",
       "<table border=\"1\" class=\"dataframe\">\n",
       "  <thead>\n",
       "    <tr style=\"text-align: right;\">\n",
       "      <th></th>\n",
       "      <th>mean_fit_time</th>\n",
       "      <th>std_fit_time</th>\n",
       "      <th>mean_score_time</th>\n",
       "      <th>std_score_time</th>\n",
       "      <th>param_classifier__C</th>\n",
       "      <th>param_countVectorizer__binary</th>\n",
       "      <th>param_countVectorizer__ngram_range</th>\n",
       "      <th>params</th>\n",
       "      <th>split0_test_score</th>\n",
       "      <th>split1_test_score</th>\n",
       "      <th>split2_test_score</th>\n",
       "      <th>split3_test_score</th>\n",
       "      <th>split4_test_score</th>\n",
       "      <th>mean_test_score</th>\n",
       "      <th>std_test_score</th>\n",
       "      <th>rank_test_score</th>\n",
       "    </tr>\n",
       "  </thead>\n",
       "  <tbody>\n",
       "    <tr>\n",
       "      <th>0</th>\n",
       "      <td>51.715725</td>\n",
       "      <td>0.264493</td>\n",
       "      <td>6.969098</td>\n",
       "      <td>0.306837</td>\n",
       "      <td>0.1</td>\n",
       "      <td>True</td>\n",
       "      <td>(1, 1)</td>\n",
       "      <td>{'classifier__C': 0.1, 'countVectorizer__binar...</td>\n",
       "      <td>0.614731</td>\n",
       "      <td>0.642770</td>\n",
       "      <td>0.625354</td>\n",
       "      <td>0.620340</td>\n",
       "      <td>0.576237</td>\n",
       "      <td>0.615896</td>\n",
       "      <td>0.021928</td>\n",
       "      <td>3</td>\n",
       "    </tr>\n",
       "    <tr>\n",
       "      <th>1</th>\n",
       "      <td>243.844273</td>\n",
       "      <td>3.828050</td>\n",
       "      <td>7.353055</td>\n",
       "      <td>0.133572</td>\n",
       "      <td>0.1</td>\n",
       "      <td>True</td>\n",
       "      <td>(1, 2)</td>\n",
       "      <td>{'classifier__C': 0.1, 'countVectorizer__binar...</td>\n",
       "      <td>0.610279</td>\n",
       "      <td>0.633860</td>\n",
       "      <td>0.616849</td>\n",
       "      <td>0.625608</td>\n",
       "      <td>0.585969</td>\n",
       "      <td>0.614518</td>\n",
       "      <td>0.016338</td>\n",
       "      <td>4</td>\n",
       "    </tr>\n",
       "    <tr>\n",
       "      <th>2</th>\n",
       "      <td>61.017247</td>\n",
       "      <td>1.795527</td>\n",
       "      <td>6.791278</td>\n",
       "      <td>0.282562</td>\n",
       "      <td>0.1</td>\n",
       "      <td>False</td>\n",
       "      <td>(1, 1)</td>\n",
       "      <td>{'classifier__C': 0.1, 'countVectorizer__binar...</td>\n",
       "      <td>0.603399</td>\n",
       "      <td>0.631025</td>\n",
       "      <td>0.610774</td>\n",
       "      <td>0.608590</td>\n",
       "      <td>0.557989</td>\n",
       "      <td>0.602366</td>\n",
       "      <td>0.024080</td>\n",
       "      <td>8</td>\n",
       "    </tr>\n",
       "    <tr>\n",
       "      <th>3</th>\n",
       "      <td>265.812694</td>\n",
       "      <td>6.037812</td>\n",
       "      <td>7.111387</td>\n",
       "      <td>0.237812</td>\n",
       "      <td>0.1</td>\n",
       "      <td>False</td>\n",
       "      <td>(1, 2)</td>\n",
       "      <td>{'classifier__C': 0.1, 'countVectorizer__binar...</td>\n",
       "      <td>0.608256</td>\n",
       "      <td>0.634265</td>\n",
       "      <td>0.620089</td>\n",
       "      <td>0.604133</td>\n",
       "      <td>0.569749</td>\n",
       "      <td>0.607308</td>\n",
       "      <td>0.021496</td>\n",
       "      <td>5</td>\n",
       "    </tr>\n",
       "    <tr>\n",
       "      <th>4</th>\n",
       "      <td>69.611929</td>\n",
       "      <td>0.930848</td>\n",
       "      <td>6.684204</td>\n",
       "      <td>0.261139</td>\n",
       "      <td>1</td>\n",
       "      <td>True</td>\n",
       "      <td>(1, 1)</td>\n",
       "      <td>{'classifier__C': 1, 'countVectorizer__binary'...</td>\n",
       "      <td>0.600162</td>\n",
       "      <td>0.628190</td>\n",
       "      <td>0.614419</td>\n",
       "      <td>0.589546</td>\n",
       "      <td>0.555150</td>\n",
       "      <td>0.597505</td>\n",
       "      <td>0.024861</td>\n",
       "      <td>9</td>\n",
       "    </tr>\n",
       "    <tr>\n",
       "      <th>5</th>\n",
       "      <td>286.030347</td>\n",
       "      <td>7.997707</td>\n",
       "      <td>7.097815</td>\n",
       "      <td>0.306075</td>\n",
       "      <td>1</td>\n",
       "      <td>True</td>\n",
       "      <td>(1, 2)</td>\n",
       "      <td>{'classifier__C': 1, 'countVectorizer__binary'...</td>\n",
       "      <td>0.616754</td>\n",
       "      <td>0.635480</td>\n",
       "      <td>0.625759</td>\n",
       "      <td>0.629254</td>\n",
       "      <td>0.576237</td>\n",
       "      <td>0.616706</td>\n",
       "      <td>0.021109</td>\n",
       "      <td>2</td>\n",
       "    </tr>\n",
       "    <tr>\n",
       "      <th>6</th>\n",
       "      <td>79.297661</td>\n",
       "      <td>1.908873</td>\n",
       "      <td>6.774924</td>\n",
       "      <td>0.279334</td>\n",
       "      <td>1</td>\n",
       "      <td>False</td>\n",
       "      <td>(1, 1)</td>\n",
       "      <td>{'classifier__C': 1, 'countVectorizer__binary'...</td>\n",
       "      <td>0.601781</td>\n",
       "      <td>0.614824</td>\n",
       "      <td>0.596193</td>\n",
       "      <td>0.589141</td>\n",
       "      <td>0.544607</td>\n",
       "      <td>0.589322</td>\n",
       "      <td>0.023876</td>\n",
       "      <td>10</td>\n",
       "    </tr>\n",
       "    <tr>\n",
       "      <th>7</th>\n",
       "      <td>319.549199</td>\n",
       "      <td>8.316026</td>\n",
       "      <td>7.114149</td>\n",
       "      <td>0.299405</td>\n",
       "      <td>1</td>\n",
       "      <td>False</td>\n",
       "      <td>(1, 2)</td>\n",
       "      <td>{'classifier__C': 1, 'countVectorizer__binary'...</td>\n",
       "      <td>0.611898</td>\n",
       "      <td>0.637505</td>\n",
       "      <td>0.619684</td>\n",
       "      <td>0.605348</td>\n",
       "      <td>0.557178</td>\n",
       "      <td>0.606336</td>\n",
       "      <td>0.026817</td>\n",
       "      <td>6</td>\n",
       "    </tr>\n",
       "    <tr>\n",
       "      <th>8</th>\n",
       "      <td>80.708249</td>\n",
       "      <td>0.587098</td>\n",
       "      <td>6.738414</td>\n",
       "      <td>0.273950</td>\n",
       "      <td>10</td>\n",
       "      <td>True</td>\n",
       "      <td>(1, 1)</td>\n",
       "      <td>{'classifier__C': 10, 'countVectorizer__binary...</td>\n",
       "      <td>0.597329</td>\n",
       "      <td>0.611989</td>\n",
       "      <td>0.601458</td>\n",
       "      <td>0.579822</td>\n",
       "      <td>0.536496</td>\n",
       "      <td>0.585433</td>\n",
       "      <td>0.026562</td>\n",
       "      <td>11</td>\n",
       "    </tr>\n",
       "    <tr>\n",
       "      <th>9</th>\n",
       "      <td>325.308783</td>\n",
       "      <td>7.315101</td>\n",
       "      <td>7.112777</td>\n",
       "      <td>0.285973</td>\n",
       "      <td>10</td>\n",
       "      <td>True</td>\n",
       "      <td>(1, 2)</td>\n",
       "      <td>{'classifier__C': 10, 'countVectorizer__binary...</td>\n",
       "      <td>0.618373</td>\n",
       "      <td>0.633860</td>\n",
       "      <td>0.626569</td>\n",
       "      <td>0.629254</td>\n",
       "      <td>0.578670</td>\n",
       "      <td>0.617354</td>\n",
       "      <td>0.019975</td>\n",
       "      <td>1</td>\n",
       "    </tr>\n",
       "    <tr>\n",
       "      <th>10</th>\n",
       "      <td>88.869833</td>\n",
       "      <td>2.525324</td>\n",
       "      <td>6.756126</td>\n",
       "      <td>0.303045</td>\n",
       "      <td>10</td>\n",
       "      <td>False</td>\n",
       "      <td>(1, 1)</td>\n",
       "      <td>{'classifier__C': 10, 'countVectorizer__binary...</td>\n",
       "      <td>0.589235</td>\n",
       "      <td>0.604698</td>\n",
       "      <td>0.580397</td>\n",
       "      <td>0.572123</td>\n",
       "      <td>0.532441</td>\n",
       "      <td>0.575792</td>\n",
       "      <td>0.024202</td>\n",
       "      <td>12</td>\n",
       "    </tr>\n",
       "    <tr>\n",
       "      <th>11</th>\n",
       "      <td>374.339132</td>\n",
       "      <td>8.763710</td>\n",
       "      <td>7.183652</td>\n",
       "      <td>0.456177</td>\n",
       "      <td>10</td>\n",
       "      <td>False</td>\n",
       "      <td>(1, 2)</td>\n",
       "      <td>{'classifier__C': 10, 'countVectorizer__binary...</td>\n",
       "      <td>0.609065</td>\n",
       "      <td>0.635480</td>\n",
       "      <td>0.618874</td>\n",
       "      <td>0.603728</td>\n",
       "      <td>0.556772</td>\n",
       "      <td>0.604796</td>\n",
       "      <td>0.026318</td>\n",
       "      <td>7</td>\n",
       "    </tr>\n",
       "  </tbody>\n",
       "</table>\n",
       "</div>"
      ],
      "text/plain": [
       "    mean_fit_time  std_fit_time  ...  std_test_score  rank_test_score\n",
       "0       51.715725      0.264493  ...        0.021928                3\n",
       "1      243.844273      3.828050  ...        0.016338                4\n",
       "2       61.017247      1.795527  ...        0.024080                8\n",
       "3      265.812694      6.037812  ...        0.021496                5\n",
       "4       69.611929      0.930848  ...        0.024861                9\n",
       "5      286.030347      7.997707  ...        0.021109                2\n",
       "6       79.297661      1.908873  ...        0.023876               10\n",
       "7      319.549199      8.316026  ...        0.026817                6\n",
       "8       80.708249      0.587098  ...        0.026562               11\n",
       "9      325.308783      7.315101  ...        0.019975                1\n",
       "10      88.869833      2.525324  ...        0.024202               12\n",
       "11     374.339132      8.763710  ...        0.026318                7\n",
       "\n",
       "[12 rows x 16 columns]"
      ]
     },
     "execution_count": 41,
     "metadata": {
      "tags": []
     },
     "output_type": "execute_result"
    }
   ],
   "source": [
    "pd.DataFrame(gridBest.cv_results_)"
   ]
  },
  {
   "cell_type": "code",
   "execution_count": 42,
   "metadata": {
    "colab": {
     "base_uri": "https://localhost:8080/",
     "height": 278
    },
    "colab_type": "code",
    "id": "DZh2YoMUQVxx",
    "outputId": "67c8ab46-990f-4056-9da6-1d7861f258c6"
   },
   "outputs": [
    {
     "name": "stdout",
     "output_type": "stream",
     "text": [
      "              precision    recall  f1-score   support\n",
      "\n",
      "           C       0.48      0.32      0.38       671\n",
      "          KD       0.56      0.22      0.32       821\n",
      "           L       0.47      0.33      0.39       560\n",
      "           M       0.50      0.54      0.52      1644\n",
      "          MP       0.37      0.39      0.38       809\n",
      "           S       0.54      0.81      0.65      2773\n",
      "          SD       0.52      0.42      0.46      1060\n",
      "           V       0.64      0.36      0.46       950\n",
      "\n",
      "    accuracy                           0.52      9288\n",
      "   macro avg       0.51      0.42      0.45      9288\n",
      "weighted avg       0.52      0.52      0.50      9288\n",
      "\n"
     ]
    }
   ],
   "source": [
    "preds_bestClassifier = gridBest.best_estimator_.predict(test_data[\"words\"])\n",
    "print(classification_report(test_data[\"party\"], preds_bestClassifier))"
   ]
  },
  {
   "cell_type": "code",
   "execution_count": 43,
   "metadata": {
    "colab": {
     "base_uri": "https://localhost:8080/",
     "height": 69
    },
    "colab_type": "code",
    "id": "bC17uKxMQVxz",
    "outputId": "b315e088-f41e-4b4c-c6fa-a04ea7e82bf2"
   },
   "outputs": [
    {
     "data": {
      "text/plain": [
       "{'classifier__C': 10,\n",
       " 'countVectorizer__binary': True,\n",
       " 'countVectorizer__ngram_range': (1, 2)}"
      ]
     },
     "execution_count": 43,
     "metadata": {
      "tags": []
     },
     "output_type": "execute_result"
    }
   ],
   "source": [
    "gridBest.best_params_"
   ]
  },
  {
   "cell_type": "markdown",
   "metadata": {
    "colab_type": "text",
    "id": "ezv-BVq9Yetd"
   },
   "source": [
    "**NOTE:**\n",
    "\n",
    "Running last grid search takes too long time. In order to eliminate \"no convergence, increase max_iter\" warning, we increased it. But training time can be shorten by setting max_iter=100. It throws convergence warning, but accuracy will not change that much."
   ]
  },
  {
   "cell_type": "markdown",
   "metadata": {
    "colab_type": "text",
    "id": "-sEPUYugQVx1"
   },
   "source": [
    "<div class=\"alert alert-info\">\n",
    "    Please read the section ‘General information’ on the ‘Labs’ page of the course website before submitting this notebook!\n",
    "</div>"
   ]
  },
  {
   "cell_type": "code",
   "execution_count": null,
   "metadata": {
    "colab": {},
    "colab_type": "code",
    "id": "flB0mBrZY0KL"
   },
   "outputs": [],
   "source": []
  }
 ],
 "metadata": {
  "accelerator": "GPU",
  "colab": {
   "name": "TM-L2_rubicco.ipynb",
   "provenance": []
  },
  "kernelspec": {
   "display_name": "Python 3",
   "language": "python",
   "name": "python3"
  },
  "language_info": {
   "codemirror_mode": {
    "name": "ipython",
    "version": 3
   },
   "file_extension": ".py",
   "mimetype": "text/x-python",
   "name": "python",
   "nbconvert_exporter": "python",
   "pygments_lexer": "ipython3",
   "version": "3.7.3"
  }
 },
 "nbformat": 4,
 "nbformat_minor": 4
}
