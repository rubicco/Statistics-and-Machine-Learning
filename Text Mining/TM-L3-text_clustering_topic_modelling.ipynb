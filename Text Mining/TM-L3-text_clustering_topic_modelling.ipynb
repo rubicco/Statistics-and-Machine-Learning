{
 "cells": [
  {
   "cell_type": "markdown",
   "metadata": {},
   "source": [
    "# L3: Text clustering and topic modelling"
   ]
  },
  {
   "cell_type": "markdown",
   "metadata": {},
   "source": [
    "**Contributers:**  \n",
    "Mim Kemal Tekin (mimte666)  \n",
    "Andreas Stasinakis (andst475)"
   ]
  },
  {
   "cell_type": "markdown",
   "metadata": {},
   "source": [
    "Text clustering groups documents in such a way that documents within a group are more &lsquo;similar&rsquo; to other documents in the cluster than to documents not in the cluster. The exact definition of what &lsquo;similar&rsquo; means in this context varies across applications and clustering algorithms.\n",
    "\n",
    "In this lab you will experiment with both hard and soft clustering techniques. More specifically, in the first part you will be using the $k$-means algorithm, and in the second part you will be using a topic model based on the Latent Dirichlet Allocation (LDA)."
   ]
  },
  {
   "cell_type": "markdown",
   "metadata": {},
   "source": [
    "## Hard clustering data set"
   ]
  },
  {
   "cell_type": "markdown",
   "metadata": {},
   "source": [
    "The raw data for the hard clustering part of this lab is a collection of product reviews. We have preprocessed the data by tokenization and lowercasing."
   ]
  },
  {
   "cell_type": "code",
   "execution_count": 1,
   "metadata": {},
   "outputs": [],
   "source": [
    "import pandas as pd\n",
    "import numpy as np\n",
    "import bz2\n",
    "\n",
    "with bz2.open(\"reviews.json.bz2\") as source:\n",
    "    df = pd.read_json(source)\n",
    "    \n"
   ]
  },
  {
   "cell_type": "code",
   "execution_count": 2,
   "metadata": {},
   "outputs": [
    {
     "data": {
      "text/html": [
       "<div>\n",
       "<style scoped>\n",
       "    .dataframe tbody tr th:only-of-type {\n",
       "        vertical-align: middle;\n",
       "    }\n",
       "\n",
       "    .dataframe tbody tr th {\n",
       "        vertical-align: top;\n",
       "    }\n",
       "\n",
       "    .dataframe thead th {\n",
       "        text-align: right;\n",
       "    }\n",
       "</style>\n",
       "<table border=\"1\" class=\"dataframe\">\n",
       "  <thead>\n",
       "    <tr style=\"text-align: right;\">\n",
       "      <th></th>\n",
       "      <th>category</th>\n",
       "      <th>sentiment</th>\n",
       "      <th>text</th>\n",
       "    </tr>\n",
       "  </thead>\n",
       "  <tbody>\n",
       "    <tr>\n",
       "      <th>0</th>\n",
       "      <td>music</td>\n",
       "      <td>neg</td>\n",
       "      <td>i bought this album because i loved the title ...</td>\n",
       "    </tr>\n",
       "    <tr>\n",
       "      <th>1</th>\n",
       "      <td>music</td>\n",
       "      <td>neg</td>\n",
       "      <td>i was misled and thought i was buying the enti...</td>\n",
       "    </tr>\n",
       "    <tr>\n",
       "      <th>2</th>\n",
       "      <td>books</td>\n",
       "      <td>neg</td>\n",
       "      <td>i have introduced many of my ell , high school...</td>\n",
       "    </tr>\n",
       "    <tr>\n",
       "      <th>3</th>\n",
       "      <td>books</td>\n",
       "      <td>pos</td>\n",
       "      <td>anything you purchase in the left behind serie...</td>\n",
       "    </tr>\n",
       "    <tr>\n",
       "      <th>4</th>\n",
       "      <td>dvd</td>\n",
       "      <td>pos</td>\n",
       "      <td>i loved these movies , and i cant wiat for the...</td>\n",
       "    </tr>\n",
       "  </tbody>\n",
       "</table>\n",
       "</div>"
      ],
      "text/plain": [
       "  category sentiment                                               text\n",
       "0    music       neg  i bought this album because i loved the title ...\n",
       "1    music       neg  i was misled and thought i was buying the enti...\n",
       "2    books       neg  i have introduced many of my ell , high school...\n",
       "3    books       pos  anything you purchase in the left behind serie...\n",
       "4      dvd       pos  i loved these movies , and i cant wiat for the..."
      ]
     },
     "execution_count": 2,
     "metadata": {},
     "output_type": "execute_result"
    }
   ],
   "source": [
    "df.head()"
   ]
  },
  {
   "cell_type": "code",
   "execution_count": 3,
   "metadata": {},
   "outputs": [
    {
     "data": {
      "text/plain": [
       "array(['music', 'books', 'dvd', 'camera', 'health', 'software'],\n",
       "      dtype=object)"
      ]
     },
     "execution_count": 3,
     "metadata": {},
     "output_type": "execute_result"
    }
   ],
   "source": [
    "df[\"category\"].unique()\n"
   ]
  },
  {
   "cell_type": "code",
   "execution_count": 4,
   "metadata": {},
   "outputs": [
    {
     "data": {
      "text/plain": [
       "books       2000\n",
       "health      2000\n",
       "music       2000\n",
       "dvd         2000\n",
       "camera      1999\n",
       "software    1915\n",
       "Name: category, dtype: int64"
      ]
     },
     "execution_count": 4,
     "metadata": {},
     "output_type": "execute_result"
    }
   ],
   "source": [
    "df[\"category\"].value_counts()"
   ]
  },
  {
   "cell_type": "markdown",
   "metadata": {},
   "source": [
    "When you inspect the data frame, you can see that there are three labelled columns: `category` (the product category), `sentiment` (whether the product review was classified as &lsquo;positive&rsquo; or &lsquo;negative&rsquo; towards the product), and `text` (the space-separated text of the review)."
   ]
  },
  {
   "cell_type": "markdown",
   "metadata": {
    "toc-hr-collapsed": false
   },
   "source": [
    "## Problem 1: K-means clustering"
   ]
  },
  {
   "cell_type": "markdown",
   "metadata": {},
   "source": [
    "Your first task is to cluster the product review data using a tf–idf vectorizer and a $k$-means clusterer."
   ]
  },
  {
   "cell_type": "markdown",
   "metadata": {},
   "source": [
    "Start by doing the vectorization. In connection with vectorization, you should also filter out standard English stop words. While you could use [spaCy](https://spacy.io/) for this task, here it suffices to use the word list implemented in [TfidfVectorizer](https://scikit-learn.org/stable/modules/generated/sklearn.feature_extraction.text.TfidfVectorizer.html)."
   ]
  },
  {
   "cell_type": "markdown",
   "metadata": {},
   "source": [
    "### PREPROCESSING - VECTORIZATION "
   ]
  },
  {
   "cell_type": "code",
   "execution_count": 5,
   "metadata": {},
   "outputs": [],
   "source": [
    "from sklearn.feature_extraction.text import TfidfVectorizer"
   ]
  },
  {
   "cell_type": "code",
   "execution_count": 6,
   "metadata": {},
   "outputs": [],
   "source": [
    "#Here the data has already preprocessed for lower case and tokenazation.\n",
    "#Therefore we just need to use stop words in the vectorizer\n",
    "vectorizer = TfidfVectorizer(stop_words = \"english\")\n",
    "reviews = vectorizer.fit_transform(df[\"text\"])"
   ]
  },
  {
   "cell_type": "markdown",
   "metadata": {},
   "source": [
    "Test your vectorization by running the following code cell:"
   ]
  },
  {
   "cell_type": "code",
   "execution_count": 7,
   "metadata": {},
   "outputs": [
    {
     "data": {
      "text/plain": [
       "(11914, 46619)"
      ]
     },
     "execution_count": 7,
     "metadata": {},
     "output_type": "execute_result"
    }
   ],
   "source": [
    "reviews.shape"
   ]
  },
  {
   "cell_type": "markdown",
   "metadata": {},
   "source": [
    "If you used the English stop word list from scikit-learn, then the resulting vocabulary should have 46,619 entries."
   ]
  },
  {
   "cell_type": "markdown",
   "metadata": {},
   "source": [
    "Next, cluster the vectorized data. Before doing so, you should read the documentation of the [KMeans](https://scikit-learn.org/stable/modules/generated/sklearn.cluster.KMeans.html) class, which is scikit-learn&rsquo;s implementation of the $k$-means algorithm. As you can see, this class has several parameters that you can tweak. For now, the only parameter that you will have to set is the number of clusters. We recommend that you choose $k=3$.\n",
    "\n",
    "**Tip:** Training $k$-means models will take some time. To speed things up, you can use the `n_init` parameter to control the number of times that the clustering is re-computed with different initial values. The default value for this parameter is 10; here and in the rest of this lab, you may want to set this to a lower value."
   ]
  },
  {
   "cell_type": "markdown",
   "metadata": {},
   "source": [
    "### Fit Kmeans "
   ]
  },
  {
   "cell_type": "code",
   "execution_count": 8,
   "metadata": {},
   "outputs": [],
   "source": [
    "from sklearn.cluster import KMeans\n"
   ]
  },
  {
   "cell_type": "code",
   "execution_count": 9,
   "metadata": {},
   "outputs": [
    {
     "data": {
      "text/plain": [
       "KMeans(algorithm='auto', copy_x=True, init='k-means++', max_iter=300,\n",
       "       n_clusters=3, n_init=5, n_jobs=None, precompute_distances='auto',\n",
       "       random_state=12345, tol=0.0001, verbose=0)"
      ]
     },
     "execution_count": 9,
     "metadata": {},
     "output_type": "execute_result"
    }
   ],
   "source": [
    "#Create the K means classifier\n",
    "Nclus = 3 #number of clusters MUST pre defined for K means algo\n",
    "n_init = 5 #number of restarting the algorithm\n",
    "kmeans_3 = KMeans(n_clusters=Nclus,\n",
    "                n_init= n_init,\n",
    "                random_state = 12345)\n",
    "\n",
    "#fit the classifier with the data\n",
    "kmeans_3.fit(reviews)\n",
    "\n"
   ]
  },
  {
   "cell_type": "code",
   "execution_count": 10,
   "metadata": {},
   "outputs": [
    {
     "data": {
      "text/plain": [
       "KMeans(algorithm='auto', copy_x=True, init='k-means++', max_iter=300,\n",
       "       n_clusters=6, n_init=5, n_jobs=None, precompute_distances='auto',\n",
       "       random_state=12345, tol=0.0001, verbose=0)"
      ]
     },
     "execution_count": 10,
     "metadata": {},
     "output_type": "execute_result"
    }
   ],
   "source": [
    "#We now use it for 6 clusters\n",
    "#Create the K means classifier\n",
    "Nclus = 6\n",
    "n_init = 5\n",
    "kmeans_6 = KMeans(n_clusters=Nclus\n",
    "                  ,n_init= n_init, \n",
    "                  random_state = 12345)\n",
    "\n",
    "#fit the classifier with the data\n",
    "kmeans_6.fit(reviews)\n"
   ]
  },
  {
   "cell_type": "markdown",
   "metadata": {},
   "source": [
    "To sanity-check your clustering, create a bar plot with the number of documents per cluster."
   ]
  },
  {
   "cell_type": "markdown",
   "metadata": {},
   "source": [
    "### Ploting the 3 clusters"
   ]
  },
  {
   "cell_type": "code",
   "execution_count": 11,
   "metadata": {},
   "outputs": [
    {
     "data": {
      "text/plain": [
       "<Figure size 640x480 with 1 Axes>"
      ]
     },
     "metadata": {},
     "output_type": "display_data"
    }
   ],
   "source": [
    "import matplotlib.pyplot as plt\n",
    "x = np.unique(kmeans_3.labels_,return_counts=True)[0]\n",
    "y = np.unique(kmeans_3.labels_,return_counts=True)[1]\n",
    "\n",
    "\n",
    "plt.bar(x, y, color='blue', edgecolor='white',width = 0.5)\n",
    "\n",
    "plt.xlabel('Clusters', fontweight='bold')\n",
    "\n",
    "plt.title(\"Text in each Cluster\", y=1.02)\n",
    "plt.show()\n"
   ]
  },
  {
   "cell_type": "markdown",
   "metadata": {},
   "source": [
    "Note that sizes may vary considerable between clusters and among different random seeds."
   ]
  },
  {
   "cell_type": "markdown",
   "metadata": {},
   "source": [
    "## Problem 2: Summarize clusters"
   ]
  },
  {
   "cell_type": "markdown",
   "metadata": {},
   "source": [
    "Once you have a clustering, you can try to see whether it is meaningful. One useful technique in that context is to generate a **summary** for each cluster by extracting the $n$ highest-weighted terms from the centroid of each cluster. Your next task is to implement this approach.\n",
    "\n",
    "**Hint:** You will need to construct an &lsquo;inverted vocabulary&rsquo; that allows you to map from the index of a term back to the original term."
   ]
  },
  {
   "cell_type": "code",
   "execution_count": 12,
   "metadata": {},
   "outputs": [],
   "source": [
    "#In this chunk we take the first N indexes of each cluster with highest weight term\n",
    "#Now we will create a summary for each of the Clusters\n",
    "#We will extract the most common words from each cluster in order to have an idea for each cluster\n",
    "\n",
    "n = 15\n",
    "Nclus = 3  \n",
    "ind = np.zeros((Nclus,n))\n",
    "\n",
    "for i in  range( kmeans_3.cluster_centers_.shape[0]):\n",
    "    \n",
    "    ind[i] = kmeans_3.cluster_centers_[i].argsort()[::-1][:n]\n",
    "\n"
   ]
  },
  {
   "cell_type": "code",
   "execution_count": 13,
   "metadata": {},
   "outputs": [
    {
     "data": {
      "text/html": [
       "<div>\n",
       "<style scoped>\n",
       "    .dataframe tbody tr th:only-of-type {\n",
       "        vertical-align: middle;\n",
       "    }\n",
       "\n",
       "    .dataframe tbody tr th {\n",
       "        vertical-align: top;\n",
       "    }\n",
       "\n",
       "    .dataframe thead th {\n",
       "        text-align: right;\n",
       "    }\n",
       "</style>\n",
       "<table border=\"1\" class=\"dataframe\">\n",
       "  <thead>\n",
       "    <tr style=\"text-align: right;\">\n",
       "      <th></th>\n",
       "      <th>0</th>\n",
       "      <th>1</th>\n",
       "      <th>2</th>\n",
       "      <th>3</th>\n",
       "      <th>4</th>\n",
       "      <th>5</th>\n",
       "      <th>6</th>\n",
       "      <th>7</th>\n",
       "      <th>8</th>\n",
       "      <th>9</th>\n",
       "      <th>10</th>\n",
       "      <th>11</th>\n",
       "      <th>12</th>\n",
       "      <th>13</th>\n",
       "      <th>14</th>\n",
       "    </tr>\n",
       "  </thead>\n",
       "  <tbody>\n",
       "    <tr>\n",
       "      <th>0</th>\n",
       "      <td>like</td>\n",
       "      <td>product</td>\n",
       "      <td>movie</td>\n",
       "      <td>great</td>\n",
       "      <td>just</td>\n",
       "      <td>good</td>\n",
       "      <td>cd</td>\n",
       "      <td>album</td>\n",
       "      <td>use</td>\n",
       "      <td>time</td>\n",
       "      <td>does</td>\n",
       "      <td>did</td>\n",
       "      <td>really</td>\n",
       "      <td>music</td>\n",
       "      <td>work</td>\n",
       "    </tr>\n",
       "    <tr>\n",
       "      <th>1</th>\n",
       "      <td>book</td>\n",
       "      <td>read</td>\n",
       "      <td>books</td>\n",
       "      <td>author</td>\n",
       "      <td>reading</td>\n",
       "      <td>story</td>\n",
       "      <td>quot</td>\n",
       "      <td>like</td>\n",
       "      <td>just</td>\n",
       "      <td>good</td>\n",
       "      <td>written</td>\n",
       "      <td>did</td>\n",
       "      <td>great</td>\n",
       "      <td>really</td>\n",
       "      <td>people</td>\n",
       "    </tr>\n",
       "    <tr>\n",
       "      <th>2</th>\n",
       "      <td>camera</td>\n",
       "      <td>lens</td>\n",
       "      <td>pictures</td>\n",
       "      <td>canon</td>\n",
       "      <td>digital</td>\n",
       "      <td>use</td>\n",
       "      <td>battery</td>\n",
       "      <td>flash</td>\n",
       "      <td>quality</td>\n",
       "      <td>great</td>\n",
       "      <td>case</td>\n",
       "      <td>good</td>\n",
       "      <td>cameras</td>\n",
       "      <td>picture</td>\n",
       "      <td>zoom</td>\n",
       "    </tr>\n",
       "  </tbody>\n",
       "</table>\n",
       "</div>"
      ],
      "text/plain": [
       "        0        1         2       3        4      5        6      7        8  \\\n",
       "0    like  product     movie   great     just   good       cd  album      use   \n",
       "1    book     read     books  author  reading  story     quot   like     just   \n",
       "2  camera     lens  pictures   canon  digital    use  battery  flash  quality   \n",
       "\n",
       "       9       10    11       12       13      14  \n",
       "0   time     does   did   really    music    work  \n",
       "1   good  written   did    great   really  people  \n",
       "2  great     case  good  cameras  picture    zoom  "
      ]
     },
     "execution_count": 13,
     "metadata": {},
     "output_type": "execute_result"
    }
   ],
   "source": [
    "#List comprehantion for iterating each index\n",
    "summary = [[vectorizer.get_feature_names()[int(k)] for k in i] for i in ind]\n",
    "pd.DataFrame(summary)\n"
   ]
  },
  {
   "cell_type": "code",
   "execution_count": 14,
   "metadata": {},
   "outputs": [
    {
     "data": {
      "text/html": [
       "<div>\n",
       "<style scoped>\n",
       "    .dataframe tbody tr th:only-of-type {\n",
       "        vertical-align: middle;\n",
       "    }\n",
       "\n",
       "    .dataframe tbody tr th {\n",
       "        vertical-align: top;\n",
       "    }\n",
       "\n",
       "    .dataframe thead th {\n",
       "        text-align: right;\n",
       "    }\n",
       "</style>\n",
       "<table border=\"1\" class=\"dataframe\">\n",
       "  <thead>\n",
       "    <tr style=\"text-align: right;\">\n",
       "      <th></th>\n",
       "      <th>0</th>\n",
       "      <th>1</th>\n",
       "      <th>2</th>\n",
       "      <th>3</th>\n",
       "      <th>4</th>\n",
       "      <th>5</th>\n",
       "      <th>6</th>\n",
       "      <th>7</th>\n",
       "      <th>8</th>\n",
       "      <th>9</th>\n",
       "    </tr>\n",
       "  </thead>\n",
       "  <tbody>\n",
       "    <tr>\n",
       "      <th>0</th>\n",
       "      <td>movie</td>\n",
       "      <td>film</td>\n",
       "      <td>movies</td>\n",
       "      <td>like</td>\n",
       "      <td>story</td>\n",
       "      <td>watch</td>\n",
       "      <td>just</td>\n",
       "      <td>good</td>\n",
       "      <td>great</td>\n",
       "      <td>acting</td>\n",
       "    </tr>\n",
       "    <tr>\n",
       "      <th>1</th>\n",
       "      <td>book</td>\n",
       "      <td>read</td>\n",
       "      <td>books</td>\n",
       "      <td>author</td>\n",
       "      <td>reading</td>\n",
       "      <td>story</td>\n",
       "      <td>like</td>\n",
       "      <td>quot</td>\n",
       "      <td>just</td>\n",
       "      <td>written</td>\n",
       "    </tr>\n",
       "    <tr>\n",
       "      <th>2</th>\n",
       "      <td>camera</td>\n",
       "      <td>lens</td>\n",
       "      <td>pictures</td>\n",
       "      <td>canon</td>\n",
       "      <td>use</td>\n",
       "      <td>digital</td>\n",
       "      <td>flash</td>\n",
       "      <td>battery</td>\n",
       "      <td>quality</td>\n",
       "      <td>great</td>\n",
       "    </tr>\n",
       "    <tr>\n",
       "      <th>3</th>\n",
       "      <td>software</td>\n",
       "      <td>program</td>\n",
       "      <td>product</td>\n",
       "      <td>version</td>\n",
       "      <td>use</td>\n",
       "      <td>computer</td>\n",
       "      <td>support</td>\n",
       "      <td>windows</td>\n",
       "      <td>easy</td>\n",
       "      <td>microsoft</td>\n",
       "    </tr>\n",
       "    <tr>\n",
       "      <th>4</th>\n",
       "      <td>product</td>\n",
       "      <td>great</td>\n",
       "      <td>good</td>\n",
       "      <td>like</td>\n",
       "      <td>use</td>\n",
       "      <td>just</td>\n",
       "      <td>does</td>\n",
       "      <td>hair</td>\n",
       "      <td>time</td>\n",
       "      <td>did</td>\n",
       "    </tr>\n",
       "    <tr>\n",
       "      <th>5</th>\n",
       "      <td>album</td>\n",
       "      <td>cd</td>\n",
       "      <td>music</td>\n",
       "      <td>songs</td>\n",
       "      <td>quot</td>\n",
       "      <td>song</td>\n",
       "      <td>like</td>\n",
       "      <td>just</td>\n",
       "      <td>great</td>\n",
       "      <td>band</td>\n",
       "    </tr>\n",
       "  </tbody>\n",
       "</table>\n",
       "</div>"
      ],
      "text/plain": [
       "          0        1         2        3        4         5        6        7  \\\n",
       "0     movie     film    movies     like    story     watch     just     good   \n",
       "1      book     read     books   author  reading     story     like     quot   \n",
       "2    camera     lens  pictures    canon      use   digital    flash  battery   \n",
       "3  software  program   product  version      use  computer  support  windows   \n",
       "4   product    great      good     like      use      just     does     hair   \n",
       "5     album       cd     music    songs     quot      song     like     just   \n",
       "\n",
       "         8          9  \n",
       "0    great     acting  \n",
       "1     just    written  \n",
       "2  quality      great  \n",
       "3     easy  microsoft  \n",
       "4     time        did  \n",
       "5    great       band  "
      ]
     },
     "execution_count": 14,
     "metadata": {},
     "output_type": "execute_result"
    }
   ],
   "source": [
    "Nclus = 6\n",
    "n = 10\n",
    "  \n",
    "ind = np.zeros((Nclus,n))\n",
    "\n",
    "for i in  range( kmeans_6.cluster_centers_.shape[0]):\n",
    "    \n",
    "    ind[i] = kmeans_6.cluster_centers_[i].argsort()[::-1][:n]\n",
    "\n",
    "#List comprehantion for iterating each index\n",
    "summary_K6 = [[vectorizer.get_feature_names()[int(k)] for k in i] for i in ind]\n",
    "pd.DataFrame(summary_K6)\n"
   ]
  },
  {
   "cell_type": "markdown",
   "metadata": {},
   "source": [
    "Once you have computed the cluster summaries, discuss their quality. Is it clear what the reviews in a given cluster are about? Which clusters are clearest? Which are less clear? Do the cluster summaries contain any unexpected terms? What happens if you re-cluster with, say, $k=6$?"
   ]
  },
  {
   "cell_type": "markdown",
   "metadata": {},
   "source": [
    "### Analysis"
   ]
  },
  {
   "cell_type": "markdown",
   "metadata": {},
   "source": [
    "In that specific problem, we have the class for each review. In that way, we can see in advance that the number of clusters is 6. Therefore, we are expecting that K = 3 may combine different \"similar\" classes together.  \n",
    "\n",
    "When we use 3 clusters, the model is not able to seperate the category \"Dvd\" and \"Music\". The two other clusters can be easily classified as the \"Book\" and \"Camera\". It is clear that the algorithm can not capture the classes \"Software\" and \"Health\" though.\n",
    "\n",
    "On the other hand, when we use 6 clusters(which is the real number of the clusters), all of the classes are easily recognissed.\n",
    "\n",
    "We could also do the lemmatation in the pre processing procedure in order to avoid repetation of some words like did and does."
   ]
  },
  {
   "cell_type": "markdown",
   "metadata": {},
   "source": [
    "## Problem 3: Tune the k-means algorithm"
   ]
  },
  {
   "cell_type": "markdown",
   "metadata": {},
   "source": [
    "A major limitation of the $k$-means algorithm is that one has to manually set the value for $k$, the number of clusters. One heuristic that can help you with this is the [Elbow method](https://en.wikipedia.org/wiki/Elbow_method_(clustering)). Your next task is to implement this method to see whether it allows you to find a better value for $k$.\n",
    "\n",
    "To follow the elbow method, you should plot different values of $k$ against the **inertia** (sums of squared distances between documents and closest centroids) of the fitted $k$-means model, and pick the $k$ at the &lsquo;elbow point&rsquo; of the resulting graph. Test cluster sizes between 1 and 9.\n",
    "\n",
    "**Note that this will take a while.**"
   ]
  },
  {
   "cell_type": "markdown",
   "metadata": {},
   "source": [
    "### Calculating the Intertias Scores for different K"
   ]
  },
  {
   "cell_type": "code",
   "execution_count": 15,
   "metadata": {},
   "outputs": [],
   "source": [
    "#import numpy as np\n",
    "#We now use the Elbow method\n",
    "#We will run the algorithm many times\n",
    "K = 9\n",
    "Intertias = np.zeros(K)\n",
    "\n",
    "r = 0\n",
    "for i in range(1,K+1):\n",
    "    Intertias[r] = KMeans(n_clusters= i,n_init= 5, random_state = 12345).fit(reviews).inertia_\n",
    "    r = r + 1\n"
   ]
  },
  {
   "cell_type": "code",
   "execution_count": 16,
   "metadata": {},
   "outputs": [
    {
     "data": {
      "text/plain": [
       "array([11764.20258591, 11696.56159235, 11652.42954528, 11614.2159932 ,\n",
       "       11578.79453702, 11552.6884815 , 11525.75879495, 11490.98972428,\n",
       "       11478.909646  ])"
      ]
     },
     "execution_count": 16,
     "metadata": {},
     "output_type": "execute_result"
    }
   ],
   "source": [
    "Intertias\n"
   ]
  },
  {
   "cell_type": "markdown",
   "metadata": {},
   "source": [
    "### Plot number of clusters vs Intertia Scores"
   ]
  },
  {
   "cell_type": "code",
   "execution_count": 17,
   "metadata": {},
   "outputs": [
    {
     "data": {
      "image/png": "[encoded data removed]",
      "text/plain": [
       "<Figure size 432x288 with 1 Axes>"
      ]
     },
     "metadata": {
      "needs_background": "light"
     },
     "output_type": "display_data"
    }
   ],
   "source": [
    "x = [i for i in range(1,10)]\n",
    "\n",
    "plt.plot(x,Intertias, color = \"red\" ,marker='o', linestyle='dashed',linewidth = 2,markersize = 10,alpha = 0.9)\n",
    "plt.show()"
   ]
  },
  {
   "cell_type": "markdown",
   "metadata": {},
   "source": [
    "Once you have the diagram, can you see a pronounced &lsquo;elbow point&rsquo;? Discuss your findings in a short text."
   ]
  },
  {
   "cell_type": "markdown",
   "metadata": {},
   "source": [
    "As mentioned before, the true number of classes is 6. Therefore, somenone would expect that the elbow point will be for K = 6. From the plot though, the above statement is not so clear because also K = 8 seems to be good elbow point using the Intertias scores, after that it seems overfitting."
   ]
  },
  {
   "cell_type": "markdown",
   "metadata": {},
   "source": [
    "## Problem 4: Compare clusterings using the Rand index"
   ]
  },
  {
   "cell_type": "markdown",
   "metadata": {},
   "source": [
    "In some scenarios, you may have gold-standard class labels available for at least a subset of your documents. In these cases you can compute the **Rand index** of a clustering, and use this measure to compare the quality of different clusterings.\n",
    "\n",
    "To compute the Rand index, we view a clustering as a binary classifier on pairs of documents. The classifier predicts &lsquo;positive&rsquo; if and only if the two documents belong to the same cluster. The (non-normalized) Rand index of the clustering is the accuracy of this classifier relative to a reference in which a document pair belongs to the &lsquo;positive&rsquo; class if and only if the two documents in the pair have the same gold-standard class label.\n",
    "\n",
    "Compare a clustering with $k=3$ clusters to a second clustering with $k=6$ clusters. As your evaluation data, use the first 500 documents from the original data set along with their gold-standard categories (from the `category` column). What do you observe? How do you interpret your observations? What arguments can you find against the Rand index as a measure for comparing clusterings?"
   ]
  },
  {
   "cell_type": "markdown",
   "metadata": {},
   "source": [
    "### Rand Index Function"
   ]
  },
  {
   "cell_type": "code",
   "execution_count": 18,
   "metadata": {},
   "outputs": [],
   "source": [
    "import itertools\n",
    "\n",
    "#Gold standard classes\n",
    "classes = df[\"category\"][0:501]\n",
    "\n",
    "#The predictions for K = 3\n",
    "clusters_3 = kmeans_3.predict(reviews[0:501])\n",
    "\n",
    "#For K = 6\n",
    "clusters_6 = kmeans_6.predict(reviews[0:501])\n",
    "\n"
   ]
  },
  {
   "cell_type": "code",
   "execution_count": 19,
   "metadata": {},
   "outputs": [],
   "source": [
    "#We create a function for the Rand index score\n",
    "\n",
    "#compare the classes and the prediction\n",
    "def compare(x):\n",
    "    res = False\n",
    "    if x[0] ==x[1]:\n",
    "        res = True\n",
    "    return res\n",
    "\n",
    "def RandIndex(preds,y):\n",
    "    \n",
    "    #FIRST STEP\n",
    "    #Our first step is to go through all combination for both the clusters and classes\n",
    "    #For each pair, we see if the two elements belong to the same cluster(or class).\n",
    "    \n",
    "    #first we have to go pairwise through all combinations of the predictions and see how many of them belong to the same cluster\n",
    "    clusters = [compare(i) for i in list(itertools.combinations(preds, 2))] #This gives a new classifier with labels TRUE or FALSE\n",
    "    \n",
    "    #we do the same for the classes\n",
    "    classes =  [compare(i) for i in list(itertools.combinations(y, 2))] #This gives the labels of the classifier TRUE or FALSE\n",
    "     \n",
    "    #Now we have the predictions of the new classifier and the gold classes. We just need the accuracy of that classifier\n",
    "    #We use a nested list comprehantion in order to compute the TP + FN. \n",
    "    TP_FN = sum([compare(pair) for pair in [[clusters[i],classes[i]] for i in (range(0,len(clusters)))]])\n",
    "    \n",
    "    #accuracy\n",
    "    randIndex = TP_FN/len(clusters)\n",
    "    return randIndex\n"
   ]
  },
  {
   "cell_type": "code",
   "execution_count": 20,
   "metadata": {},
   "outputs": [],
   "source": [
    "#Rand Index for K = 3\n",
    "RandIn_3K = RandIndex(classes,clusters_3)\n",
    "\n",
    "#Rand Index for K = 6\n",
    "RandIn_6K = RandIndex(classes,clusters_6)\n",
    "\n"
   ]
  },
  {
   "cell_type": "code",
   "execution_count": 21,
   "metadata": {},
   "outputs": [
    {
     "data": {
      "text/plain": [
       "('The Rand Index for 3 Clusters is 0.4442874251497006',\n",
       " 'The Rand Index for 6 Clusters is 0.7638483033932135')"
      ]
     },
     "execution_count": 21,
     "metadata": {},
     "output_type": "execute_result"
    }
   ],
   "source": [
    "\"The Rand Index for 3 Clusters is \" + str(RandIn_3K), \"The Rand Index for 6 Clusters is \" + str(RandIn_6K)"
   ]
  },
  {
   "cell_type": "markdown",
   "metadata": {},
   "source": [
    "### Analysis"
   ]
  },
  {
   "cell_type": "markdown",
   "metadata": {},
   "source": [
    "The rand Index score measures the similarity between to clustering algorithm and it can be a number between 0 and 1(0 for not related at all, 1 for totaly). In this task we compare the similarity between a clustering and the gold standard classes for two different clustering algorith( K = 3 and K =6). From the scores above, it is clear that Kmeans with 6 clusters performs much better than with 3 clusters.\n",
    "\n",
    "One drawback for RI could be that it takes into accout the FN. That means that, if the data have many different classes, many pairs will have different clusters and true labels in the same time. Therefore, the RI will be high, even if there are not many TP in that score. For those cases, it may be better to use Adjusted Rand Index, an alternative of RI, which does not take into account the False Positives. "
   ]
  },
  {
   "cell_type": "markdown",
   "metadata": {},
   "source": [
    "## Topic modelling data set"
   ]
  },
  {
   "cell_type": "markdown",
   "metadata": {},
   "source": [
    "The data set for the topic modelling part of this lab is the collection of all [State of the Union](https://en.wikipedia.org/wiki/State_of_the_Union) addresses from the years 1975–2000. These speeches come as a single text file with one sentence per line. The following code cell prints the first 5 lines from the data file:"
   ]
  },
  {
   "cell_type": "code",
   "execution_count": 22,
   "metadata": {},
   "outputs": [
    {
     "name": "stdout",
     "output_type": "stream",
     "text": [
      "mr speaker mr vice president members of the 94th congress and distinguished guests\n",
      "twenty six years ago a freshman congressman a young fellow with lots of idealism who was out to change the world stood before sam rayburn in the well of the house and solemnly swore to the same oath that all of you took yesterday an unforgettable experience and i congratulate you all\n",
      "two days later that same freshman stood at the back of this great chamber over there someplace as president truman all charged up by his single handed election victory reported as the constitution requires on the state of the union\n",
      "when the bipartisan applause stopped president truman said i am happy to report to this 81st congress that the state of the union is good our nation is better able than ever before to meet the needs of the american people and to give them their fair chance in the pursuit of happiness it is foremost among the nations of the world in the search for peace\n",
      "today that freshman member from michigan stands where mr truman stood and i must say to you that the state of the union is not good\n",
      "millions of americans are out of work\n"
     ]
    }
   ],
   "source": [
    "with open(\"sotu_1975_2000.txt\") as source:\n",
    "    for i, line in enumerate(source):\n",
    "        print(line.rstrip())\n",
    "        if i >= 5:\n",
    "            break"
   ]
  },
  {
   "cell_type": "markdown",
   "metadata": {},
   "source": [
    "## Problem 5: Train a topic model"
   ]
  },
  {
   "cell_type": "markdown",
   "metadata": {},
   "source": [
    "Your first task on the topic modelling data is to train an LDA model. For this task you will be using [spaCy](https://spacy.io/) and the [gensim](https://radimrehurek.com/gensim/) topic modelling library.\n",
    "\n",
    "Start by preprocessing the data using spaCy. Given that the data set for this problem is rather small, you do not have to exclude any components from the standard pipeline. Filter out stop words, non-alphabetic tokens, and tokens less than 3 characters in length. Store the documents as a nested list where the first level of nesting corresponds to the sentences and the second level corresponds to the tokens in each sentence."
   ]
  },
  {
   "cell_type": "markdown",
   "metadata": {},
   "source": [
    "### Preprocessing"
   ]
  },
  {
   "cell_type": "code",
   "execution_count": 23,
   "metadata": {},
   "outputs": [],
   "source": [
    "import spacy\n",
    "nlp = spacy.load(\"en_core_web_sm\", disable=[\"tagger\", \"parser\", \"ner\"])\n",
    "\n",
    "#function for the preprocess.\n",
    "def preprocess(text):\n",
    "    #convert each row to nlp object\n",
    "    doc = nlp(text)\n",
    "    #We just tokenize, and chech if it is a stop word, is a word and if its size is more than 3\n",
    "    out = [token.text for token in doc if not token.is_stop and token.lemma_.isalpha() and len(token)>=3]\n",
    "    return out\n",
    "\n"
   ]
  },
  {
   "cell_type": "code",
   "execution_count": 24,
   "metadata": {},
   "outputs": [],
   "source": [
    "# TODO: Replace the following lines with your own code for preprocessing the documents\n",
    "with open(\"sotu_1975_2000.txt\") as source:\n",
    "    docs = [(preprocess(line)) for line in source]\n",
    "    docs = [' '.join(d) for d in docs]"
   ]
  },
  {
   "cell_type": "markdown",
   "metadata": {},
   "source": [
    "Test your preprocessing by running the following cell:"
   ]
  },
  {
   "cell_type": "code",
   "execution_count": 25,
   "metadata": {},
   "outputs": [
    {
     "data": {
      "text/plain": [
       "'reduce oil imports million barrels day end year million barrels day end'"
      ]
     },
     "execution_count": 25,
     "metadata": {},
     "output_type": "execute_result"
    }
   ],
   "source": [
    "docs[42]"
   ]
  },
  {
   "cell_type": "markdown",
   "metadata": {},
   "source": [
    "You should get the following output:"
   ]
  },
  {
   "cell_type": "raw",
   "metadata": {},
   "source": [
    "'reduce oil imports million barrels day end year million barrels day end'"
   ]
  },
  {
   "cell_type": "markdown",
   "metadata": {},
   "source": [
    "Once you have the list of documents, skim the section [Pre-process and vectorize the documents](https://radimrehurek.com/gensim/auto_examples/tutorials/run_lda.html#pre-process-and-vectorize-the-documents) of the gensim documentation to learn how to create the dictionary and the vectorized corpus representation required by gensim. (Note that you cannot use the standard scikit-learn pipeline in this case.) Then, write code to train an [LdaModel](https://radimrehurek.com/gensim/models/ldamodel.html) for $k=10$ topics, and using default values for all other parameters."
   ]
  },
  {
   "cell_type": "markdown",
   "metadata": {},
   "source": [
    "### Tokenization"
   ]
  },
  {
   "cell_type": "code",
   "execution_count": 26,
   "metadata": {},
   "outputs": [],
   "source": [
    "#Despite we have done the preprocessing, we have to do some more steps for the LdaModel\n",
    "# Tokenize the documents.\n",
    "from nltk.tokenize import RegexpTokenizer\n",
    "\n",
    "# Split the documents into tokens.\n",
    "tokenizer = RegexpTokenizer(r'\\w+')\n",
    "for idx in range(len(docs)):\n",
    "    docs[idx] = docs[idx].lower()  # Convert to lowercase.\n",
    "    docs[idx] = tokenizer.tokenize(docs[idx])  # Split into words.\n",
    "\n",
    "# Remove numbers, but not words that contain numbers.\n",
    "docs = [[token for token in doc if not token.isnumeric()] for doc in docs]\n",
    "\n",
    "# Remove words that are only one character.\n",
    "docs = [[token for token in doc if len(token) > 1] for doc in docs]"
   ]
  },
  {
   "cell_type": "markdown",
   "metadata": {},
   "source": [
    "### Lemmatization"
   ]
  },
  {
   "cell_type": "code",
   "execution_count": 27,
   "metadata": {},
   "outputs": [],
   "source": [
    "from nltk.stem.wordnet import WordNetLemmatizer\n",
    "\n",
    "lemmatizer = WordNetLemmatizer()\n",
    "docs = [[lemmatizer.lemmatize(token) for token in doc] for doc in docs]"
   ]
  },
  {
   "cell_type": "markdown",
   "metadata": {},
   "source": [
    "### Add bigrams and trigramms"
   ]
  },
  {
   "cell_type": "code",
   "execution_count": 28,
   "metadata": {},
   "outputs": [],
   "source": [
    "from gensim.models import Phrases\n",
    "\n",
    "# Add bigrams and trigrams to docs (only ones that appear 20 times or more).\n",
    "bigram = Phrases(docs, min_count=20)\n",
    "for idx in range(len(docs)):\n",
    "    for token in bigram[docs[idx]]:\n",
    "        if '_' in token:\n",
    "            # Token is a bigram, add to document.\n",
    "            docs[idx].append(token)\n"
   ]
  },
  {
   "cell_type": "markdown",
   "metadata": {},
   "source": [
    "### Transpose the documents to a dictionary representation"
   ]
  },
  {
   "cell_type": "code",
   "execution_count": 29,
   "metadata": {},
   "outputs": [],
   "source": [
    "from gensim.corpora import Dictionary\n",
    "\n",
    "# Create a dictionary representation of the documents.\n",
    "dictionary = Dictionary(docs)\n",
    "\n",
    "# Filter out words that occur less than 20 documents, or more than 50% of the documents.\n",
    "dictionary.filter_extremes(no_below=20, no_above=0.5)\n"
   ]
  },
  {
   "cell_type": "markdown",
   "metadata": {},
   "source": [
    "### Bug of words representation"
   ]
  },
  {
   "cell_type": "code",
   "execution_count": 30,
   "metadata": {},
   "outputs": [],
   "source": [
    "# Bag-of-words representation of the documents.\n",
    "corpus = [dictionary.doc2bow(doc) for doc in docs]"
   ]
  },
  {
   "cell_type": "code",
   "execution_count": 31,
   "metadata": {},
   "outputs": [
    {
     "name": "stdout",
     "output_type": "stream",
     "text": [
      "Number of unique tokens: 735\n",
      "Number of documents: 2898\n"
     ]
    }
   ],
   "source": [
    "print('Number of unique tokens: %d' % len(dictionary))\n",
    "print('Number of documents: %d' % len(corpus))"
   ]
  },
  {
   "cell_type": "markdown",
   "metadata": {},
   "source": [
    "### Train the LDA model"
   ]
  },
  {
   "cell_type": "code",
   "execution_count": 32,
   "metadata": {},
   "outputs": [],
   "source": [
    "from gensim.models import LdaModel\n",
    "\n",
    "# Set training parameters.\n",
    "num_topics = 10\n",
    "\n",
    "# Make a index to word dictionary.\n",
    "temp = dictionary[0]  # This is only to \"load\" the dictionary.\n",
    "id2word = dictionary.id2token\n",
    "\n",
    "model = LdaModel(\n",
    "    corpus=corpus,\n",
    "    id2word=id2word,\n",
    "    num_topics=num_topics\n",
    ")"
   ]
  },
  {
   "cell_type": "code",
   "execution_count": 34,
   "metadata": {},
   "outputs": [
    {
     "data": {
      "text/html": [
       "<div>\n",
       "<style scoped>\n",
       "    .dataframe tbody tr th:only-of-type {\n",
       "        vertical-align: middle;\n",
       "    }\n",
       "\n",
       "    .dataframe tbody tr th {\n",
       "        vertical-align: top;\n",
       "    }\n",
       "\n",
       "    .dataframe thead th {\n",
       "        text-align: right;\n",
       "    }\n",
       "</style>\n",
       "<table border=\"1\" class=\"dataframe\">\n",
       "  <thead>\n",
       "    <tr style=\"text-align: right;\">\n",
       "      <th></th>\n",
       "      <th>0</th>\n",
       "      <th>1</th>\n",
       "      <th>2</th>\n",
       "      <th>3</th>\n",
       "      <th>4</th>\n",
       "      <th>5</th>\n",
       "      <th>6</th>\n",
       "      <th>7</th>\n",
       "      <th>8</th>\n",
       "      <th>9</th>\n",
       "    </tr>\n",
       "  </thead>\n",
       "  <tbody>\n",
       "    <tr>\n",
       "      <th>0</th>\n",
       "      <td>(0.035425406, american)</td>\n",
       "      <td>(0.023249242, america)</td>\n",
       "      <td>(0.029464528, year)</td>\n",
       "      <td>(0.038492586, year)</td>\n",
       "      <td>(0.023931947, care)</td>\n",
       "      <td>(0.017707229, child)</td>\n",
       "      <td>(0.024313765, nation)</td>\n",
       "      <td>(0.04530974, child)</td>\n",
       "      <td>(0.031910904, year)</td>\n",
       "      <td>(0.032250308, year)</td>\n",
       "    </tr>\n",
       "    <tr>\n",
       "      <th>1</th>\n",
       "      <td>(0.023299862, year)</td>\n",
       "      <td>(0.020474348, congress)</td>\n",
       "      <td>(0.021874826, parent)</td>\n",
       "      <td>(0.015445001, new)</td>\n",
       "      <td>(0.021325022, health)</td>\n",
       "      <td>(0.015609585, economy)</td>\n",
       "      <td>(0.024128225, america)</td>\n",
       "      <td>(0.0155935, world)</td>\n",
       "      <td>(0.01549134, way)</td>\n",
       "      <td>(0.014939256, state)</td>\n",
       "    </tr>\n",
       "    <tr>\n",
       "      <th>2</th>\n",
       "      <td>(0.022288017, america)</td>\n",
       "      <td>(0.017216397, know)</td>\n",
       "      <td>(0.021688573, child)</td>\n",
       "      <td>(0.014699497, security)</td>\n",
       "      <td>(0.020207666, american)</td>\n",
       "      <td>(0.015215455, government)</td>\n",
       "      <td>(0.019209247, people)</td>\n",
       "      <td>(0.0148640415, year)</td>\n",
       "      <td>(0.015356404, budget)</td>\n",
       "      <td>(0.013803592, new)</td>\n",
       "    </tr>\n",
       "    <tr>\n",
       "      <th>3</th>\n",
       "      <td>(0.020769065, people)</td>\n",
       "      <td>(0.015067735, welfare)</td>\n",
       "      <td>(0.016311307, family)</td>\n",
       "      <td>(0.013771155, tax)</td>\n",
       "      <td>(0.018625494, year)</td>\n",
       "      <td>(0.015017174, job)</td>\n",
       "      <td>(0.017102122, new)</td>\n",
       "      <td>(0.0147505365, community)</td>\n",
       "      <td>(0.014307826, woman)</td>\n",
       "      <td>(0.011687696, million)</td>\n",
       "    </tr>\n",
       "    <tr>\n",
       "      <th>4</th>\n",
       "      <td>(0.016655918, new)</td>\n",
       "      <td>(0.013275578, community)</td>\n",
       "      <td>(0.015623007, people)</td>\n",
       "      <td>(0.013208683, people)</td>\n",
       "      <td>(0.014187599, new)</td>\n",
       "      <td>(0.012610122, time)</td>\n",
       "      <td>(0.015594441, peace)</td>\n",
       "      <td>(0.010815522, right)</td>\n",
       "      <td>(0.013476645, thank)</td>\n",
       "      <td>(0.011385218, american)</td>\n",
       "    </tr>\n",
       "    <tr>\n",
       "      <th>5</th>\n",
       "      <td>(0.016051209, work)</td>\n",
       "      <td>(0.012565485, work)</td>\n",
       "      <td>(0.014388783, american)</td>\n",
       "      <td>(0.013016652, congress)</td>\n",
       "      <td>(0.011710666, congress)</td>\n",
       "      <td>(0.012349059, work)</td>\n",
       "      <td>(0.015561753, world)</td>\n",
       "      <td>(0.010318694, new)</td>\n",
       "      <td>(0.013263569, tax)</td>\n",
       "      <td>(0.010996229, let)</td>\n",
       "    </tr>\n",
       "    <tr>\n",
       "      <th>6</th>\n",
       "      <td>(0.0118882395, government)</td>\n",
       "      <td>(0.0115534095, people)</td>\n",
       "      <td>(0.012226503, need)</td>\n",
       "      <td>(0.0120803425, million)</td>\n",
       "      <td>(0.011584532, health_care)</td>\n",
       "      <td>(0.011676198, today)</td>\n",
       "      <td>(0.01348151, time)</td>\n",
       "      <td>(0.010006226, crime)</td>\n",
       "      <td>(0.0129640065, cut)</td>\n",
       "      <td>(0.010603567, thank)</td>\n",
       "    </tr>\n",
       "    <tr>\n",
       "      <th>7</th>\n",
       "      <td>(0.011311045, job)</td>\n",
       "      <td>(0.010618406, year)</td>\n",
       "      <td>(0.011145942, million)</td>\n",
       "      <td>(0.011354099, social)</td>\n",
       "      <td>(0.010527725, security)</td>\n",
       "      <td>(0.010497214, new)</td>\n",
       "      <td>(0.011556006, school)</td>\n",
       "      <td>(0.009563405, parent)</td>\n",
       "      <td>(0.0109167, congress)</td>\n",
       "      <td>(0.00982483, united)</td>\n",
       "    </tr>\n",
       "    <tr>\n",
       "      <th>8</th>\n",
       "      <td>(0.010801815, century)</td>\n",
       "      <td>(0.010606974, let)</td>\n",
       "      <td>(0.010635856, government)</td>\n",
       "      <td>(0.0111279255, social_security)</td>\n",
       "      <td>(0.010005497, reform)</td>\n",
       "      <td>(0.009745688, program)</td>\n",
       "      <td>(0.011127741, state)</td>\n",
       "      <td>(0.009301474, school)</td>\n",
       "      <td>(0.010497916, let)</td>\n",
       "      <td>(0.009521989, congress)</td>\n",
       "    </tr>\n",
       "    <tr>\n",
       "      <th>9</th>\n",
       "      <td>(0.010301305, community)</td>\n",
       "      <td>(0.0099810865, american)</td>\n",
       "      <td>(0.010463617, cut)</td>\n",
       "      <td>(0.011016185, time)</td>\n",
       "      <td>(0.009465486, century)</td>\n",
       "      <td>(0.009689306, energy)</td>\n",
       "      <td>(0.010008111, work)</td>\n",
       "      <td>(0.009196406, country)</td>\n",
       "      <td>(0.010041815, new)</td>\n",
       "      <td>(0.009413649, god_bless)</td>\n",
       "    </tr>\n",
       "  </tbody>\n",
       "</table>\n",
       "</div>"
      ],
      "text/plain": [
       "                            0                         1  \\\n",
       "0     (0.035425406, american)    (0.023249242, america)   \n",
       "1         (0.023299862, year)   (0.020474348, congress)   \n",
       "2      (0.022288017, america)       (0.017216397, know)   \n",
       "3       (0.020769065, people)    (0.015067735, welfare)   \n",
       "4          (0.016655918, new)  (0.013275578, community)   \n",
       "5         (0.016051209, work)       (0.012565485, work)   \n",
       "6  (0.0118882395, government)    (0.0115534095, people)   \n",
       "7          (0.011311045, job)       (0.010618406, year)   \n",
       "8      (0.010801815, century)        (0.010606974, let)   \n",
       "9    (0.010301305, community)  (0.0099810865, american)   \n",
       "\n",
       "                           2                                3  \\\n",
       "0        (0.029464528, year)              (0.038492586, year)   \n",
       "1      (0.021874826, parent)               (0.015445001, new)   \n",
       "2       (0.021688573, child)          (0.014699497, security)   \n",
       "3      (0.016311307, family)               (0.013771155, tax)   \n",
       "4      (0.015623007, people)            (0.013208683, people)   \n",
       "5    (0.014388783, american)          (0.013016652, congress)   \n",
       "6        (0.012226503, need)          (0.0120803425, million)   \n",
       "7     (0.011145942, million)            (0.011354099, social)   \n",
       "8  (0.010635856, government)  (0.0111279255, social_security)   \n",
       "9         (0.010463617, cut)              (0.011016185, time)   \n",
       "\n",
       "                            4                          5  \\\n",
       "0         (0.023931947, care)       (0.017707229, child)   \n",
       "1       (0.021325022, health)     (0.015609585, economy)   \n",
       "2     (0.020207666, american)  (0.015215455, government)   \n",
       "3         (0.018625494, year)         (0.015017174, job)   \n",
       "4          (0.014187599, new)        (0.012610122, time)   \n",
       "5     (0.011710666, congress)        (0.012349059, work)   \n",
       "6  (0.011584532, health_care)       (0.011676198, today)   \n",
       "7     (0.010527725, security)         (0.010497214, new)   \n",
       "8       (0.010005497, reform)     (0.009745688, program)   \n",
       "9      (0.009465486, century)      (0.009689306, energy)   \n",
       "\n",
       "                        6                          7                      8  \\\n",
       "0   (0.024313765, nation)        (0.04530974, child)    (0.031910904, year)   \n",
       "1  (0.024128225, america)         (0.0155935, world)      (0.01549134, way)   \n",
       "2   (0.019209247, people)       (0.0148640415, year)  (0.015356404, budget)   \n",
       "3      (0.017102122, new)  (0.0147505365, community)   (0.014307826, woman)   \n",
       "4    (0.015594441, peace)       (0.010815522, right)   (0.013476645, thank)   \n",
       "5    (0.015561753, world)         (0.010318694, new)     (0.013263569, tax)   \n",
       "6      (0.01348151, time)       (0.010006226, crime)    (0.0129640065, cut)   \n",
       "7   (0.011556006, school)      (0.009563405, parent)  (0.0109167, congress)   \n",
       "8    (0.011127741, state)      (0.009301474, school)     (0.010497916, let)   \n",
       "9     (0.010008111, work)     (0.009196406, country)     (0.010041815, new)   \n",
       "\n",
       "                          9  \n",
       "0       (0.032250308, year)  \n",
       "1      (0.014939256, state)  \n",
       "2        (0.013803592, new)  \n",
       "3    (0.011687696, million)  \n",
       "4   (0.011385218, american)  \n",
       "5        (0.010996229, let)  \n",
       "6      (0.010603567, thank)  \n",
       "7      (0.00982483, united)  \n",
       "8   (0.009521989, congress)  \n",
       "9  (0.009413649, god_bless)  "
      ]
     },
     "execution_count": 34,
     "metadata": {},
     "output_type": "execute_result"
    }
   ],
   "source": [
    "top_topics = model.top_topics(corpus) #, num_words=20)\n",
    "\n",
    "firstN = 10\n",
    "pd.DataFrame({i:[topic for topic in top_topics[i][0][:firstN]] for i in range(num_topics)})"
   ]
  },
  {
   "cell_type": "markdown",
   "metadata": {},
   "source": [
    "Once you have a trained model, run the following cell to print the topics:"
   ]
  },
  {
   "cell_type": "markdown",
   "metadata": {},
   "source": [
    "Inspect the topics. Do they make sense? Can you &lsquo;label&rsquo; each topic with a short description of what it is about? Do the topics contain any unexpected terms? Summarize your discussion in a short text."
   ]
  },
  {
   "cell_type": "markdown",
   "metadata": {},
   "source": [
    "### Analysis\n",
    "\n",
    "There are many words repeating in every topics with big coefficients. Also we can say that we have some overlaping topics. For example first one can be named as \"family\" topic and third one can be too. There are also clear topics if we only consider highest coefficients. For example number 7 is obviously about \"medical care\". For a solution of these repetition words we can play with parameters of filter_exteremes. \n"
   ]
  },
  {
   "cell_type": "markdown",
   "metadata": {},
   "source": [
    "## Problem 6: Monitoring a topic model for convergence"
   ]
  },
  {
   "cell_type": "markdown",
   "metadata": {},
   "source": [
    "When learning an LDA model, it is important to make sure that the training algorithm has converged to a stable posterior distribution. One way to do so is to plot, after each training epochs(or &lsquo;pass&rsquo;, in gensim parlance) the log likelihood of the training data under the posterior. Your last task in this lab is to create such a plot and, based on this, to suggest an appropriate number of epochs.\n",
    "\n",
    "To collect information about the posterior likelihood after each pass, we need to enable the logging facilities of gensim. Once this is done, gensim will add various diagnostics to a log file `gensim.log`."
   ]
  },
  {
   "cell_type": "code",
   "execution_count": 35,
   "metadata": {},
   "outputs": [],
   "source": [
    "import logging\n",
    "\n",
    "#logging.basicConfig(filename=\"gensim.log\", format=\"%(asctime)s:%(levelname)s:%(message)s\", level=logging.INFO)\n",
    "logging.basicConfig(filename=\"gensim.log\", filemode='w', format=\"%(asctime)s:%(levelname)s:%(message)s\", level=logging.INFO)"
   ]
  },
  {
   "cell_type": "markdown",
   "metadata": {},
   "source": [
    "The following function will parse the generated logfile and return the list of log likelihoods."
   ]
  },
  {
   "cell_type": "code",
   "execution_count": 36,
   "metadata": {},
   "outputs": [],
   "source": [
    "import re\n",
    "\n",
    "def parse_logfile():\n",
    "    matcher = re.compile(\"(-*\\d+\\.\\d+) per-word .* (\\d+\\.\\d+) perplexity\")\n",
    "    likelihoods = []\n",
    "    with open(\"gensim.log\") as source:\n",
    "        for line in source:\n",
    "            match = matcher.search(line)\n",
    "            if match:\n",
    "                likelihoods.append(float(match.group(1)))\n",
    "    return likelihoods"
   ]
  },
  {
   "cell_type": "markdown",
   "metadata": {},
   "source": [
    "Your task now is to re-train your LDA model for 50&nbsp;passes, retrieve the list of log likelihoods, and create a plot from this data."
   ]
  },
  {
   "cell_type": "code",
   "execution_count": 37,
   "metadata": {},
   "outputs": [],
   "source": [
    "model = LdaModel(\n",
    "    corpus=corpus,\n",
    "    id2word=id2word,\n",
    "    num_topics=num_topics,\n",
    "    passes=50\n",
    ")"
   ]
  },
  {
   "cell_type": "code",
   "execution_count": 38,
   "metadata": {},
   "outputs": [],
   "source": [
    "logLike = parse_logfile()[-50:] #every time we run the procedure, the result is added "
   ]
  },
  {
   "cell_type": "code",
   "execution_count": 39,
   "metadata": {},
   "outputs": [
    {
     "data": {
      "image/png": "[encoded data removed]",
      "text/plain": [
       "<Figure size 432x288 with 1 Axes>"
      ]
     },
     "metadata": {
      "needs_background": "light"
     },
     "output_type": "display_data"
    }
   ],
   "source": [
    "#import matplotlib.pyplot as plt\n",
    "x = [i for i in range(1,51)]\n",
    "\n",
    "plt.plot(x,logLike, color = \"red\" ,marker='o', linestyle='dashed',linewidth = 1,markersize = 5,alpha = 0.9)\n",
    "plt.show()"
   ]
  },
  {
   "cell_type": "code",
   "execution_count": 40,
   "metadata": {},
   "outputs": [
    {
     "data": {
      "text/plain": [
       "[49]"
      ]
     },
     "execution_count": 40,
     "metadata": {},
     "output_type": "execute_result"
    }
   ],
   "source": [
    "m = max(logLike)\n",
    "max_index = [i for i, j in enumerate(logLike) if j == m]\n",
    "\n",
    "max_index"
   ]
  },
  {
   "cell_type": "code",
   "execution_count": 41,
   "metadata": {},
   "outputs": [
    {
     "data": {
      "text/plain": [
       "([-6.059, -6.058], -6.083, -6.074)"
      ]
     },
     "execution_count": 41,
     "metadata": {},
     "output_type": "execute_result"
    }
   ],
   "source": [
    "logLike[48:50], logLike[15],logLike[20]"
   ]
  },
  {
   "cell_type": "markdown",
   "metadata": {},
   "source": [
    "How do you interpret your plot? What would be a reasonable choice for the number of passes? Retrain your LDA model with that number and re-inspect the topics it finds. Do you consider the new topics to be &lsquo;better&rsquo; than the ones that you got from the 1-pass model in Problem&nbsp;5?"
   ]
  },
  {
   "cell_type": "markdown",
   "metadata": {},
   "source": [
    "### Analysis"
   ]
  },
  {
   "cell_type": "markdown",
   "metadata": {},
   "source": [
    "From the plot above, it is clear that after a certain number of passes( more than 10), the likelihood does not change signifancly. Therefore a value close to 15 should be the optimal one. By the term optimal, we mean that provides a high log likelihood value, but also does not make the model more complicated or computational expensive. For example, the maximum value(as printed above) is for 48,49 passes but that numbers make the model more expensive. Therefore, we can choose 15 as the optimal number of passes.\n",
    "\n"
   ]
  },
  {
   "cell_type": "markdown",
   "metadata": {},
   "source": [
    "### Train the Optimal LDA model"
   ]
  },
  {
   "cell_type": "code",
   "execution_count": 42,
   "metadata": {},
   "outputs": [],
   "source": [
    "opt_passes = 15\n",
    "Opt_model = LdaModel(\n",
    "    corpus=corpus,\n",
    "    id2word=id2word,\n",
    "    num_topics=num_topics,\n",
    "    passes=opt_passes\n",
    ")\n"
   ]
  },
  {
   "cell_type": "code",
   "execution_count": 43,
   "metadata": {},
   "outputs": [
    {
     "data": {
      "text/html": [
       "<div>\n",
       "<style scoped>\n",
       "    .dataframe tbody tr th:only-of-type {\n",
       "        vertical-align: middle;\n",
       "    }\n",
       "\n",
       "    .dataframe tbody tr th {\n",
       "        vertical-align: top;\n",
       "    }\n",
       "\n",
       "    .dataframe thead th {\n",
       "        text-align: right;\n",
       "    }\n",
       "</style>\n",
       "<table border=\"1\" class=\"dataframe\">\n",
       "  <thead>\n",
       "    <tr style=\"text-align: right;\">\n",
       "      <th></th>\n",
       "      <th>0</th>\n",
       "      <th>1</th>\n",
       "      <th>2</th>\n",
       "      <th>3</th>\n",
       "      <th>4</th>\n",
       "      <th>5</th>\n",
       "      <th>6</th>\n",
       "      <th>7</th>\n",
       "      <th>8</th>\n",
       "      <th>9</th>\n",
       "    </tr>\n",
       "  </thead>\n",
       "  <tbody>\n",
       "    <tr>\n",
       "      <th>0</th>\n",
       "      <td>(0.07616353, child)</td>\n",
       "      <td>(0.03819304, america)</td>\n",
       "      <td>(0.024330353, policy)</td>\n",
       "      <td>(0.041645534, new)</td>\n",
       "      <td>(0.03162559, congress)</td>\n",
       "      <td>(0.04599714, people)</td>\n",
       "      <td>(0.053688128, year)</td>\n",
       "      <td>(0.058887314, school)</td>\n",
       "      <td>(0.09828385, health)</td>\n",
       "      <td>(0.034869365, woman)</td>\n",
       "    </tr>\n",
       "    <tr>\n",
       "      <th>1</th>\n",
       "      <td>(0.03717549, family)</td>\n",
       "      <td>(0.035835367, world)</td>\n",
       "      <td>(0.023880599, energy)</td>\n",
       "      <td>(0.040873628, america)</td>\n",
       "      <td>(0.030943846, federal)</td>\n",
       "      <td>(0.03430715, american)</td>\n",
       "      <td>(0.039287157, budget)</td>\n",
       "      <td>(0.037220232, community)</td>\n",
       "      <td>(0.059104513, care)</td>\n",
       "      <td>(0.02846766, let)</td>\n",
       "    </tr>\n",
       "    <tr>\n",
       "      <th>2</th>\n",
       "      <td>(0.028260766, work)</td>\n",
       "      <td>(0.030244047, year)</td>\n",
       "      <td>(0.019464584, soviet)</td>\n",
       "      <td>(0.02679306, peace)</td>\n",
       "      <td>(0.02999214, government)</td>\n",
       "      <td>(0.026949314, work)</td>\n",
       "      <td>(0.025542364, cut)</td>\n",
       "      <td>(0.028644903, new)</td>\n",
       "      <td>(0.050641775, american)</td>\n",
       "      <td>(0.027430907, thank)</td>\n",
       "    </tr>\n",
       "    <tr>\n",
       "      <th>3</th>\n",
       "      <td>(0.025314739, parent)</td>\n",
       "      <td>(0.025998933, american)</td>\n",
       "      <td>(0.017608682, nation)</td>\n",
       "      <td>(0.025792995, world)</td>\n",
       "      <td>(0.02709165, program)</td>\n",
       "      <td>(0.020315956, year)</td>\n",
       "      <td>(0.023851575, tax)</td>\n",
       "      <td>(0.026468458, education)</td>\n",
       "      <td>(0.04316469, president)</td>\n",
       "      <td>(0.023037525, family)</td>\n",
       "    </tr>\n",
       "    <tr>\n",
       "      <th>4</th>\n",
       "      <td>(0.023151498, job)</td>\n",
       "      <td>(0.024303798, nation)</td>\n",
       "      <td>(0.013469404, force)</td>\n",
       "      <td>(0.025002385, government)</td>\n",
       "      <td>(0.023408428, social)</td>\n",
       "      <td>(0.018766822, let)</td>\n",
       "      <td>(0.021784887, rate)</td>\n",
       "      <td>(0.019400798, year)</td>\n",
       "      <td>(0.041692816, health_care)</td>\n",
       "      <td>(0.020878782, credit)</td>\n",
       "    </tr>\n",
       "    <tr>\n",
       "      <th>5</th>\n",
       "      <td>(0.022226708, know)</td>\n",
       "      <td>(0.021659255, people)</td>\n",
       "      <td>(0.012951509, program)</td>\n",
       "      <td>(0.02167129, economy)</td>\n",
       "      <td>(0.020763319, reform)</td>\n",
       "      <td>(0.018147927, way)</td>\n",
       "      <td>(0.01850364, deficit)</td>\n",
       "      <td>(0.018463697, help)</td>\n",
       "      <td>(0.03520802, fellow)</td>\n",
       "      <td>(0.01975919, tax_credit)</td>\n",
       "    </tr>\n",
       "    <tr>\n",
       "      <th>6</th>\n",
       "      <td>(0.021293236, tax)</td>\n",
       "      <td>(0.017860785, tonight)</td>\n",
       "      <td>(0.012312631, national)</td>\n",
       "      <td>(0.018071348, century)</td>\n",
       "      <td>(0.018204425, year)</td>\n",
       "      <td>(0.017314201, crime)</td>\n",
       "      <td>(0.018015588, growth)</td>\n",
       "      <td>(0.018237062, teacher)</td>\n",
       "      <td>(0.034602337, member)</td>\n",
       "      <td>(0.0190401, year)</td>\n",
       "    </tr>\n",
       "    <tr>\n",
       "      <th>7</th>\n",
       "      <td>(0.019682452, million)</td>\n",
       "      <td>(0.017379686, state)</td>\n",
       "      <td>(0.012099611, major)</td>\n",
       "      <td>(0.016702743, nation)</td>\n",
       "      <td>(0.01719419, security)</td>\n",
       "      <td>(0.013369702, drug)</td>\n",
       "      <td>(0.0171856, economic)</td>\n",
       "      <td>(0.016497415, national)</td>\n",
       "      <td>(0.03210087, insurance)</td>\n",
       "      <td>(0.017215528, term)</td>\n",
       "    </tr>\n",
       "    <tr>\n",
       "      <th>8</th>\n",
       "      <td>(0.018232374, people)</td>\n",
       "      <td>(0.014828597, country)</td>\n",
       "      <td>(0.011640484, administration)</td>\n",
       "      <td>(0.014563746, community)</td>\n",
       "      <td>(0.016697904, social_security)</td>\n",
       "      <td>(0.012857484, time)</td>\n",
       "      <td>(0.016605586, percent)</td>\n",
       "      <td>(0.015411655, high)</td>\n",
       "      <td>(0.029428132, medicare)</td>\n",
       "      <td>(0.0155392, great)</td>\n",
       "    </tr>\n",
       "    <tr>\n",
       "      <th>9</th>\n",
       "      <td>(0.017439561, right)</td>\n",
       "      <td>(0.013213176, freedom)</td>\n",
       "      <td>(0.011535951, new)</td>\n",
       "      <td>(0.014294162, responsibility)</td>\n",
       "      <td>(0.01589161, legislation)</td>\n",
       "      <td>(0.012758722, college)</td>\n",
       "      <td>(0.016369749, spending)</td>\n",
       "      <td>(0.014073875, student)</td>\n",
       "      <td>(0.0229043, vice)</td>\n",
       "      <td>(0.015483962, american)</td>\n",
       "    </tr>\n",
       "  </tbody>\n",
       "</table>\n",
       "</div>"
      ],
      "text/plain": [
       "                        0                        1  \\\n",
       "0     (0.07616353, child)    (0.03819304, america)   \n",
       "1    (0.03717549, family)     (0.035835367, world)   \n",
       "2     (0.028260766, work)      (0.030244047, year)   \n",
       "3   (0.025314739, parent)  (0.025998933, american)   \n",
       "4      (0.023151498, job)    (0.024303798, nation)   \n",
       "5     (0.022226708, know)    (0.021659255, people)   \n",
       "6      (0.021293236, tax)   (0.017860785, tonight)   \n",
       "7  (0.019682452, million)     (0.017379686, state)   \n",
       "8   (0.018232374, people)   (0.014828597, country)   \n",
       "9    (0.017439561, right)   (0.013213176, freedom)   \n",
       "\n",
       "                               2                              3  \\\n",
       "0          (0.024330353, policy)             (0.041645534, new)   \n",
       "1          (0.023880599, energy)         (0.040873628, america)   \n",
       "2          (0.019464584, soviet)            (0.02679306, peace)   \n",
       "3          (0.017608682, nation)           (0.025792995, world)   \n",
       "4           (0.013469404, force)      (0.025002385, government)   \n",
       "5         (0.012951509, program)          (0.02167129, economy)   \n",
       "6        (0.012312631, national)         (0.018071348, century)   \n",
       "7           (0.012099611, major)          (0.016702743, nation)   \n",
       "8  (0.011640484, administration)       (0.014563746, community)   \n",
       "9             (0.011535951, new)  (0.014294162, responsibility)   \n",
       "\n",
       "                                4                       5  \\\n",
       "0          (0.03162559, congress)    (0.04599714, people)   \n",
       "1          (0.030943846, federal)  (0.03430715, american)   \n",
       "2        (0.02999214, government)     (0.026949314, work)   \n",
       "3           (0.02709165, program)     (0.020315956, year)   \n",
       "4           (0.023408428, social)      (0.018766822, let)   \n",
       "5           (0.020763319, reform)      (0.018147927, way)   \n",
       "6             (0.018204425, year)    (0.017314201, crime)   \n",
       "7          (0.01719419, security)     (0.013369702, drug)   \n",
       "8  (0.016697904, social_security)     (0.012857484, time)   \n",
       "9       (0.01589161, legislation)  (0.012758722, college)   \n",
       "\n",
       "                         6                         7  \\\n",
       "0      (0.053688128, year)     (0.058887314, school)   \n",
       "1    (0.039287157, budget)  (0.037220232, community)   \n",
       "2       (0.025542364, cut)        (0.028644903, new)   \n",
       "3       (0.023851575, tax)  (0.026468458, education)   \n",
       "4      (0.021784887, rate)       (0.019400798, year)   \n",
       "5    (0.01850364, deficit)       (0.018463697, help)   \n",
       "6    (0.018015588, growth)    (0.018237062, teacher)   \n",
       "7    (0.0171856, economic)   (0.016497415, national)   \n",
       "8   (0.016605586, percent)       (0.015411655, high)   \n",
       "9  (0.016369749, spending)    (0.014073875, student)   \n",
       "\n",
       "                            8                         9  \n",
       "0        (0.09828385, health)      (0.034869365, woman)  \n",
       "1         (0.059104513, care)         (0.02846766, let)  \n",
       "2     (0.050641775, american)      (0.027430907, thank)  \n",
       "3     (0.04316469, president)     (0.023037525, family)  \n",
       "4  (0.041692816, health_care)     (0.020878782, credit)  \n",
       "5        (0.03520802, fellow)  (0.01975919, tax_credit)  \n",
       "6       (0.034602337, member)         (0.0190401, year)  \n",
       "7     (0.03210087, insurance)       (0.017215528, term)  \n",
       "8     (0.029428132, medicare)        (0.0155392, great)  \n",
       "9           (0.0229043, vice)   (0.015483962, american)  "
      ]
     },
     "execution_count": 43,
     "metadata": {},
     "output_type": "execute_result"
    }
   ],
   "source": [
    "top_topics = Opt_model.top_topics(corpus)\n",
    "firstN = 10\n",
    "pd.DataFrame({i:[topic for topic in top_topics[i][0][:firstN]] for i in range(num_topics)})"
   ]
  },
  {
   "cell_type": "markdown",
   "metadata": {},
   "source": [
    "### Analysis\n",
    "\n",
    "Coefficients are much more accurate than previous results, but we stil have some repetitions even for high coefficients. Some of them are more clear, for example 7:education, 8:healt care, 6:budget/economy, 4:government, 0:child/parenting and so on."
   ]
  },
  {
   "cell_type": "markdown",
   "metadata": {},
   "source": [
    "<div class=\"alert alert-info\">\n",
    "    Please read the section ‘General information’ on the ‘Labs’ page of the course website before submitting this notebook!\n",
    "</div>"
   ]
  }
 ],
 "metadata": {
  "kernelspec": {
   "display_name": "Python 3",
   "language": "python",
   "name": "python3"
  },
  "language_info": {
   "codemirror_mode": {
    "name": "ipython",
    "version": 3
   },
   "file_extension": ".py",
   "mimetype": "text/x-python",
   "name": "python",
   "nbconvert_exporter": "python",
   "pygments_lexer": "ipython3",
   "version": "3.7.3"
  }
 },
 "nbformat": 4,
 "nbformat_minor": 4
}
