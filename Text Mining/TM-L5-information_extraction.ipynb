{
 "cells": [
  {
   "cell_type": "markdown",
   "metadata": {},
   "source": [
    "# L5: Information extraction"
   ]
  },
  {
   "cell_type": "markdown",
   "metadata": {},
   "source": [
    "Information extraction (IE) is the task of identifying named entities and semantic relations between these entities in text data. In this lab we will focus on two sub-tasks in IE, **named entity recognition** (identifying mentions of entities) and **entity linking** (matching these mentions to entities in a knowledge base)."
   ]
  },
  {
   "cell_type": "markdown",
   "metadata": {},
   "source": [
    "We start by loading spaCy:"
   ]
  },
  {
   "cell_type": "code",
   "execution_count": 1,
   "metadata": {},
   "outputs": [],
   "source": [
    "import spacy\n",
    "\n",
    "nlp = spacy.load(\"en_core_web_sm\")"
   ]
  },
  {
   "cell_type": "markdown",
   "metadata": {},
   "source": [
    "The data that we will be using has been tokenized following the conventions of the [Penn Treebank](ftp://ftp.cis.upenn.edu/pub/treebank/public_html/tokenization.html), and we need to prevent spaCy from using its own tokenizer on top of this. We therefore override spaCy&rsquo;s tokenizer with one that simply splits on space."
   ]
  },
  {
   "cell_type": "code",
   "execution_count": 2,
   "metadata": {},
   "outputs": [],
   "source": [
    "from spacy.tokens import Doc\n",
    "\n",
    "class WhitespaceTokenizer(object):\n",
    "    def __init__(self, vocab):\n",
    "        self.vocab = vocab\n",
    "\n",
    "    def __call__(self, text):\n",
    "        return Doc(self.vocab, words=text.split(\" \"))\n",
    "\n",
    "nlp.tokenizer = WhitespaceTokenizer(nlp.vocab)"
   ]
  },
  {
   "cell_type": "markdown",
   "metadata": {},
   "source": [
    "## Data set"
   ]
  },
  {
   "cell_type": "markdown",
   "metadata": {},
   "source": [
    "The main data set for this lab is a collection of news wire articles in which mentions of named entities have been annotated with page names from the [English Wikipedia](https://en.wikipedia.org/wiki/). The next code cell loads the training and the development parts of the data into Pandas data frames."
   ]
  },
  {
   "cell_type": "code",
   "execution_count": 3,
   "metadata": {},
   "outputs": [],
   "source": [
    "import bz2\n",
    "import csv\n",
    "import pandas as pd\n",
    "\n",
    "with bz2.open(\"ner-train.tsv.bz2\", 'rt') as source:\n",
    "    df_train = pd.read_csv(source, sep='\\t', quoting=csv.QUOTE_NONE)\n",
    "\n",
    "with bz2.open(\"ner-dev.tsv.bz2\", 'rt') as source:\n",
    "    df_dev = pd.read_csv(source, sep='\\t', quoting=csv.QUOTE_NONE)"
   ]
  },
  {
   "cell_type": "markdown",
   "metadata": {},
   "source": [
    "Each row in these two data frames corresponds to one mention of a named entity and has five columns:\n",
    "\n",
    "1. a unique identifier for the sentence containing the entity mention\n",
    "2. the pre-tokenized sentence, with tokens separated by spaces\n",
    "3. the start position of the token span containing the entity mention\n",
    "4. the end position of the token span (exclusive, as in Python list indexing)\n",
    "5. the entity label; either a Wikipedia page name or the generic label `--NME--`\n",
    "\n",
    "The following cell prints the first five samples from the training data:"
   ]
  },
  {
   "cell_type": "code",
   "execution_count": 4,
   "metadata": {},
   "outputs": [
    {
     "data": {
      "text/html": [
       "<div>\n",
       "<style scoped>\n",
       "    .dataframe tbody tr th:only-of-type {\n",
       "        vertical-align: middle;\n",
       "    }\n",
       "\n",
       "    .dataframe tbody tr th {\n",
       "        vertical-align: top;\n",
       "    }\n",
       "\n",
       "    .dataframe thead th {\n",
       "        text-align: right;\n",
       "    }\n",
       "</style>\n",
       "<table border=\"1\" class=\"dataframe\">\n",
       "  <thead>\n",
       "    <tr style=\"text-align: right;\">\n",
       "      <th></th>\n",
       "      <th>sentence_id</th>\n",
       "      <th>sentence</th>\n",
       "      <th>beg</th>\n",
       "      <th>end</th>\n",
       "      <th>label</th>\n",
       "    </tr>\n",
       "  </thead>\n",
       "  <tbody>\n",
       "    <tr>\n",
       "      <th>0</th>\n",
       "      <td>0000-000</td>\n",
       "      <td>EU rejects German call to boycott British lamb .</td>\n",
       "      <td>0</td>\n",
       "      <td>1</td>\n",
       "      <td>--NME--</td>\n",
       "    </tr>\n",
       "    <tr>\n",
       "      <th>1</th>\n",
       "      <td>0000-000</td>\n",
       "      <td>EU rejects German call to boycott British lamb .</td>\n",
       "      <td>2</td>\n",
       "      <td>3</td>\n",
       "      <td>Germany</td>\n",
       "    </tr>\n",
       "    <tr>\n",
       "      <th>2</th>\n",
       "      <td>0000-000</td>\n",
       "      <td>EU rejects German call to boycott British lamb .</td>\n",
       "      <td>6</td>\n",
       "      <td>7</td>\n",
       "      <td>United_Kingdom</td>\n",
       "    </tr>\n",
       "    <tr>\n",
       "      <th>3</th>\n",
       "      <td>0000-001</td>\n",
       "      <td>Peter Blackburn</td>\n",
       "      <td>0</td>\n",
       "      <td>2</td>\n",
       "      <td>--NME--</td>\n",
       "    </tr>\n",
       "    <tr>\n",
       "      <th>4</th>\n",
       "      <td>0000-002</td>\n",
       "      <td>BRUSSELS 1996-08-22</td>\n",
       "      <td>0</td>\n",
       "      <td>1</td>\n",
       "      <td>Brussels</td>\n",
       "    </tr>\n",
       "  </tbody>\n",
       "</table>\n",
       "</div>"
      ],
      "text/plain": [
       "  sentence_id                                          sentence  beg  end  \\\n",
       "0    0000-000  EU rejects German call to boycott British lamb .    0    1   \n",
       "1    0000-000  EU rejects German call to boycott British lamb .    2    3   \n",
       "2    0000-000  EU rejects German call to boycott British lamb .    6    7   \n",
       "3    0000-001                                   Peter Blackburn    0    2   \n",
       "4    0000-002                               BRUSSELS 1996-08-22    0    1   \n",
       "\n",
       "            label  \n",
       "0         --NME--  \n",
       "1         Germany  \n",
       "2  United_Kingdom  \n",
       "3         --NME--  \n",
       "4        Brussels  "
      ]
     },
     "execution_count": 4,
     "metadata": {},
     "output_type": "execute_result"
    }
   ],
   "source": [
    "df_train.head()"
   ]
  },
  {
   "cell_type": "markdown",
   "metadata": {},
   "source": [
    "In this sample, we see that the first sentence is annotated with three entity mentions:\n",
    "\n",
    "* the span 0–1 &lsquo;EU&rsquo; is annotated as a mention but only labelled with the generic `--NME--`\n",
    "* the span 2–3 &lsquo;German&rsquo; is annotated with the page [Germany](http://en.wikipedia.org/wiki/Germany)\n",
    "* the span 6–7 &lsquo;British&rsquo; is annotated with the page [United_Kingdom](http://en.wikipedia.org/wiki/United_Kingdom)"
   ]
  },
  {
   "cell_type": "markdown",
   "metadata": {},
   "source": [
    "## Problem 1: Evaluation measures"
   ]
  },
  {
   "cell_type": "markdown",
   "metadata": {},
   "source": [
    "To warm up, we ask you to write code to print the three measures that you will be using for evaluation:"
   ]
  },
  {
   "cell_type": "code",
   "execution_count": 5,
   "metadata": {},
   "outputs": [],
   "source": [
    "def evaluation_report(gold, pred):\n",
    "    \"\"\"Print precision, recall, and F1 score.\n",
    "    \n",
    "    Args:\n",
    "        gold: The set with the gold-standard values.\n",
    "        pred: The set with the predicted values.\n",
    "    \n",
    "    Returns:\n",
    "        Nothing, but prints the precision, recall, and F1 values computed\n",
    "        based on the specified sets.\n",
    "    \"\"\"\n",
    "    intersection = list(gold & pred)\n",
    "    \n",
    "    precision = len(intersection)/len(pred)\n",
    "    recall = len(intersection)/len(gold)\n",
    "    F1 = 2*(precision*recall)/(precision+recall)\n",
    "    #return {\"precision\": precision, \"recall\": recall, \"f1\": F1}\n",
    "    print(\"precision:\", precision, \"\\nrecall:   \", recall, \"\\nf1-score: \", F1)"
   ]
  },
  {
   "cell_type": "markdown",
   "metadata": {},
   "source": [
    "To test your code, you can run the following cell:"
   ]
  },
  {
   "cell_type": "code",
   "execution_count": 6,
   "metadata": {},
   "outputs": [
    {
     "name": "stdout",
     "output_type": "stream",
     "text": [
      "{0, 1, 2}\n",
      "{0, 1, 2, 3, 4}\n"
     ]
    }
   ],
   "source": [
    "print(set(range(3)))\n",
    "print(set(range(5)))"
   ]
  },
  {
   "cell_type": "code",
   "execution_count": 7,
   "metadata": {},
   "outputs": [
    {
     "name": "stdout",
     "output_type": "stream",
     "text": [
      "precision: 0.6 \n",
      "recall:    1.0 \n",
      "f1-score:  0.7499999999999999\n"
     ]
    }
   ],
   "source": [
    "evaluation_report(set(range(3)), set(range(5)))"
   ]
  },
  {
   "cell_type": "markdown",
   "metadata": {},
   "source": [
    "This should give you a precision of 60%, a recall of 100%, and an F1-value of 75%."
   ]
  },
  {
   "cell_type": "markdown",
   "metadata": {},
   "source": [
    "## Problem 2: Span recognition"
   ]
  },
  {
   "cell_type": "markdown",
   "metadata": {},
   "source": [
    "One of the first tasks that an information extraction system has to solve is to locate and classify (mentions of) named entities, such as persons and organizations. Here we will tackle the simpler task of recognizing **spans** of tokens that contain an entity mention, without the actual entity label.\n",
    "\n",
    "The English language model in spaCy features a full-fledged [named entity recognizer](https://spacy.io/usage/linguistic-features#named-entities) that identifies a variety of entities, and can be updated with new entity types by the user. Your task in this problem is to evaluate the performance of this component when predicting entity spans in the development data.\n",
    "\n",
    "Start by implementing a generator function that yields the gold-standard spans in a given data frame.\n",
    "\n",
    "**Hint:** The Pandas method [`itertuples()`](https://pandas.pydata.org/pandas-docs/version/0.17.0/generated/pandas.DataFrame.itertuples.html) is useful when iterating over the rows in a DataFrame."
   ]
  },
  {
   "cell_type": "code",
   "execution_count": 8,
   "metadata": {},
   "outputs": [],
   "source": [
    "def gold_spans(df):\n",
    "    \"\"\"Yield the gold-standard mention spans in a data frame.\n",
    "\n",
    "    Args:\n",
    "        df: A data frame.\n",
    "\n",
    "    Yields:\n",
    "        The gold-standard mention spans in the specified data frame as\n",
    "        triples consisting of the sentence id, start position, and end\n",
    "        position of each span.\n",
    "    \"\"\"\n",
    "    for row in df.iloc[:,[0,2,3]].itertuples(index=False, name=None):\n",
    "        yield row"
   ]
  },
  {
   "cell_type": "markdown",
   "metadata": {},
   "source": [
    "To test your code, you can count the spans yielded by your function. When called on the development data, you should get a total of 5,917 unique triples. The first triple and the last triple should be\n",
    "\n",
    "    ('0946-000', 2, 3)\n",
    "    ('1161-010', 1, 3)  "
   ]
  },
  {
   "cell_type": "code",
   "execution_count": 9,
   "metadata": {},
   "outputs": [
    {
     "name": "stdout",
     "output_type": "stream",
     "text": [
      "5917\n"
     ]
    }
   ],
   "source": [
    "gen = list(gold_spans(df_dev))\n",
    "spans_dev_gold = set(gen)\n",
    "print(len(spans_dev_gold))"
   ]
  },
  {
   "cell_type": "code",
   "execution_count": 10,
   "metadata": {},
   "outputs": [
    {
     "name": "stdout",
     "output_type": "stream",
     "text": [
      "The first triple is ('0946-000', 2, 3) \n",
      "The last triple is ('1161-010', 1, 3)\n"
     ]
    }
   ],
   "source": [
    "print(\"The first triple is\",gen[0],\"\\nThe last triple is\",gen[-1])"
   ]
  },
  {
   "cell_type": "markdown",
   "metadata": {},
   "source": [
    "Your next task is to write code that calls spaCy to predict the named entities in the development data, and to evaluate the accuracy of these predictions in terms of precision, recall, and F1. Print these scores using the function that you wrote for Problem&nbsp;1."
   ]
  },
  {
   "cell_type": "code",
   "execution_count": 11,
   "metadata": {},
   "outputs": [],
   "source": [
    "def spacyEntities(df):\n",
    "    res=[]\n",
    "    for row in df.iloc[:, [0,1]].drop_duplicates().itertuples(index=False):\n",
    "        doc = nlp(row[1])\n",
    "        for ent in doc.ents:\n",
    "            res.append((row[0], ent.start, ent.end))\n",
    "    return(res)"
   ]
  },
  {
   "cell_type": "code",
   "execution_count": 12,
   "metadata": {
    "jupyter": {
     "source_hidden": true
    }
   },
   "outputs": [],
   "source": [
    "entities = spacyEntities(df_dev)"
   ]
  },
  {
   "cell_type": "code",
   "execution_count": 13,
   "metadata": {},
   "outputs": [
    {
     "name": "stdout",
     "output_type": "stream",
     "text": [
      "precision: 0.5153023140084598 \n",
      "recall:    0.7000169004563124 \n",
      "f1-score:  0.5936223575779291\n"
     ]
    }
   ],
   "source": [
    "evaluation_report(set(gold_spans(df_dev)),set(entities))"
   ]
  },
  {
   "cell_type": "markdown",
   "metadata": {},
   "source": [
    "## Problem 3: Error analysis"
   ]
  },
  {
   "cell_type": "markdown",
   "metadata": {},
   "source": [
    "As you were able to see in Problem&nbsp;2, the span accuracy of the named entity recognizer is far from perfect. In particular, only slightly more than half of the predicted spans are correct according to the gold standard. Your next task is to analyse this result in more detail.\n",
    "\n",
    "Write code that prints the false positives and the false negatives from the automatic prediction. Have a look at the output. What are your observations? How could you improve the result? Discuss these questions in a short text."
   ]
  },
  {
   "cell_type": "code",
   "execution_count": 14,
   "metadata": {},
   "outputs": [],
   "source": [
    "FN = list(set(gold_spans(df_dev)) - set(entities))\n",
    "FP = list(set(entities) - set(gold_spans(df_dev)))"
   ]
  },
  {
   "cell_type": "code",
   "execution_count": 15,
   "metadata": {},
   "outputs": [
    {
     "name": "stdout",
     "output_type": "stream",
     "text": [
      "FN count: 1775\n",
      "Fp count: 3896\n"
     ]
    }
   ],
   "source": [
    "print(\"FN count:\", len(FN))\n",
    "print(\"Fp count:\", len(FP))"
   ]
  },
  {
   "cell_type": "code",
   "execution_count": 16,
   "metadata": {},
   "outputs": [
    {
     "name": "stdout",
     "output_type": "stream",
     "text": [
      "CPU times: user 1min 6s, sys: 328 ms, total: 1min 7s\n",
      "Wall time: 1min 7s\n"
     ]
    }
   ],
   "source": [
    "%%time\n",
    "def get_entity_labels(entities, df):\n",
    "    res = []\n",
    "    for s_id, start, end in entities:\n",
    "        entity_ = \" \".join(df.loc[df_dev.sentence_id==s_id, \"sentence\"].values[0].split()[start:end])\n",
    "        ents = nlp(entity_).ents\n",
    "        entity = ents[0].label_ if len(ents)!=0 else \"None\"\n",
    "        res.append(entity)\n",
    "    return(res)\n",
    "        \n",
    "FP_entity_labels = get_entity_labels(FP, df_dev)\n",
    "FN_entity_labels = get_entity_labels(FN, df_dev)\n",
    "gold_labels = get_entity_labels(gold_spans(df_dev), df_dev)"
   ]
  },
  {
   "cell_type": "code",
   "execution_count": 17,
   "metadata": {},
   "outputs": [
    {
     "name": "stdout",
     "output_type": "stream",
     "text": [
      "FP label counts:\n",
      "CARDINAL       1923\n",
      "DATE            781\n",
      "ORG             226\n",
      "ORDINAL         219\n",
      "None            209\n",
      "PERSON          134\n",
      "GPE              88\n",
      "TIME             82\n",
      "QUANTITY         55\n",
      "MONEY            53\n",
      "PERCENT          46\n",
      "NORP             35\n",
      "EVENT            25\n",
      "LAW              11\n",
      "LOC               4\n",
      "WORK_OF_ART       2\n",
      "FAC               2\n",
      "PRODUCT           1\n",
      "Name: label, dtype: int64\n",
      "\n",
      "FN label counts:\n",
      "None        1015\n",
      "PERSON       281\n",
      "ORG          245\n",
      "GPE          158\n",
      "NORP          38\n",
      "DATE          12\n",
      "EVENT         11\n",
      "CARDINAL       8\n",
      "PRODUCT        2\n",
      "ORDINAL        2\n",
      "LOC            2\n",
      "FAC            1\n",
      "Name: label, dtype: int64\n",
      "\n",
      "Golden label counts:\n",
      "None        1899\n",
      "GPE         1445\n",
      "PERSON      1257\n",
      "ORG          736\n",
      "NORP         490\n",
      "EVENT         28\n",
      "DATE          17\n",
      "ORDINAL       16\n",
      "CARDINAL      16\n",
      "LOC            6\n",
      "FAC            5\n",
      "PRODUCT        2\n",
      "Name: label, dtype: int64\n"
     ]
    }
   ],
   "source": [
    "print(\"FP label counts:\")\n",
    "print(pd.DataFrame({\"label\": FP_entity_labels}).label.value_counts())\n",
    "print(\"\\nFN label counts:\")\n",
    "print(pd.DataFrame({\"label\": FN_entity_labels}).label.value_counts())\n",
    "print(\"\\nGolden label counts:\")\n",
    "print(pd.DataFrame({\"label\": gold_labels}).label.value_counts())"
   ]
  },
  {
   "cell_type": "markdown",
   "metadata": {},
   "source": [
    "**Analysis:**\n",
    "\n",
    "We can see that most of the labels in golden entities, we have some outliers from `EVENT` to end of list. Also, we can see these outliers in our FN and FP labels as a big proportion. So if we can filter those outlier labels in the prediction phase, we can achieve a better F1 score by removing the major cause of having False Positive and False Negative errors.  \n",
    "\n",
    "We will filter out the predictions for the labels `[\"CARDINAL\", \"DATE\", \"ORDINAL\", \"TIME\", \"QUANTITY\", \"MONEY\", \"PERCENT\"]`\n",
    "\n",
    "We selected the labels by checking the majority labels in FN and FP if they are minority in the Golden labels."
   ]
  },
  {
   "cell_type": "markdown",
   "metadata": {},
   "source": [
    "Now, use the insights from your error analysis to improve the automated prediction that you implemented in Problem&nbsp;2. While the best way to do this would be to [update spaCy&rsquo;s NER model](https://spacy.io/usage/linguistic-features#updating) using domain-specific training data, for this lab it suffices to write code to pre-process the data and/or post-process the output produced by spaCy. You should be able to improve the F1 score from Problem&nbsp;2 by at last 15 percentage points."
   ]
  },
  {
   "cell_type": "code",
   "execution_count": 18,
   "metadata": {},
   "outputs": [],
   "source": [
    "def spacyEntities(df, filter_labels = []):\n",
    "    res=[]\n",
    "    for row in df.iloc[:, [0,1]].drop_duplicates().itertuples(index=False):\n",
    "        doc = nlp(row[1])\n",
    "        for ent in doc.ents:\n",
    "            if not ent.label_ in filter_labels:\n",
    "                res.append((row[0], ent.start, ent.end))\n",
    "    return(res)"
   ]
  },
  {
   "cell_type": "code",
   "execution_count": 19,
   "metadata": {},
   "outputs": [
    {
     "name": "stdout",
     "output_type": "stream",
     "text": [
      "CPU times: user 16.1 s, sys: 99.8 ms, total: 16.2 s\n",
      "Wall time: 16.3 s\n"
     ]
    }
   ],
   "source": [
    "%%time\n",
    "filter_labels = [\"CARDINAL\", \"DATE\", \"ORDINAL\", \"TIME\", \"QUANTITY\", \"MONEY\", \"PERCENT\"]\n",
    "entities = spacyEntities(df_dev, filter_labels)"
   ]
  },
  {
   "cell_type": "code",
   "execution_count": 20,
   "metadata": {},
   "outputs": [
    {
     "name": "stdout",
     "output_type": "stream",
     "text": [
      "precision: 0.86005406529424 \n",
      "recall:    0.6990028730775731 \n",
      "f1-score:  0.7712101435763565\n"
     ]
    }
   ],
   "source": [
    "evaluation_report(set(gold_spans(df_dev)),set(entities))"
   ]
  },
  {
   "cell_type": "markdown",
   "metadata": {},
   "source": [
    "Show that you achieve the performance goal by reporting the evaluation measures that you implemented in Problem&nbsp;1."
   ]
  },
  {
   "cell_type": "markdown",
   "metadata": {},
   "source": [
    "Before going on, we ask you to store the outputs of the improved named entity recognizer on the development data in a new data frame. This new frame should have the same layout as the original data frame for the development data that you loaded above, but should contain the predicted start and end positions for each token span. As the `label` of each span, you can use the special value `--NME--`."
   ]
  },
  {
   "cell_type": "code",
   "execution_count": 21,
   "metadata": {},
   "outputs": [
    {
     "data": {
      "text/html": [
       "<div>\n",
       "<style scoped>\n",
       "    .dataframe tbody tr th:only-of-type {\n",
       "        vertical-align: middle;\n",
       "    }\n",
       "\n",
       "    .dataframe tbody tr th {\n",
       "        vertical-align: top;\n",
       "    }\n",
       "\n",
       "    .dataframe thead th {\n",
       "        text-align: right;\n",
       "    }\n",
       "</style>\n",
       "<table border=\"1\" class=\"dataframe\">\n",
       "  <thead>\n",
       "    <tr style=\"text-align: right;\">\n",
       "      <th></th>\n",
       "      <th>sentence_id</th>\n",
       "      <th>sentence</th>\n",
       "      <th>beg</th>\n",
       "      <th>end</th>\n",
       "      <th>label</th>\n",
       "    </tr>\n",
       "  </thead>\n",
       "  <tbody>\n",
       "    <tr>\n",
       "      <th>0</th>\n",
       "      <td>0946-000</td>\n",
       "      <td>CRICKET - LEICESTERSHIRE TAKE OVER AT TOP AFTE...</td>\n",
       "      <td>2</td>\n",
       "      <td>3</td>\n",
       "      <td>Leicestershire_County_Cricket_Club</td>\n",
       "    </tr>\n",
       "    <tr>\n",
       "      <th>1</th>\n",
       "      <td>0946-001</td>\n",
       "      <td>LONDON 1996-08-30</td>\n",
       "      <td>0</td>\n",
       "      <td>1</td>\n",
       "      <td>London</td>\n",
       "    </tr>\n",
       "    <tr>\n",
       "      <th>2</th>\n",
       "      <td>0946-002</td>\n",
       "      <td>West Indian all-rounder Phil Simmons took four...</td>\n",
       "      <td>0</td>\n",
       "      <td>2</td>\n",
       "      <td>West_Indies_cricket_team</td>\n",
       "    </tr>\n",
       "    <tr>\n",
       "      <th>3</th>\n",
       "      <td>0946-002</td>\n",
       "      <td>West Indian all-rounder Phil Simmons took four...</td>\n",
       "      <td>3</td>\n",
       "      <td>5</td>\n",
       "      <td>Phil_Simmons</td>\n",
       "    </tr>\n",
       "    <tr>\n",
       "      <th>4</th>\n",
       "      <td>0946-002</td>\n",
       "      <td>West Indian all-rounder Phil Simmons took four...</td>\n",
       "      <td>12</td>\n",
       "      <td>13</td>\n",
       "      <td>Leicestershire_County_Cricket_Club</td>\n",
       "    </tr>\n",
       "  </tbody>\n",
       "</table>\n",
       "</div>"
      ],
      "text/plain": [
       "  sentence_id                                           sentence  beg  end  \\\n",
       "0    0946-000  CRICKET - LEICESTERSHIRE TAKE OVER AT TOP AFTE...    2    3   \n",
       "1    0946-001                                  LONDON 1996-08-30    0    1   \n",
       "2    0946-002  West Indian all-rounder Phil Simmons took four...    0    2   \n",
       "3    0946-002  West Indian all-rounder Phil Simmons took four...    3    5   \n",
       "4    0946-002  West Indian all-rounder Phil Simmons took four...   12   13   \n",
       "\n",
       "                                label  \n",
       "0  Leicestershire_County_Cricket_Club  \n",
       "1                              London  \n",
       "2            West_Indies_cricket_team  \n",
       "3                        Phil_Simmons  \n",
       "4  Leicestershire_County_Cricket_Club  "
      ]
     },
     "execution_count": 21,
     "metadata": {},
     "output_type": "execute_result"
    }
   ],
   "source": [
    "df_dev.head()"
   ]
  },
  {
   "cell_type": "code",
   "execution_count": 22,
   "metadata": {},
   "outputs": [
    {
     "name": "stdout",
     "output_type": "stream",
     "text": [
      "CPU times: user 4.08 s, sys: 16 ms, total: 4.1 s\n",
      "Wall time: 4.12 s\n"
     ]
    },
    {
     "data": {
      "text/html": [
       "<div>\n",
       "<style scoped>\n",
       "    .dataframe tbody tr th:only-of-type {\n",
       "        vertical-align: middle;\n",
       "    }\n",
       "\n",
       "    .dataframe tbody tr th {\n",
       "        vertical-align: top;\n",
       "    }\n",
       "\n",
       "    .dataframe thead th {\n",
       "        text-align: right;\n",
       "    }\n",
       "</style>\n",
       "<table border=\"1\" class=\"dataframe\">\n",
       "  <thead>\n",
       "    <tr style=\"text-align: right;\">\n",
       "      <th></th>\n",
       "      <th>sentence_id</th>\n",
       "      <th>sentence</th>\n",
       "      <th>beg</th>\n",
       "      <th>end</th>\n",
       "      <th>label</th>\n",
       "    </tr>\n",
       "  </thead>\n",
       "  <tbody>\n",
       "    <tr>\n",
       "      <th>0</th>\n",
       "      <td>0946-000</td>\n",
       "      <td>CRICKET - LEICESTERSHIRE TAKE OVER AT TOP AFTE...</td>\n",
       "      <td>0</td>\n",
       "      <td>3</td>\n",
       "      <td>--NME--</td>\n",
       "    </tr>\n",
       "    <tr>\n",
       "      <th>1</th>\n",
       "      <td>0946-001</td>\n",
       "      <td>LONDON 1996-08-30</td>\n",
       "      <td>0</td>\n",
       "      <td>1</td>\n",
       "      <td>--NME--</td>\n",
       "    </tr>\n",
       "    <tr>\n",
       "      <th>2</th>\n",
       "      <td>0946-002</td>\n",
       "      <td>West Indian all-rounder Phil Simmons took four...</td>\n",
       "      <td>0</td>\n",
       "      <td>2</td>\n",
       "      <td>--NME--</td>\n",
       "    </tr>\n",
       "    <tr>\n",
       "      <th>3</th>\n",
       "      <td>0946-002</td>\n",
       "      <td>West Indian all-rounder Phil Simmons took four...</td>\n",
       "      <td>3</td>\n",
       "      <td>5</td>\n",
       "      <td>--NME--</td>\n",
       "    </tr>\n",
       "    <tr>\n",
       "      <th>4</th>\n",
       "      <td>0946-002</td>\n",
       "      <td>West Indian all-rounder Phil Simmons took four...</td>\n",
       "      <td>12</td>\n",
       "      <td>13</td>\n",
       "      <td>--NME--</td>\n",
       "    </tr>\n",
       "    <tr>\n",
       "      <th>...</th>\n",
       "      <td>...</td>\n",
       "      <td>...</td>\n",
       "      <td>...</td>\n",
       "      <td>...</td>\n",
       "      <td>...</td>\n",
       "    </tr>\n",
       "    <tr>\n",
       "      <th>4804</th>\n",
       "      <td>1161-007</td>\n",
       "      <td>Brokers said blue chips like IDLC , Bangladesh...</td>\n",
       "      <td>7</td>\n",
       "      <td>9</td>\n",
       "      <td>--NME--</td>\n",
       "    </tr>\n",
       "    <tr>\n",
       "      <th>4805</th>\n",
       "      <td>1161-007</td>\n",
       "      <td>Brokers said blue chips like IDLC , Bangladesh...</td>\n",
       "      <td>10</td>\n",
       "      <td>12</td>\n",
       "      <td>--NME--</td>\n",
       "    </tr>\n",
       "    <tr>\n",
       "      <th>4806</th>\n",
       "      <td>1161-007</td>\n",
       "      <td>Brokers said blue chips like IDLC , Bangladesh...</td>\n",
       "      <td>13</td>\n",
       "      <td>15</td>\n",
       "      <td>--NME--</td>\n",
       "    </tr>\n",
       "    <tr>\n",
       "      <th>4807</th>\n",
       "      <td>1161-009</td>\n",
       "      <td>The DSE all share price index closed 2.73 poin...</td>\n",
       "      <td>1</td>\n",
       "      <td>2</td>\n",
       "      <td>--NME--</td>\n",
       "    </tr>\n",
       "    <tr>\n",
       "      <th>4808</th>\n",
       "      <td>1161-010</td>\n",
       "      <td>-- Dhaka Newsroom 880-2-506363</td>\n",
       "      <td>0</td>\n",
       "      <td>4</td>\n",
       "      <td>--NME--</td>\n",
       "    </tr>\n",
       "  </tbody>\n",
       "</table>\n",
       "<p>4809 rows × 5 columns</p>\n",
       "</div>"
      ],
      "text/plain": [
       "     sentence_id                                           sentence  beg  end  \\\n",
       "0       0946-000  CRICKET - LEICESTERSHIRE TAKE OVER AT TOP AFTE...    0    3   \n",
       "1       0946-001                                  LONDON 1996-08-30    0    1   \n",
       "2       0946-002  West Indian all-rounder Phil Simmons took four...    0    2   \n",
       "3       0946-002  West Indian all-rounder Phil Simmons took four...    3    5   \n",
       "4       0946-002  West Indian all-rounder Phil Simmons took four...   12   13   \n",
       "...          ...                                                ...  ...  ...   \n",
       "4804    1161-007  Brokers said blue chips like IDLC , Bangladesh...    7    9   \n",
       "4805    1161-007  Brokers said blue chips like IDLC , Bangladesh...   10   12   \n",
       "4806    1161-007  Brokers said blue chips like IDLC , Bangladesh...   13   15   \n",
       "4807    1161-009  The DSE all share price index closed 2.73 poin...    1    2   \n",
       "4808    1161-010                     -- Dhaka Newsroom 880-2-506363    0    4   \n",
       "\n",
       "        label  \n",
       "0     --NME--  \n",
       "1     --NME--  \n",
       "2     --NME--  \n",
       "3     --NME--  \n",
       "4     --NME--  \n",
       "...       ...  \n",
       "4804  --NME--  \n",
       "4805  --NME--  \n",
       "4806  --NME--  \n",
       "4807  --NME--  \n",
       "4808  --NME--  \n",
       "\n",
       "[4809 rows x 5 columns]"
      ]
     },
     "execution_count": 22,
     "metadata": {},
     "output_type": "execute_result"
    }
   ],
   "source": [
    "%%time\n",
    "df_entities = pd.DataFrame(entities, columns=[\"sentence_id\", \"beg\", \"end\"])\n",
    "df_entities[\"sentence\"] = df_entities.sentence_id.apply(lambda x: df_dev.loc[df_dev.sentence_id==x].sentence.values[0])\n",
    "df_entities[\"label\"] = [\"--NME--\"]* df_entities.shape[0]\n",
    "df_entities = df_entities.loc[:, [\"sentence_id\", \"sentence\", \"beg\", \"end\", \"label\"]]\n",
    "df_entities"
   ]
  },
  {
   "cell_type": "markdown",
   "metadata": {},
   "source": [
    "## Problem 4: Entity linking"
   ]
  },
  {
   "cell_type": "markdown",
   "metadata": {},
   "source": [
    "Now that we have a method for predicting mention spans, we turn to the task of **entity linking**, which amounts to predicting the knowledge base entity that is referenced by a given mention. In our case, for each span we want to predict the Wikipedia page that this mention references.\n",
    "\n",
    "Start by extending the generator function that you implemented in Problem&nbsp;2 to labelled spans."
   ]
  },
  {
   "cell_type": "code",
   "execution_count": 23,
   "metadata": {},
   "outputs": [],
   "source": [
    "def gold_mentions(df):\n",
    "    \"\"\"Yield the gold-standard mentions in a data frame.\n",
    "\n",
    "    Args:\n",
    "        df: A data frame.\n",
    "\n",
    "    Yields:\n",
    "        The gold-standard mention spans in the specified data frame as\n",
    "        quadruples consisting of the sentence id, start position, end\n",
    "        position and entity label of each span.\n",
    "    \"\"\"\n",
    "    for row in df.itertuples():\n",
    "        yield (row[1], row[3], row[4], row[5])"
   ]
  },
  {
   "cell_type": "markdown",
   "metadata": {},
   "source": [
    "A naive baseline for entity linking on our data set is to link each mention span to the Wikipedia page name that we get when we join the tokens in the span by underscores, as is standard in Wikipedia page names. Suppose, for example, that a span contains the two tokens\n",
    "\n",
    "    Jimi Hendrix\n",
    "\n",
    "The baseline Wikipedia page name for this span would be\n",
    "\n",
    "    Jimi_Hendrix\n",
    "\n",
    "Implement this naive baseline and evaluate its performance. Print the evaluation measures that you implemented in Problem&nbsp;1."
   ]
  },
  {
   "cell_type": "markdown",
   "metadata": {},
   "source": [
    "<div class=\"alert alert-warning\">\n",
    "    Here and in the remainder of this lab, you should base your entity predictions on the predicted spans that you computed in Problem&nbsp;3.\n",
    "</div>"
   ]
  },
  {
   "cell_type": "code",
   "execution_count": 24,
   "metadata": {},
   "outputs": [
    {
     "data": {
      "text/html": [
       "<div>\n",
       "<style scoped>\n",
       "    .dataframe tbody tr th:only-of-type {\n",
       "        vertical-align: middle;\n",
       "    }\n",
       "\n",
       "    .dataframe tbody tr th {\n",
       "        vertical-align: top;\n",
       "    }\n",
       "\n",
       "    .dataframe thead th {\n",
       "        text-align: right;\n",
       "    }\n",
       "</style>\n",
       "<table border=\"1\" class=\"dataframe\">\n",
       "  <thead>\n",
       "    <tr style=\"text-align: right;\">\n",
       "      <th></th>\n",
       "      <th>sentence_id</th>\n",
       "      <th>sentence</th>\n",
       "      <th>beg</th>\n",
       "      <th>end</th>\n",
       "      <th>label</th>\n",
       "    </tr>\n",
       "  </thead>\n",
       "  <tbody>\n",
       "    <tr>\n",
       "      <th>0</th>\n",
       "      <td>0946-000</td>\n",
       "      <td>CRICKET - LEICESTERSHIRE TAKE OVER AT TOP AFTE...</td>\n",
       "      <td>0</td>\n",
       "      <td>3</td>\n",
       "      <td>CRICKET_-_LEICESTERSHIRE</td>\n",
       "    </tr>\n",
       "    <tr>\n",
       "      <th>1</th>\n",
       "      <td>0946-001</td>\n",
       "      <td>LONDON 1996-08-30</td>\n",
       "      <td>0</td>\n",
       "      <td>1</td>\n",
       "      <td>LONDON</td>\n",
       "    </tr>\n",
       "    <tr>\n",
       "      <th>2</th>\n",
       "      <td>0946-002</td>\n",
       "      <td>West Indian all-rounder Phil Simmons took four...</td>\n",
       "      <td>0</td>\n",
       "      <td>2</td>\n",
       "      <td>West_Indian</td>\n",
       "    </tr>\n",
       "    <tr>\n",
       "      <th>3</th>\n",
       "      <td>0946-002</td>\n",
       "      <td>West Indian all-rounder Phil Simmons took four...</td>\n",
       "      <td>3</td>\n",
       "      <td>5</td>\n",
       "      <td>Phil_Simmons</td>\n",
       "    </tr>\n",
       "    <tr>\n",
       "      <th>4</th>\n",
       "      <td>0946-002</td>\n",
       "      <td>West Indian all-rounder Phil Simmons took four...</td>\n",
       "      <td>12</td>\n",
       "      <td>13</td>\n",
       "      <td>Leicestershire</td>\n",
       "    </tr>\n",
       "    <tr>\n",
       "      <th>...</th>\n",
       "      <td>...</td>\n",
       "      <td>...</td>\n",
       "      <td>...</td>\n",
       "      <td>...</td>\n",
       "      <td>...</td>\n",
       "    </tr>\n",
       "    <tr>\n",
       "      <th>4804</th>\n",
       "      <td>1161-007</td>\n",
       "      <td>Brokers said blue chips like IDLC , Bangladesh...</td>\n",
       "      <td>7</td>\n",
       "      <td>9</td>\n",
       "      <td>Bangladesh_Lamps</td>\n",
       "    </tr>\n",
       "    <tr>\n",
       "      <th>4805</th>\n",
       "      <td>1161-007</td>\n",
       "      <td>Brokers said blue chips like IDLC , Bangladesh...</td>\n",
       "      <td>10</td>\n",
       "      <td>12</td>\n",
       "      <td>Chittagong_Cement</td>\n",
       "    </tr>\n",
       "    <tr>\n",
       "      <th>4806</th>\n",
       "      <td>1161-007</td>\n",
       "      <td>Brokers said blue chips like IDLC , Bangladesh...</td>\n",
       "      <td>13</td>\n",
       "      <td>15</td>\n",
       "      <td>Atlas_Bangladesh</td>\n",
       "    </tr>\n",
       "    <tr>\n",
       "      <th>4807</th>\n",
       "      <td>1161-009</td>\n",
       "      <td>The DSE all share price index closed 2.73 poin...</td>\n",
       "      <td>1</td>\n",
       "      <td>2</td>\n",
       "      <td>DSE</td>\n",
       "    </tr>\n",
       "    <tr>\n",
       "      <th>4808</th>\n",
       "      <td>1161-010</td>\n",
       "      <td>-- Dhaka Newsroom 880-2-506363</td>\n",
       "      <td>0</td>\n",
       "      <td>4</td>\n",
       "      <td>--_Dhaka_Newsroom_880-2-506363</td>\n",
       "    </tr>\n",
       "  </tbody>\n",
       "</table>\n",
       "<p>4809 rows × 5 columns</p>\n",
       "</div>"
      ],
      "text/plain": [
       "     sentence_id                                           sentence  beg  end  \\\n",
       "0       0946-000  CRICKET - LEICESTERSHIRE TAKE OVER AT TOP AFTE...    0    3   \n",
       "1       0946-001                                  LONDON 1996-08-30    0    1   \n",
       "2       0946-002  West Indian all-rounder Phil Simmons took four...    0    2   \n",
       "3       0946-002  West Indian all-rounder Phil Simmons took four...    3    5   \n",
       "4       0946-002  West Indian all-rounder Phil Simmons took four...   12   13   \n",
       "...          ...                                                ...  ...  ...   \n",
       "4804    1161-007  Brokers said blue chips like IDLC , Bangladesh...    7    9   \n",
       "4805    1161-007  Brokers said blue chips like IDLC , Bangladesh...   10   12   \n",
       "4806    1161-007  Brokers said blue chips like IDLC , Bangladesh...   13   15   \n",
       "4807    1161-009  The DSE all share price index closed 2.73 poin...    1    2   \n",
       "4808    1161-010                     -- Dhaka Newsroom 880-2-506363    0    4   \n",
       "\n",
       "                               label  \n",
       "0           CRICKET_-_LEICESTERSHIRE  \n",
       "1                             LONDON  \n",
       "2                        West_Indian  \n",
       "3                       Phil_Simmons  \n",
       "4                     Leicestershire  \n",
       "...                              ...  \n",
       "4804                Bangladesh_Lamps  \n",
       "4805               Chittagong_Cement  \n",
       "4806                Atlas_Bangladesh  \n",
       "4807                             DSE  \n",
       "4808  --_Dhaka_Newsroom_880-2-506363  \n",
       "\n",
       "[4809 rows x 5 columns]"
      ]
     },
     "execution_count": 24,
     "metadata": {},
     "output_type": "execute_result"
    }
   ],
   "source": [
    "def naive_baseline(df):\n",
    "    df.label = df.apply(lambda row: \"_\".join(row.sentence.split()[row.beg:row.end]), axis=1)\n",
    "    return(df)\n",
    "\n",
    "df_naive = naive_baseline(df_entities)\n",
    "df_naive"
   ]
  },
  {
   "cell_type": "code",
   "execution_count": 25,
   "metadata": {},
   "outputs": [
    {
     "name": "stdout",
     "output_type": "stream",
     "text": [
      "precision: 0.3160740278644209 \n",
      "recall:    0.2568869359472706 \n",
      "f1-score:  0.28342345702032445\n"
     ]
    }
   ],
   "source": [
    "evaluation_report(set(gold_mentions(df_dev)), set(gold_mentions(df_naive)))"
   ]
  },
  {
   "cell_type": "markdown",
   "metadata": {},
   "source": [
    "## Problem 5: Extending the training data using the knowledge base"
   ]
  },
  {
   "cell_type": "markdown",
   "metadata": {},
   "source": [
    "State-of-the-art approaches to entity linking exploit information in knowledge bases. In our case, where Wikipedia is the knowledge base, one particularly useful type of information are links to other Wikipedia pages. In particular, we can interpret the anchor texts (the highlighted texts that you click on when you click on a link) as mentions of the entities (pages) that they link to. This allows us to harvest long lists over mention–entity pairings.\n",
    "\n",
    "The following cell loads a data frame summarizing anchor texts and page references harvested from the first paragraphs of the English Wikipedia. The data frame also contains all entity mentions in the training data (but not the development or the test data)."
   ]
  },
  {
   "cell_type": "code",
   "execution_count": 26,
   "metadata": {},
   "outputs": [],
   "source": [
    "with bz2.open(\"kb.tsv.bz2\", 'rt') as source:\n",
    "    df_kb = pd.read_csv(source, sep='\\t', quoting=csv.QUOTE_NONE)"
   ]
  },
  {
   "cell_type": "markdown",
   "metadata": {},
   "source": [
    "To understand what information is available in this data, the following cell shows the entry for the anchor text `Sweden`."
   ]
  },
  {
   "cell_type": "code",
   "execution_count": 27,
   "metadata": {},
   "outputs": [
    {
     "data": {
      "text/html": [
       "<div>\n",
       "<style scoped>\n",
       "    .dataframe tbody tr th:only-of-type {\n",
       "        vertical-align: middle;\n",
       "    }\n",
       "\n",
       "    .dataframe tbody tr th {\n",
       "        vertical-align: top;\n",
       "    }\n",
       "\n",
       "    .dataframe thead th {\n",
       "        text-align: right;\n",
       "    }\n",
       "</style>\n",
       "<table border=\"1\" class=\"dataframe\">\n",
       "  <thead>\n",
       "    <tr style=\"text-align: right;\">\n",
       "      <th></th>\n",
       "      <th>mention</th>\n",
       "      <th>entity</th>\n",
       "      <th>prob</th>\n",
       "    </tr>\n",
       "  </thead>\n",
       "  <tbody>\n",
       "    <tr>\n",
       "      <th>17436</th>\n",
       "      <td>Sweden</td>\n",
       "      <td>Sweden</td>\n",
       "      <td>0.985768</td>\n",
       "    </tr>\n",
       "    <tr>\n",
       "      <th>17437</th>\n",
       "      <td>Sweden</td>\n",
       "      <td>Sweden_national_football_team</td>\n",
       "      <td>0.014173</td>\n",
       "    </tr>\n",
       "    <tr>\n",
       "      <th>17438</th>\n",
       "      <td>Sweden</td>\n",
       "      <td>Sweden_men's_national_ice_hockey_team</td>\n",
       "      <td>0.000059</td>\n",
       "    </tr>\n",
       "  </tbody>\n",
       "</table>\n",
       "</div>"
      ],
      "text/plain": [
       "      mention                                 entity      prob\n",
       "17436  Sweden                                 Sweden  0.985768\n",
       "17437  Sweden          Sweden_national_football_team  0.014173\n",
       "17438  Sweden  Sweden_men's_national_ice_hockey_team  0.000059"
      ]
     },
     "execution_count": 27,
     "metadata": {},
     "output_type": "execute_result"
    }
   ],
   "source": [
    "df_kb.loc[df_kb[\"mention\"] == \"Sweden\"]"
   ]
  },
  {
   "cell_type": "markdown",
   "metadata": {},
   "source": [
    "As you can see, each row of the data frame contains a pair $(m, e)$ of a mention $m$ and an entity $e$, as well as the conditional probability $P(e|m)$ for mention $m$ referring to entity $e$. These probabilities were estimated based on the frequencies of mention–entity pairs in the knowledge base. The example shows that the anchor text &lsquo;Sweden&rsquo; is most often used to refer to the entity [Sweden](http://en.wikipedia.org/wiki/Sweden), but in a few cases also to refer to Sweden&rsquo;s national football and ice hockey teams. Note that references are sorted in decreasing order of probability, so that the most probable pairing stands first.\n",
    "\n",
    "Implement an entity linking method that resolves each mention to the most probable entity in the data frame. If the mention is not included in the data frame, you can predict the generic label `--NME--`. Print the precision, recall, and F1 of your method using the function that you implemented for Problem&nbsp;1."
   ]
  },
  {
   "cell_type": "code",
   "execution_count": 28,
   "metadata": {},
   "outputs": [
    {
     "data": {
      "text/html": [
       "<div>\n",
       "<style scoped>\n",
       "    .dataframe tbody tr th:only-of-type {\n",
       "        vertical-align: middle;\n",
       "    }\n",
       "\n",
       "    .dataframe tbody tr th {\n",
       "        vertical-align: top;\n",
       "    }\n",
       "\n",
       "    .dataframe thead th {\n",
       "        text-align: right;\n",
       "    }\n",
       "</style>\n",
       "<table border=\"1\" class=\"dataframe\">\n",
       "  <thead>\n",
       "    <tr style=\"text-align: right;\">\n",
       "      <th></th>\n",
       "      <th>sentence_id</th>\n",
       "      <th>sentence</th>\n",
       "      <th>beg</th>\n",
       "      <th>end</th>\n",
       "      <th>label</th>\n",
       "    </tr>\n",
       "  </thead>\n",
       "  <tbody>\n",
       "    <tr>\n",
       "      <th>0</th>\n",
       "      <td>0946-000</td>\n",
       "      <td>CRICKET - LEICESTERSHIRE TAKE OVER AT TOP AFTE...</td>\n",
       "      <td>0</td>\n",
       "      <td>3</td>\n",
       "      <td>CRICKET_-_LEICESTERSHIRE</td>\n",
       "    </tr>\n",
       "    <tr>\n",
       "      <th>1</th>\n",
       "      <td>0946-001</td>\n",
       "      <td>LONDON 1996-08-30</td>\n",
       "      <td>0</td>\n",
       "      <td>1</td>\n",
       "      <td>LONDON</td>\n",
       "    </tr>\n",
       "    <tr>\n",
       "      <th>2</th>\n",
       "      <td>0946-002</td>\n",
       "      <td>West Indian all-rounder Phil Simmons took four...</td>\n",
       "      <td>0</td>\n",
       "      <td>2</td>\n",
       "      <td>West_Indian</td>\n",
       "    </tr>\n",
       "    <tr>\n",
       "      <th>3</th>\n",
       "      <td>0946-002</td>\n",
       "      <td>West Indian all-rounder Phil Simmons took four...</td>\n",
       "      <td>3</td>\n",
       "      <td>5</td>\n",
       "      <td>Phil_Simmons</td>\n",
       "    </tr>\n",
       "    <tr>\n",
       "      <th>4</th>\n",
       "      <td>0946-002</td>\n",
       "      <td>West Indian all-rounder Phil Simmons took four...</td>\n",
       "      <td>12</td>\n",
       "      <td>13</td>\n",
       "      <td>Leicestershire</td>\n",
       "    </tr>\n",
       "    <tr>\n",
       "      <th>...</th>\n",
       "      <td>...</td>\n",
       "      <td>...</td>\n",
       "      <td>...</td>\n",
       "      <td>...</td>\n",
       "      <td>...</td>\n",
       "    </tr>\n",
       "    <tr>\n",
       "      <th>4804</th>\n",
       "      <td>1161-007</td>\n",
       "      <td>Brokers said blue chips like IDLC , Bangladesh...</td>\n",
       "      <td>7</td>\n",
       "      <td>9</td>\n",
       "      <td>Bangladesh_Lamps</td>\n",
       "    </tr>\n",
       "    <tr>\n",
       "      <th>4805</th>\n",
       "      <td>1161-007</td>\n",
       "      <td>Brokers said blue chips like IDLC , Bangladesh...</td>\n",
       "      <td>10</td>\n",
       "      <td>12</td>\n",
       "      <td>Chittagong_Cement</td>\n",
       "    </tr>\n",
       "    <tr>\n",
       "      <th>4806</th>\n",
       "      <td>1161-007</td>\n",
       "      <td>Brokers said blue chips like IDLC , Bangladesh...</td>\n",
       "      <td>13</td>\n",
       "      <td>15</td>\n",
       "      <td>Atlas_Bangladesh</td>\n",
       "    </tr>\n",
       "    <tr>\n",
       "      <th>4807</th>\n",
       "      <td>1161-009</td>\n",
       "      <td>The DSE all share price index closed 2.73 poin...</td>\n",
       "      <td>1</td>\n",
       "      <td>2</td>\n",
       "      <td>DSE</td>\n",
       "    </tr>\n",
       "    <tr>\n",
       "      <th>4808</th>\n",
       "      <td>1161-010</td>\n",
       "      <td>-- Dhaka Newsroom 880-2-506363</td>\n",
       "      <td>0</td>\n",
       "      <td>4</td>\n",
       "      <td>--_Dhaka_Newsroom_880-2-506363</td>\n",
       "    </tr>\n",
       "  </tbody>\n",
       "</table>\n",
       "<p>4809 rows × 5 columns</p>\n",
       "</div>"
      ],
      "text/plain": [
       "     sentence_id                                           sentence  beg  end  \\\n",
       "0       0946-000  CRICKET - LEICESTERSHIRE TAKE OVER AT TOP AFTE...    0    3   \n",
       "1       0946-001                                  LONDON 1996-08-30    0    1   \n",
       "2       0946-002  West Indian all-rounder Phil Simmons took four...    0    2   \n",
       "3       0946-002  West Indian all-rounder Phil Simmons took four...    3    5   \n",
       "4       0946-002  West Indian all-rounder Phil Simmons took four...   12   13   \n",
       "...          ...                                                ...  ...  ...   \n",
       "4804    1161-007  Brokers said blue chips like IDLC , Bangladesh...    7    9   \n",
       "4805    1161-007  Brokers said blue chips like IDLC , Bangladesh...   10   12   \n",
       "4806    1161-007  Brokers said blue chips like IDLC , Bangladesh...   13   15   \n",
       "4807    1161-009  The DSE all share price index closed 2.73 poin...    1    2   \n",
       "4808    1161-010                     -- Dhaka Newsroom 880-2-506363    0    4   \n",
       "\n",
       "                               label  \n",
       "0           CRICKET_-_LEICESTERSHIRE  \n",
       "1                             LONDON  \n",
       "2                        West_Indian  \n",
       "3                       Phil_Simmons  \n",
       "4                     Leicestershire  \n",
       "...                              ...  \n",
       "4804                Bangladesh_Lamps  \n",
       "4805               Chittagong_Cement  \n",
       "4806                Atlas_Bangladesh  \n",
       "4807                             DSE  \n",
       "4808  --_Dhaka_Newsroom_880-2-506363  \n",
       "\n",
       "[4809 rows x 5 columns]"
      ]
     },
     "execution_count": 28,
     "metadata": {},
     "output_type": "execute_result"
    }
   ],
   "source": [
    "df_entities"
   ]
  },
  {
   "cell_type": "code",
   "execution_count": 29,
   "metadata": {},
   "outputs": [],
   "source": [
    "def most_probable_entity(df_en, df_kb):\n",
    "    labels = []\n",
    "    for row in df_en.itertuples(index=False):\n",
    "        mention = \" \".join(row.sentence.split()[row.beg:row.end])\n",
    "        try:\n",
    "            labels.append(df_kb.loc[df_kb.loc[df_kb[\"mention\"] == mention, \"prob\"].idxmax(), \"entity\"])\n",
    "        except:\n",
    "            labels.append(\"--NME--\")\n",
    "    return labels"
   ]
  },
  {
   "cell_type": "code",
   "execution_count": 30,
   "metadata": {
    "jupyter": {
     "source_hidden": true
    }
   },
   "outputs": [
    {
     "data": {
      "text/html": [
       "<div>\n",
       "<style scoped>\n",
       "    .dataframe tbody tr th:only-of-type {\n",
       "        vertical-align: middle;\n",
       "    }\n",
       "\n",
       "    .dataframe tbody tr th {\n",
       "        vertical-align: top;\n",
       "    }\n",
       "\n",
       "    .dataframe thead th {\n",
       "        text-align: right;\n",
       "    }\n",
       "</style>\n",
       "<table border=\"1\" class=\"dataframe\">\n",
       "  <thead>\n",
       "    <tr style=\"text-align: right;\">\n",
       "      <th></th>\n",
       "      <th>sentence_id</th>\n",
       "      <th>sentence</th>\n",
       "      <th>beg</th>\n",
       "      <th>end</th>\n",
       "      <th>label</th>\n",
       "    </tr>\n",
       "  </thead>\n",
       "  <tbody>\n",
       "    <tr>\n",
       "      <th>0</th>\n",
       "      <td>0946-000</td>\n",
       "      <td>CRICKET - LEICESTERSHIRE TAKE OVER AT TOP AFTE...</td>\n",
       "      <td>0</td>\n",
       "      <td>3</td>\n",
       "      <td>--NME--</td>\n",
       "    </tr>\n",
       "    <tr>\n",
       "      <th>1</th>\n",
       "      <td>0946-001</td>\n",
       "      <td>LONDON 1996-08-30</td>\n",
       "      <td>0</td>\n",
       "      <td>1</td>\n",
       "      <td>London</td>\n",
       "    </tr>\n",
       "    <tr>\n",
       "      <th>2</th>\n",
       "      <td>0946-002</td>\n",
       "      <td>West Indian all-rounder Phil Simmons took four...</td>\n",
       "      <td>0</td>\n",
       "      <td>2</td>\n",
       "      <td>West_Indies_cricket_team</td>\n",
       "    </tr>\n",
       "    <tr>\n",
       "      <th>3</th>\n",
       "      <td>0946-002</td>\n",
       "      <td>West Indian all-rounder Phil Simmons took four...</td>\n",
       "      <td>3</td>\n",
       "      <td>5</td>\n",
       "      <td>Phil_Simmons</td>\n",
       "    </tr>\n",
       "    <tr>\n",
       "      <th>4</th>\n",
       "      <td>0946-002</td>\n",
       "      <td>West Indian all-rounder Phil Simmons took four...</td>\n",
       "      <td>12</td>\n",
       "      <td>13</td>\n",
       "      <td>Leicestershire_County_Cricket_Club</td>\n",
       "    </tr>\n",
       "    <tr>\n",
       "      <th>...</th>\n",
       "      <td>...</td>\n",
       "      <td>...</td>\n",
       "      <td>...</td>\n",
       "      <td>...</td>\n",
       "      <td>...</td>\n",
       "    </tr>\n",
       "    <tr>\n",
       "      <th>4804</th>\n",
       "      <td>1161-007</td>\n",
       "      <td>Brokers said blue chips like IDLC , Bangladesh...</td>\n",
       "      <td>7</td>\n",
       "      <td>9</td>\n",
       "      <td>--NME--</td>\n",
       "    </tr>\n",
       "    <tr>\n",
       "      <th>4805</th>\n",
       "      <td>1161-007</td>\n",
       "      <td>Brokers said blue chips like IDLC , Bangladesh...</td>\n",
       "      <td>10</td>\n",
       "      <td>12</td>\n",
       "      <td>--NME--</td>\n",
       "    </tr>\n",
       "    <tr>\n",
       "      <th>4806</th>\n",
       "      <td>1161-007</td>\n",
       "      <td>Brokers said blue chips like IDLC , Bangladesh...</td>\n",
       "      <td>13</td>\n",
       "      <td>15</td>\n",
       "      <td>--NME--</td>\n",
       "    </tr>\n",
       "    <tr>\n",
       "      <th>4807</th>\n",
       "      <td>1161-009</td>\n",
       "      <td>The DSE all share price index closed 2.73 poin...</td>\n",
       "      <td>1</td>\n",
       "      <td>2</td>\n",
       "      <td>Dhaka_Stock_Exchange</td>\n",
       "    </tr>\n",
       "    <tr>\n",
       "      <th>4808</th>\n",
       "      <td>1161-010</td>\n",
       "      <td>-- Dhaka Newsroom 880-2-506363</td>\n",
       "      <td>0</td>\n",
       "      <td>4</td>\n",
       "      <td>--NME--</td>\n",
       "    </tr>\n",
       "  </tbody>\n",
       "</table>\n",
       "<p>4809 rows × 5 columns</p>\n",
       "</div>"
      ],
      "text/plain": [
       "     sentence_id                                           sentence  beg  end  \\\n",
       "0       0946-000  CRICKET - LEICESTERSHIRE TAKE OVER AT TOP AFTE...    0    3   \n",
       "1       0946-001                                  LONDON 1996-08-30    0    1   \n",
       "2       0946-002  West Indian all-rounder Phil Simmons took four...    0    2   \n",
       "3       0946-002  West Indian all-rounder Phil Simmons took four...    3    5   \n",
       "4       0946-002  West Indian all-rounder Phil Simmons took four...   12   13   \n",
       "...          ...                                                ...  ...  ...   \n",
       "4804    1161-007  Brokers said blue chips like IDLC , Bangladesh...    7    9   \n",
       "4805    1161-007  Brokers said blue chips like IDLC , Bangladesh...   10   12   \n",
       "4806    1161-007  Brokers said blue chips like IDLC , Bangladesh...   13   15   \n",
       "4807    1161-009  The DSE all share price index closed 2.73 poin...    1    2   \n",
       "4808    1161-010                     -- Dhaka Newsroom 880-2-506363    0    4   \n",
       "\n",
       "                                   label  \n",
       "0                                --NME--  \n",
       "1                                 London  \n",
       "2               West_Indies_cricket_team  \n",
       "3                           Phil_Simmons  \n",
       "4     Leicestershire_County_Cricket_Club  \n",
       "...                                  ...  \n",
       "4804                             --NME--  \n",
       "4805                             --NME--  \n",
       "4806                             --NME--  \n",
       "4807                Dhaka_Stock_Exchange  \n",
       "4808                             --NME--  \n",
       "\n",
       "[4809 rows x 5 columns]"
      ]
     },
     "execution_count": 30,
     "metadata": {},
     "output_type": "execute_result"
    }
   ],
   "source": [
    "labels = most_probable_entity(df_entities, df_kb)\n",
    "df_entities.label = labels\n",
    "df_entities"
   ]
  },
  {
   "cell_type": "code",
   "execution_count": 31,
   "metadata": {},
   "outputs": [
    {
     "name": "stdout",
     "output_type": "stream",
     "text": [
      "precision: 0.6598045331669786 \n",
      "recall:    0.5362514787899273 \n",
      "f1-score:  0.5916464665299274\n"
     ]
    }
   ],
   "source": [
    "evaluation_report(set(gold_mentions(df_dev)), set(gold_mentions(df_entities)))"
   ]
  },
  {
   "cell_type": "markdown",
   "metadata": {},
   "source": [
    "## Problem 6: Context-sensitive disambiguation"
   ]
  },
  {
   "cell_type": "markdown",
   "metadata": {},
   "source": [
    "Consider the entity mention &lsquo;Lincoln&rsquo;. The most probable entity for this mention turns out to be [Lincoln, Nebraska](http://en.wikipedia.org/Lincoln,_Nebraska); but in pages about American history, we would be better off to predict [Abraham Lincoln](http://en.wikipedia.org/Abraham_Lincoln). This suggests that we should try to disambiguate between different entity references based on the textual context on the page from which the mention was taken. Your task in this last problem is to implement this idea.\n",
    "\n",
    "Set up a dictionary that contains, for each mention $m$ that can refer to more than one entity $e$, a separate Naive Bayes classifier to predict the correct entity $e$, given the textual context of the mention. As the prior probabilities of the classifier, choose the probabilities $P(e|m)$ that you used in Problem&nbsp;5. To let you estimate the context-specific probabilities, we have compiled a data set with mention contexts:"
   ]
  },
  {
   "cell_type": "code",
   "execution_count": 32,
   "metadata": {},
   "outputs": [],
   "source": [
    "with bz2.open(\"contexts.tsv.bz2\") as source:\n",
    "    df_contexts = pd.read_csv(source, sep='\\t', quoting=csv.QUOTE_NONE)"
   ]
  },
  {
   "cell_type": "markdown",
   "metadata": {},
   "source": [
    "This data frame contains, for each ambiguous mention $m$ and each knowledge base entity $e$ to which this mention can refer, up to 100 randomly selected contexts in which $m$ is used to refer to $e$. For this data, a **context** is defined as a bag of words containing the mention itself, as well as the 5 tokens to the left and the 5 tokens to the right of the mention. Here are a few examples:"
   ]
  },
  {
   "cell_type": "code",
   "execution_count": 33,
   "metadata": {},
   "outputs": [
    {
     "data": {
      "text/html": [
       "<div>\n",
       "<style scoped>\n",
       "    .dataframe tbody tr th:only-of-type {\n",
       "        vertical-align: middle;\n",
       "    }\n",
       "\n",
       "    .dataframe tbody tr th {\n",
       "        vertical-align: top;\n",
       "    }\n",
       "\n",
       "    .dataframe thead th {\n",
       "        text-align: right;\n",
       "    }\n",
       "</style>\n",
       "<table border=\"1\" class=\"dataframe\">\n",
       "  <thead>\n",
       "    <tr style=\"text-align: right;\">\n",
       "      <th></th>\n",
       "      <th>mention</th>\n",
       "      <th>entity</th>\n",
       "      <th>context</th>\n",
       "    </tr>\n",
       "  </thead>\n",
       "  <tbody>\n",
       "    <tr>\n",
       "      <th>0</th>\n",
       "      <td>1970</td>\n",
       "      <td>UEFA_Champions_League</td>\n",
       "      <td>Cup twice the first in 1970 and the second in ...</td>\n",
       "    </tr>\n",
       "    <tr>\n",
       "      <th>1</th>\n",
       "      <td>1970</td>\n",
       "      <td>FIFA_World_Cup</td>\n",
       "      <td>America 1975 and during the 1970 and 1978 Worl...</td>\n",
       "    </tr>\n",
       "    <tr>\n",
       "      <th>2</th>\n",
       "      <td>1990 World Cup</td>\n",
       "      <td>1990_FIFA_World_Cup</td>\n",
       "      <td>Manolo represented Spain at the 1990 World Cup</td>\n",
       "    </tr>\n",
       "    <tr>\n",
       "      <th>3</th>\n",
       "      <td>1990 World Cup</td>\n",
       "      <td>1990_FIFA_World_Cup</td>\n",
       "      <td>Hašek represented Czechoslovakia at the 1990 W...</td>\n",
       "    </tr>\n",
       "    <tr>\n",
       "      <th>4</th>\n",
       "      <td>1990 World Cup</td>\n",
       "      <td>1990_FIFA_World_Cup</td>\n",
       "      <td>renovations in 1989 for the 1990 World Cup The...</td>\n",
       "    </tr>\n",
       "  </tbody>\n",
       "</table>\n",
       "</div>"
      ],
      "text/plain": [
       "          mention                 entity  \\\n",
       "0            1970  UEFA_Champions_League   \n",
       "1            1970         FIFA_World_Cup   \n",
       "2  1990 World Cup    1990_FIFA_World_Cup   \n",
       "3  1990 World Cup    1990_FIFA_World_Cup   \n",
       "4  1990 World Cup    1990_FIFA_World_Cup   \n",
       "\n",
       "                                             context  \n",
       "0  Cup twice the first in 1970 and the second in ...  \n",
       "1  America 1975 and during the 1970 and 1978 Worl...  \n",
       "2     Manolo represented Spain at the 1990 World Cup  \n",
       "3  Hašek represented Czechoslovakia at the 1990 W...  \n",
       "4  renovations in 1989 for the 1990 World Cup The...  "
      ]
     },
     "execution_count": 33,
     "metadata": {},
     "output_type": "execute_result"
    }
   ],
   "source": [
    "df_contexts.head()"
   ]
  },
  {
   "cell_type": "markdown",
   "metadata": {},
   "source": [
    "From this data frame, it is easy to select the data that you need to train the classifiers – the contexts and corresponding entities for all mentions. To illustrate this, the following cell shows how to select all contexts that belong to the mention &lsquo;Lincoln&rsquo;:"
   ]
  },
  {
   "cell_type": "code",
   "execution_count": 34,
   "metadata": {},
   "outputs": [
    {
     "data": {
      "text/plain": [
       "41465    Nebraska Concealed Handgun Permit In Lincoln m...\n",
       "41466    Lazlo restaurants are located in Lincoln and O...\n",
       "41467    California Washington Overland Park Kansas Lin...\n",
       "41468    City Missouri Omaha Nebraska and Lincoln Nebra...\n",
       "41469    by Sandhills Publishing Company in Lincoln Neb...\n",
       "                               ...                        \n",
       "41609                                Lincoln Leyton Orient\n",
       "41610               English division three Swansea Lincoln\n",
       "41611    league membership narrowly edging out Lincoln ...\n",
       "41612                                    Lincoln Cambridge\n",
       "41613                                              Lincoln\n",
       "Name: context, Length: 149, dtype: object"
      ]
     },
     "execution_count": 34,
     "metadata": {},
     "output_type": "execute_result"
    }
   ],
   "source": [
    "df_contexts.context[df_contexts.mention == \"Lincoln\"]"
   ]
  },
  {
   "cell_type": "markdown",
   "metadata": {},
   "source": [
    "Implement the context-sensitive disambiguation method and evaluate its performance. Here are some more hints that may help you along the way:\n",
    "\n",
    "**Hint 1:** The prior probabilities for a Naive Bayes classifier can be specified using the `class_prior` option. You will have to provide the probabilities in the same order as the alphabetically sorted class (entity) names.\n",
    "\n",
    "**Hint 2:** To tune the performance of your method, you can try to tweak the behaviour of the vectorizer (for example, should it apply lowercasing or not?) and the width of the window from which you are extracting context tokens at prediction time.\n",
    "\n",
    "**Hint 3:** Not all mentions in the knowledge base are ambiguous, and therefore not all mentions have context data. If a mention has only one possible entity, pick that one. If a mention has no entity at all, predict the `--NME--` label."
   ]
  },
  {
   "cell_type": "code",
   "execution_count": 35,
   "metadata": {},
   "outputs": [],
   "source": [
    "from sklearn.pipeline import make_pipeline\n",
    "from sklearn.feature_extraction.text import CountVectorizer\n",
    "from sklearn.naive_bayes import MultinomialNB"
   ]
  },
  {
   "cell_type": "code",
   "execution_count": 36,
   "metadata": {},
   "outputs": [],
   "source": [
    "mentions = df_contexts.mention.unique()\n",
    "nb_mentions = {}"
   ]
  },
  {
   "cell_type": "code",
   "execution_count": 37,
   "metadata": {},
   "outputs": [
    {
     "name": "stdout",
     "output_type": "stream",
     "text": [
      "CPU times: user 15.9 s, sys: 92.2 ms, total: 16 s\n",
      "Wall time: 16.1 s\n"
     ]
    }
   ],
   "source": [
    "%%time\n",
    "# Train NB for each mention\n",
    "for m in mentions:\n",
    "    docs = df_contexts.loc[df_contexts.mention==m, \"context\"]\n",
    "    entities = df_contexts.loc[df_contexts.mention==m, \"entity\"]\n",
    "    prior = df_kb.loc[df_kb.mention==m].sort_values(by=\"entity\").prob.values\n",
    "    pipeline = make_pipeline(CountVectorizer(),\n",
    "                            MultinomialNB(class_prior=prior))\n",
    "    pipeline.fit(docs, entities)\n",
    "    nb_mentions[m] = pipeline"
   ]
  },
  {
   "cell_type": "code",
   "execution_count": 38,
   "metadata": {},
   "outputs": [],
   "source": [
    "def naive_prediction(df_en, df_kb, nb_mentions):\n",
    "    labels = []\n",
    "    for row in df_en.itertuples(index=False):\n",
    "        mention = \" \".join(row.sentence.split()[row.beg:row.end])\n",
    "        if mention in nb_mentions.keys():\n",
    "            labels.append(nb_mentions[mention].predict([row.sentence])[0])\n",
    "        elif mention in df_kb.mention.values:\n",
    "            labels.append(df_kb.loc[df_kb.loc[df_kb[\"mention\"] == mention, \"prob\"].idxmax(), \"entity\"])\n",
    "        else:\n",
    "            labels.append(\"--NME--\")\n",
    "    return(labels)"
   ]
  },
  {
   "cell_type": "code",
   "execution_count": 39,
   "metadata": {},
   "outputs": [
    {
     "name": "stdout",
     "output_type": "stream",
     "text": [
      "CPU times: user 4.16 s, sys: 17.5 ms, total: 4.18 s\n",
      "Wall time: 4.2 s\n"
     ]
    },
    {
     "data": {
      "text/html": [
       "<div>\n",
       "<style scoped>\n",
       "    .dataframe tbody tr th:only-of-type {\n",
       "        vertical-align: middle;\n",
       "    }\n",
       "\n",
       "    .dataframe tbody tr th {\n",
       "        vertical-align: top;\n",
       "    }\n",
       "\n",
       "    .dataframe thead th {\n",
       "        text-align: right;\n",
       "    }\n",
       "</style>\n",
       "<table border=\"1\" class=\"dataframe\">\n",
       "  <thead>\n",
       "    <tr style=\"text-align: right;\">\n",
       "      <th></th>\n",
       "      <th>sentence_id</th>\n",
       "      <th>sentence</th>\n",
       "      <th>beg</th>\n",
       "      <th>end</th>\n",
       "      <th>label</th>\n",
       "    </tr>\n",
       "  </thead>\n",
       "  <tbody>\n",
       "    <tr>\n",
       "      <th>0</th>\n",
       "      <td>0946-000</td>\n",
       "      <td>CRICKET - LEICESTERSHIRE TAKE OVER AT TOP AFTE...</td>\n",
       "      <td>0</td>\n",
       "      <td>3</td>\n",
       "      <td>--NME--</td>\n",
       "    </tr>\n",
       "    <tr>\n",
       "      <th>1</th>\n",
       "      <td>0946-001</td>\n",
       "      <td>LONDON 1996-08-30</td>\n",
       "      <td>0</td>\n",
       "      <td>1</td>\n",
       "      <td>London</td>\n",
       "    </tr>\n",
       "    <tr>\n",
       "      <th>2</th>\n",
       "      <td>0946-002</td>\n",
       "      <td>West Indian all-rounder Phil Simmons took four...</td>\n",
       "      <td>0</td>\n",
       "      <td>2</td>\n",
       "      <td>Caribbean</td>\n",
       "    </tr>\n",
       "    <tr>\n",
       "      <th>3</th>\n",
       "      <td>0946-002</td>\n",
       "      <td>West Indian all-rounder Phil Simmons took four...</td>\n",
       "      <td>3</td>\n",
       "      <td>5</td>\n",
       "      <td>Phil_Simmons</td>\n",
       "    </tr>\n",
       "    <tr>\n",
       "      <th>4</th>\n",
       "      <td>0946-002</td>\n",
       "      <td>West Indian all-rounder Phil Simmons took four...</td>\n",
       "      <td>12</td>\n",
       "      <td>13</td>\n",
       "      <td>Leicestershire_County_Cricket_Club</td>\n",
       "    </tr>\n",
       "    <tr>\n",
       "      <th>...</th>\n",
       "      <td>...</td>\n",
       "      <td>...</td>\n",
       "      <td>...</td>\n",
       "      <td>...</td>\n",
       "      <td>...</td>\n",
       "    </tr>\n",
       "    <tr>\n",
       "      <th>4804</th>\n",
       "      <td>1161-007</td>\n",
       "      <td>Brokers said blue chips like IDLC , Bangladesh...</td>\n",
       "      <td>7</td>\n",
       "      <td>9</td>\n",
       "      <td>--NME--</td>\n",
       "    </tr>\n",
       "    <tr>\n",
       "      <th>4805</th>\n",
       "      <td>1161-007</td>\n",
       "      <td>Brokers said blue chips like IDLC , Bangladesh...</td>\n",
       "      <td>10</td>\n",
       "      <td>12</td>\n",
       "      <td>--NME--</td>\n",
       "    </tr>\n",
       "    <tr>\n",
       "      <th>4806</th>\n",
       "      <td>1161-007</td>\n",
       "      <td>Brokers said blue chips like IDLC , Bangladesh...</td>\n",
       "      <td>13</td>\n",
       "      <td>15</td>\n",
       "      <td>--NME--</td>\n",
       "    </tr>\n",
       "    <tr>\n",
       "      <th>4807</th>\n",
       "      <td>1161-009</td>\n",
       "      <td>The DSE all share price index closed 2.73 poin...</td>\n",
       "      <td>1</td>\n",
       "      <td>2</td>\n",
       "      <td>Dhaka_Stock_Exchange</td>\n",
       "    </tr>\n",
       "    <tr>\n",
       "      <th>4808</th>\n",
       "      <td>1161-010</td>\n",
       "      <td>-- Dhaka Newsroom 880-2-506363</td>\n",
       "      <td>0</td>\n",
       "      <td>4</td>\n",
       "      <td>--NME--</td>\n",
       "    </tr>\n",
       "  </tbody>\n",
       "</table>\n",
       "<p>4809 rows × 5 columns</p>\n",
       "</div>"
      ],
      "text/plain": [
       "     sentence_id                                           sentence  beg  end  \\\n",
       "0       0946-000  CRICKET - LEICESTERSHIRE TAKE OVER AT TOP AFTE...    0    3   \n",
       "1       0946-001                                  LONDON 1996-08-30    0    1   \n",
       "2       0946-002  West Indian all-rounder Phil Simmons took four...    0    2   \n",
       "3       0946-002  West Indian all-rounder Phil Simmons took four...    3    5   \n",
       "4       0946-002  West Indian all-rounder Phil Simmons took four...   12   13   \n",
       "...          ...                                                ...  ...  ...   \n",
       "4804    1161-007  Brokers said blue chips like IDLC , Bangladesh...    7    9   \n",
       "4805    1161-007  Brokers said blue chips like IDLC , Bangladesh...   10   12   \n",
       "4806    1161-007  Brokers said blue chips like IDLC , Bangladesh...   13   15   \n",
       "4807    1161-009  The DSE all share price index closed 2.73 poin...    1    2   \n",
       "4808    1161-010                     -- Dhaka Newsroom 880-2-506363    0    4   \n",
       "\n",
       "                                   label  \n",
       "0                                --NME--  \n",
       "1                                 London  \n",
       "2                              Caribbean  \n",
       "3                           Phil_Simmons  \n",
       "4     Leicestershire_County_Cricket_Club  \n",
       "...                                  ...  \n",
       "4804                             --NME--  \n",
       "4805                             --NME--  \n",
       "4806                             --NME--  \n",
       "4807                Dhaka_Stock_Exchange  \n",
       "4808                             --NME--  \n",
       "\n",
       "[4809 rows x 5 columns]"
      ]
     },
     "execution_count": 39,
     "metadata": {},
     "output_type": "execute_result"
    }
   ],
   "source": [
    "%%time\n",
    "labels = naive_prediction(df_entities, df_kb, nb_mentions)\n",
    "df_entities.label = labels\n",
    "df_entities"
   ]
  },
  {
   "cell_type": "code",
   "execution_count": 40,
   "metadata": {},
   "outputs": [
    {
     "name": "stdout",
     "output_type": "stream",
     "text": [
      "precision: 0.6776876689540445 \n",
      "recall:    0.5507858712185228 \n",
      "f1-score:  0.6076822673876562\n"
     ]
    }
   ],
   "source": [
    "evaluation_report(set(gold_mentions(df_dev)), set(gold_mentions(df_entities)))"
   ]
  },
  {
   "cell_type": "markdown",
   "metadata": {},
   "source": [
    "You should expect to see a small (around 1&nbsp;unit) increase in both precision, recall, and F1. Published systems report a larger impact of context-sensitive disambiguation. Feel free to think about what could explain the relatively minor impact that we see here!"
   ]
  },
  {
   "cell_type": "markdown",
   "metadata": {},
   "source": [
    "**This was the last lab in the Text Mining course. Well done!**"
   ]
  },
  {
   "cell_type": "markdown",
   "metadata": {},
   "source": [
    "<div class=\"alert alert-info\">\n",
    "    Please read the section ‘General information’ on the ‘Labs’ page of the course website before submitting this notebook!\n",
    "</div>"
   ]
  }
 ],
 "metadata": {
  "kernelspec": {
   "display_name": "Python 3",
   "language": "python",
   "name": "python3"
  },
  "language_info": {
   "codemirror_mode": {
    "name": "ipython",
    "version": 3
   },
   "file_extension": ".py",
   "mimetype": "text/x-python",
   "name": "python",
   "nbconvert_exporter": "python",
   "pygments_lexer": "ipython3",
   "version": "3.7.3"
  }
 },
 "nbformat": 4,
 "nbformat_minor": 4
}
